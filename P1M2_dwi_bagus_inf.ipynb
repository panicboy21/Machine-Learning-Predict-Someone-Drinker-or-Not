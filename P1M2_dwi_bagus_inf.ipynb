{
 "cells": [
  {
   "cell_type": "markdown",
   "metadata": {},
   "source": [
    "# Model Inference"
   ]
  },
  {
   "cell_type": "markdown",
   "metadata": {},
   "source": [
    "## Import Library"
   ]
  },
  {
   "cell_type": "code",
   "execution_count": 11,
   "metadata": {},
   "outputs": [],
   "source": [
    "import pandas as pd\n",
    "import numpy as np\n",
    "import pickle, joblib"
   ]
  },
  {
   "cell_type": "markdown",
   "metadata": {},
   "source": [
    "## Inisiasi data inference kedalam dataframe"
   ]
  },
  {
   "cell_type": "code",
   "execution_count": 5,
   "metadata": {},
   "outputs": [
    {
     "data": {
      "text/html": [
       "<div>\n",
       "<style scoped>\n",
       "    .dataframe tbody tr th:only-of-type {\n",
       "        vertical-align: middle;\n",
       "    }\n",
       "\n",
       "    .dataframe tbody tr th {\n",
       "        vertical-align: top;\n",
       "    }\n",
       "\n",
       "    .dataframe thead th {\n",
       "        text-align: right;\n",
       "    }\n",
       "</style>\n",
       "<table border=\"1\" class=\"dataframe\">\n",
       "  <thead>\n",
       "    <tr style=\"text-align: right;\">\n",
       "      <th></th>\n",
       "      <th>sex</th>\n",
       "      <th>age</th>\n",
       "      <th>height</th>\n",
       "      <th>weight</th>\n",
       "      <th>waistline</th>\n",
       "      <th>sight_left</th>\n",
       "      <th>sight_right</th>\n",
       "      <th>hear_left</th>\n",
       "      <th>hear_right</th>\n",
       "      <th>SBP</th>\n",
       "      <th>...</th>\n",
       "      <th>HDL_chole</th>\n",
       "      <th>LDL_chole</th>\n",
       "      <th>triglyceride</th>\n",
       "      <th>hemoglobin</th>\n",
       "      <th>urine_protein</th>\n",
       "      <th>serum_creatinine</th>\n",
       "      <th>SGOT_AST</th>\n",
       "      <th>SGOT_ALT</th>\n",
       "      <th>gamma_GTP</th>\n",
       "      <th>Smoking State</th>\n",
       "    </tr>\n",
       "  </thead>\n",
       "  <tbody>\n",
       "    <tr>\n",
       "      <th>0</th>\n",
       "      <td>Male</td>\n",
       "      <td>25</td>\n",
       "      <td>175</td>\n",
       "      <td>75</td>\n",
       "      <td>87</td>\n",
       "      <td>1.5</td>\n",
       "      <td>1.0</td>\n",
       "      <td>2</td>\n",
       "      <td>1</td>\n",
       "      <td>130.0</td>\n",
       "      <td>...</td>\n",
       "      <td>72.0</td>\n",
       "      <td>141.0</td>\n",
       "      <td>190.0</td>\n",
       "      <td>13.1</td>\n",
       "      <td>2.0</td>\n",
       "      <td>1.0</td>\n",
       "      <td>35.0</td>\n",
       "      <td>40.0</td>\n",
       "      <td>47.0</td>\n",
       "      <td>3</td>\n",
       "    </tr>\n",
       "    <tr>\n",
       "      <th>1</th>\n",
       "      <td>Male</td>\n",
       "      <td>30</td>\n",
       "      <td>170</td>\n",
       "      <td>80</td>\n",
       "      <td>95</td>\n",
       "      <td>1.7</td>\n",
       "      <td>1.9</td>\n",
       "      <td>1</td>\n",
       "      <td>1</td>\n",
       "      <td>132.0</td>\n",
       "      <td>...</td>\n",
       "      <td>70.0</td>\n",
       "      <td>104.0</td>\n",
       "      <td>121.0</td>\n",
       "      <td>14.5</td>\n",
       "      <td>1.0</td>\n",
       "      <td>0.7</td>\n",
       "      <td>21.0</td>\n",
       "      <td>21.0</td>\n",
       "      <td>31.0</td>\n",
       "      <td>1</td>\n",
       "    </tr>\n",
       "    <tr>\n",
       "      <th>2</th>\n",
       "      <td>Female</td>\n",
       "      <td>25</td>\n",
       "      <td>165</td>\n",
       "      <td>45</td>\n",
       "      <td>68</td>\n",
       "      <td>2.1</td>\n",
       "      <td>2.0</td>\n",
       "      <td>1</td>\n",
       "      <td>1</td>\n",
       "      <td>110.0</td>\n",
       "      <td>...</td>\n",
       "      <td>60.0</td>\n",
       "      <td>115.0</td>\n",
       "      <td>106.0</td>\n",
       "      <td>15.8</td>\n",
       "      <td>1.0</td>\n",
       "      <td>0.6</td>\n",
       "      <td>28.0</td>\n",
       "      <td>24.0</td>\n",
       "      <td>37.0</td>\n",
       "      <td>1</td>\n",
       "    </tr>\n",
       "  </tbody>\n",
       "</table>\n",
       "<p>3 rows × 23 columns</p>\n",
       "</div>"
      ],
      "text/plain": [
       "      sex  age  height  weight  waistline  sight_left  sight_right  hear_left  \\\n",
       "0    Male   25     175      75         87         1.5          1.0          2   \n",
       "1    Male   30     170      80         95         1.7          1.9          1   \n",
       "2  Female   25     165      45         68         2.1          2.0          1   \n",
       "\n",
       "   hear_right    SBP  ...  HDL_chole  LDL_chole  triglyceride  hemoglobin  \\\n",
       "0           1  130.0  ...       72.0      141.0         190.0        13.1   \n",
       "1           1  132.0  ...       70.0      104.0         121.0        14.5   \n",
       "2           1  110.0  ...       60.0      115.0         106.0        15.8   \n",
       "\n",
       "   urine_protein  serum_creatinine  SGOT_AST  SGOT_ALT  gamma_GTP  \\\n",
       "0            2.0               1.0      35.0      40.0       47.0   \n",
       "1            1.0               0.7      21.0      21.0       31.0   \n",
       "2            1.0               0.6      28.0      24.0       37.0   \n",
       "\n",
       "   Smoking State  \n",
       "0              3  \n",
       "1              1  \n",
       "2              1  \n",
       "\n",
       "[3 rows x 23 columns]"
      ]
     },
     "execution_count": 5,
     "metadata": {},
     "output_type": "execute_result"
    }
   ],
   "source": [
    "df_inference = pd.DataFrame({'sex' :['Male', 'Male', 'Female'],\n",
    "                             'age' :[25, 30, 25],\n",
    "                             'height' : [175, 170, 165],\n",
    "                             'weight' : [75, 80, 45],\n",
    "                             'waistline' : [87, 95, 68],\n",
    "                             'sight_left' : [1.5, 1.7, 2.1],\n",
    "                             'sight_right' : [1.0, 1.9, 2.0],\n",
    "                             'hear_left' : [2, 1, 1],\n",
    "                             'hear_right' : [1, 1, 1],\n",
    "                             'SBP' : [130.0, 132.0, 110.0],\n",
    "                             'DBP' : [92.0, 70.0, 67.0],\n",
    "                             'BLDS' : [121.0, 110.0, 91.0],\n",
    "                             'tot_chole' : [185.0, 170.0, 160.0],\n",
    "                             'HDL_chole' : [72.0, 70.0, 60.0],\n",
    "                             'LDL_chole' : [141.0, 104.0, 115.0],\n",
    "                             'triglyceride' : [190.0, 121.0, 106.0],\n",
    "                             'hemoglobin' : [13.1, 14.5, 15.8],\n",
    "                             'urine_protein' : [2.0, 1.0, 1.0],\n",
    "                             'serum_creatinine' : [1.0, 0.7, 0.6],\n",
    "                             'SGOT_AST' :  [35.0, 21.0, 28.0],\n",
    "                             'SGOT_ALT' : [40.0, 21.0, 24.0],\n",
    "                             'gamma_GTP' : [47.0, 31.0, 37.0],\n",
    "                             'Smoking State' : [3, 1, 1]\n",
    "                            })\n",
    "df_inference"
   ]
  },
  {
   "cell_type": "markdown",
   "metadata": {},
   "source": [
    "## Preprocessing data inference"
   ]
  },
  {
   "cell_type": "code",
   "execution_count": 6,
   "metadata": {},
   "outputs": [],
   "source": [
    "# Load Model\n",
    "with open('rf_gridcv_best.pkl', 'rb') as file_1:\n",
    "  rf_gridcv_best = pickle.load(file_1)\n",
    "\n",
    "with open('preprocessing_pipeline.pkl', 'rb') as file_2:\n",
    "  preprocessing_pipeline = pickle.load(file_2)"
   ]
  },
  {
   "cell_type": "code",
   "execution_count": 7,
   "metadata": {},
   "outputs": [],
   "source": [
    "inference_final = preprocessing_pipeline.transform(df_inference)"
   ]
  },
  {
   "cell_type": "code",
   "execution_count": 8,
   "metadata": {},
   "outputs": [
    {
     "data": {
      "text/plain": [
       "(3, 24)"
      ]
     },
     "execution_count": 8,
     "metadata": {},
     "output_type": "execute_result"
    }
   ],
   "source": [
    "inference_final.shape"
   ]
  },
  {
   "cell_type": "code",
   "execution_count": 9,
   "metadata": {},
   "outputs": [
    {
     "data": {
      "text/plain": [
       "array([[ 0.55555556,  0.56308655,  0.53846154,  0.34615385,  0.70588235,\n",
       "         0.45722714,  0.568     ,  0.51470588,  0.45432692,  0.5       ,\n",
       "         0.62962963,  0.55714286,  0.42990654, -1.59431789,  1.37457753,\n",
       "         0.53415657,  1.64391299, -0.72922881,  0.        ,  1.        ,\n",
       "         2.        ,  1.        ,  2.        ,  3.        ],\n",
       "       [ 0.61111111,  0.64650678,  0.61538462,  0.69230769,  0.61344538,\n",
       "         0.41297935,  0.552     ,  0.37867647,  0.28846154,  0.33333333,\n",
       "         0.37037037,  0.28571429,  0.28037383, -1.2419253 ,  0.83603391,\n",
       "         0.67404847, -0.61762591,  0.16895446,  0.        ,  1.        ,\n",
       "         1.        ,  1.        ,  1.        ,  1.        ],\n",
       "       [ 0.22222222,  0.3649635 ,  0.76923077,  0.73076923,  0.45378151,\n",
       "         0.38348083,  0.472     ,  0.41911765,  0.25240385,  0.27777778,\n",
       "         0.5       ,  0.32857143,  0.3364486 , -1.59431789,  0.2974903 ,\n",
       "        -0.86476243, -0.92601758,  1.00298179,  1.        ,  0.        ,\n",
       "         1.        ,  1.        ,  1.        ,  1.        ]])"
      ]
     },
     "execution_count": 9,
     "metadata": {},
     "output_type": "execute_result"
    }
   ],
   "source": [
    "inference_final"
   ]
  },
  {
   "cell_type": "markdown",
   "metadata": {},
   "source": [
    "## Predict data inference"
   ]
  },
  {
   "cell_type": "code",
   "execution_count": 10,
   "metadata": {},
   "outputs": [
    {
     "data": {
      "text/plain": [
       "array([1, 1, 1], dtype=int64)"
      ]
     },
     "execution_count": 10,
     "metadata": {},
     "output_type": "execute_result"
    }
   ],
   "source": [
    "# Predict Model against Inference\n",
    "\n",
    "y_pred_inference = rf_gridcv_best.predict(inference_final)\n",
    "y_pred_inference"
   ]
  },
  {
   "cell_type": "markdown",
   "metadata": {},
   "source": [
    "Dari data inference dapat diprediksi bahwa semua orang dalam data inference merupakan Drinker"
   ]
  }
 ],
 "metadata": {
  "kernelspec": {
   "display_name": "base",
   "language": "python",
   "name": "python3"
  },
  "language_info": {
   "codemirror_mode": {
    "name": "ipython",
    "version": 3
   },
   "file_extension": ".py",
   "mimetype": "text/x-python",
   "name": "python",
   "nbconvert_exporter": "python",
   "pygments_lexer": "ipython3",
   "version": "3.11.5"
  }
 },
 "nbformat": 4,
 "nbformat_minor": 2
}
