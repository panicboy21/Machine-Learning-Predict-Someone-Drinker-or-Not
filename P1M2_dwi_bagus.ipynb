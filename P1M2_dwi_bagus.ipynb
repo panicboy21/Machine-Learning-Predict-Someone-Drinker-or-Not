{
  "cells": [
    {
      "cell_type": "markdown",
      "metadata": {
        "id": "OEjTs41n_dQp"
      },
      "source": [
        "# 1. Perkenalan"
      ]
    },
    {
      "cell_type": "markdown",
      "metadata": {
        "id": "mdSa3dSF_jYr"
      },
      "source": [
        "Nama    : Dwi Bagus Prasetyo\n",
        "\n",
        "Batch   : FTDS RMT-027\n",
        "\n",
        "Objective : Memprediksi seseorang apakah seorang Peminum atau tidak berdasarkan body signal orang tersebut."
      ]
    },
    {
      "cell_type": "markdown",
      "metadata": {},
      "source": [
        "Details of dataset:\n",
        "| Column | Description |\n",
        "| --- | --- |\n",
        "| Sex | male, female |\n",
        "| age | round up to 5 years\t|\n",
        "| height | round up to 5 cm [cm] |\n",
        "| weight | [kg] |\n",
        "| sight_left | eyesight(left) |\n",
        "| sight_right | eyesight(right) |\n",
        "| hear_left | hearing left, 1(normal), 2(abnormal) |\n",
        "| hear_right | hearing right, 1(normal), 2(abnormal) |\n",
        "| SBP | Systolic blood pressure[mmHg] |\n",
        "| DBP | Diastolic blood pressure[mmHg] |\n",
        "| BLDS | BLDS or FSG(fasting blood glucose)[mg/dL] |\n",
        "| tot_chole | total cholesterol[mg/dL] |\n",
        "| HDL_chole | HDL cholesterol[mg/dL] |\n",
        "| LDL_chole | LDL cholesterol[mg/dL] |\n",
        "| triglyceride | triglyceride[mg/dL] |\n",
        "| hemoglobin | hemoglobin[g/dL] |\n",
        "| urine_protein | protein in urine, 1(-), 2(+/-), 3(+1), 4(+2), 5(+3), 6(+4) |\n",
        "| serum_creatinine | serum(blood) creatinine[mg/dL] |\n",
        "| SGOT_AST | SGOT(Glutamate-oxaloacetate transaminase) AST(Aspartate transaminase)[IU/L] |\n",
        "| SGOT_ALT | ALT(Alanine transaminase)[IU/L] |\n",
        "| gamma_GTP | y-glutamyl transpeptidase[IU/L] |\n",
        "| SMK_stat_type_cd | Smoking state, 1(never), 2(used to smoke but quit), 3(still smoke) |\n",
        "| DRK_YN | Drinker or Not |"
      ]
    },
    {
      "cell_type": "markdown",
      "metadata": {
        "id": "yL4Rq-_w_qNm"
      },
      "source": [
        "# 2. Import Library"
      ]
    },
    {
      "cell_type": "code",
      "execution_count": 2,
      "metadata": {
        "id": "3GMQazNR_ZdQ"
      },
      "outputs": [],
      "source": [
        "import pandas as pd\n",
        "import numpy as np\n",
        "import seaborn as sns\n",
        "import matplotlib.pyplot as plt\n",
        "import random\n",
        "\n",
        "# Preprocessing\n",
        "from sklearn.model_selection import train_test_split, GridSearchCV\n",
        "from feature_engine.outliers import Winsorizer\n",
        "from scipy.stats import kendalltau\n",
        "from sklearn.preprocessing import StandardScaler, MinMaxScaler, OneHotEncoder\n",
        "from sklearn.pipeline import make_pipeline\n",
        "from sklearn.compose import ColumnTransformer\n",
        "\n",
        "# Model\n",
        "from sklearn.neighbors import KNeighborsClassifier\n",
        "from sklearn.svm import SVC\n",
        "from sklearn.tree import DecisionTreeClassifier\n",
        "from sklearn.ensemble import RandomForestClassifier\n",
        "from sklearn.ensemble import AdaBoostClassifier\n",
        "\n",
        "\n",
        "#evaluasi\n",
        "from sklearn.metrics import classification_report, ConfusionMatrixDisplay, f1_score, accuracy_score, precision_score, recall_score\n",
        "from sklearn.model_selection import cross_val_score"
      ]
    },
    {
      "cell_type": "markdown",
      "metadata": {
        "id": "NIxI32Jm_sbD"
      },
      "source": [
        "# 3. Data Loading"
      ]
    },
    {
      "cell_type": "code",
      "execution_count": 3,
      "metadata": {},
      "outputs": [],
      "source": [
        "# load file csv to dataframe\n",
        "df = pd.read_csv('smoking_driking_dataset_Ver01.csv')"
      ]
    },
    {
      "cell_type": "code",
      "execution_count": 4,
      "metadata": {},
      "outputs": [
        {
          "data": {
            "text/html": [
              "<div>\n",
              "<style scoped>\n",
              "    .dataframe tbody tr th:only-of-type {\n",
              "        vertical-align: middle;\n",
              "    }\n",
              "\n",
              "    .dataframe tbody tr th {\n",
              "        vertical-align: top;\n",
              "    }\n",
              "\n",
              "    .dataframe thead th {\n",
              "        text-align: right;\n",
              "    }\n",
              "</style>\n",
              "<table border=\"1\" class=\"dataframe\">\n",
              "  <thead>\n",
              "    <tr style=\"text-align: right;\">\n",
              "      <th></th>\n",
              "      <th>sex</th>\n",
              "      <th>age</th>\n",
              "      <th>height</th>\n",
              "      <th>weight</th>\n",
              "      <th>waistline</th>\n",
              "      <th>sight_left</th>\n",
              "      <th>sight_right</th>\n",
              "      <th>hear_left</th>\n",
              "      <th>hear_right</th>\n",
              "      <th>SBP</th>\n",
              "      <th>...</th>\n",
              "      <th>LDL_chole</th>\n",
              "      <th>triglyceride</th>\n",
              "      <th>hemoglobin</th>\n",
              "      <th>urine_protein</th>\n",
              "      <th>serum_creatinine</th>\n",
              "      <th>SGOT_AST</th>\n",
              "      <th>SGOT_ALT</th>\n",
              "      <th>gamma_GTP</th>\n",
              "      <th>SMK_stat_type_cd</th>\n",
              "      <th>DRK_YN</th>\n",
              "    </tr>\n",
              "  </thead>\n",
              "  <tbody>\n",
              "    <tr>\n",
              "      <th>0</th>\n",
              "      <td>Male</td>\n",
              "      <td>35</td>\n",
              "      <td>170</td>\n",
              "      <td>75</td>\n",
              "      <td>90.0</td>\n",
              "      <td>1.0</td>\n",
              "      <td>1.0</td>\n",
              "      <td>1.0</td>\n",
              "      <td>1.0</td>\n",
              "      <td>120.0</td>\n",
              "      <td>...</td>\n",
              "      <td>126.0</td>\n",
              "      <td>92.0</td>\n",
              "      <td>17.1</td>\n",
              "      <td>1.0</td>\n",
              "      <td>1.0</td>\n",
              "      <td>21.0</td>\n",
              "      <td>35.0</td>\n",
              "      <td>40.0</td>\n",
              "      <td>1.0</td>\n",
              "      <td>Y</td>\n",
              "    </tr>\n",
              "    <tr>\n",
              "      <th>1</th>\n",
              "      <td>Male</td>\n",
              "      <td>30</td>\n",
              "      <td>180</td>\n",
              "      <td>80</td>\n",
              "      <td>89.0</td>\n",
              "      <td>0.9</td>\n",
              "      <td>1.2</td>\n",
              "      <td>1.0</td>\n",
              "      <td>1.0</td>\n",
              "      <td>130.0</td>\n",
              "      <td>...</td>\n",
              "      <td>148.0</td>\n",
              "      <td>121.0</td>\n",
              "      <td>15.8</td>\n",
              "      <td>1.0</td>\n",
              "      <td>0.9</td>\n",
              "      <td>20.0</td>\n",
              "      <td>36.0</td>\n",
              "      <td>27.0</td>\n",
              "      <td>3.0</td>\n",
              "      <td>N</td>\n",
              "    </tr>\n",
              "    <tr>\n",
              "      <th>2</th>\n",
              "      <td>Male</td>\n",
              "      <td>40</td>\n",
              "      <td>165</td>\n",
              "      <td>75</td>\n",
              "      <td>91.0</td>\n",
              "      <td>1.2</td>\n",
              "      <td>1.5</td>\n",
              "      <td>1.0</td>\n",
              "      <td>1.0</td>\n",
              "      <td>120.0</td>\n",
              "      <td>...</td>\n",
              "      <td>74.0</td>\n",
              "      <td>104.0</td>\n",
              "      <td>15.8</td>\n",
              "      <td>1.0</td>\n",
              "      <td>0.9</td>\n",
              "      <td>47.0</td>\n",
              "      <td>32.0</td>\n",
              "      <td>68.0</td>\n",
              "      <td>1.0</td>\n",
              "      <td>N</td>\n",
              "    </tr>\n",
              "    <tr>\n",
              "      <th>3</th>\n",
              "      <td>Male</td>\n",
              "      <td>50</td>\n",
              "      <td>175</td>\n",
              "      <td>80</td>\n",
              "      <td>91.0</td>\n",
              "      <td>1.5</td>\n",
              "      <td>1.2</td>\n",
              "      <td>1.0</td>\n",
              "      <td>1.0</td>\n",
              "      <td>145.0</td>\n",
              "      <td>...</td>\n",
              "      <td>104.0</td>\n",
              "      <td>106.0</td>\n",
              "      <td>17.6</td>\n",
              "      <td>1.0</td>\n",
              "      <td>1.1</td>\n",
              "      <td>29.0</td>\n",
              "      <td>34.0</td>\n",
              "      <td>18.0</td>\n",
              "      <td>1.0</td>\n",
              "      <td>N</td>\n",
              "    </tr>\n",
              "    <tr>\n",
              "      <th>4</th>\n",
              "      <td>Male</td>\n",
              "      <td>50</td>\n",
              "      <td>165</td>\n",
              "      <td>60</td>\n",
              "      <td>80.0</td>\n",
              "      <td>1.0</td>\n",
              "      <td>1.2</td>\n",
              "      <td>1.0</td>\n",
              "      <td>1.0</td>\n",
              "      <td>138.0</td>\n",
              "      <td>...</td>\n",
              "      <td>117.0</td>\n",
              "      <td>104.0</td>\n",
              "      <td>13.8</td>\n",
              "      <td>1.0</td>\n",
              "      <td>0.8</td>\n",
              "      <td>19.0</td>\n",
              "      <td>12.0</td>\n",
              "      <td>25.0</td>\n",
              "      <td>1.0</td>\n",
              "      <td>N</td>\n",
              "    </tr>\n",
              "    <tr>\n",
              "      <th>5</th>\n",
              "      <td>Male</td>\n",
              "      <td>50</td>\n",
              "      <td>165</td>\n",
              "      <td>55</td>\n",
              "      <td>75.0</td>\n",
              "      <td>1.2</td>\n",
              "      <td>1.5</td>\n",
              "      <td>1.0</td>\n",
              "      <td>1.0</td>\n",
              "      <td>142.0</td>\n",
              "      <td>...</td>\n",
              "      <td>95.0</td>\n",
              "      <td>232.0</td>\n",
              "      <td>13.8</td>\n",
              "      <td>3.0</td>\n",
              "      <td>0.8</td>\n",
              "      <td>29.0</td>\n",
              "      <td>40.0</td>\n",
              "      <td>37.0</td>\n",
              "      <td>3.0</td>\n",
              "      <td>Y</td>\n",
              "    </tr>\n",
              "    <tr>\n",
              "      <th>6</th>\n",
              "      <td>Female</td>\n",
              "      <td>45</td>\n",
              "      <td>150</td>\n",
              "      <td>55</td>\n",
              "      <td>69.0</td>\n",
              "      <td>0.5</td>\n",
              "      <td>0.4</td>\n",
              "      <td>1.0</td>\n",
              "      <td>1.0</td>\n",
              "      <td>101.0</td>\n",
              "      <td>...</td>\n",
              "      <td>115.0</td>\n",
              "      <td>75.0</td>\n",
              "      <td>12.3</td>\n",
              "      <td>1.0</td>\n",
              "      <td>0.8</td>\n",
              "      <td>19.0</td>\n",
              "      <td>12.0</td>\n",
              "      <td>12.0</td>\n",
              "      <td>1.0</td>\n",
              "      <td>N</td>\n",
              "    </tr>\n",
              "    <tr>\n",
              "      <th>7</th>\n",
              "      <td>Male</td>\n",
              "      <td>35</td>\n",
              "      <td>175</td>\n",
              "      <td>65</td>\n",
              "      <td>84.2</td>\n",
              "      <td>1.2</td>\n",
              "      <td>1.0</td>\n",
              "      <td>1.0</td>\n",
              "      <td>1.0</td>\n",
              "      <td>132.0</td>\n",
              "      <td>...</td>\n",
              "      <td>107.0</td>\n",
              "      <td>101.0</td>\n",
              "      <td>14.4</td>\n",
              "      <td>1.0</td>\n",
              "      <td>0.8</td>\n",
              "      <td>18.0</td>\n",
              "      <td>18.0</td>\n",
              "      <td>35.0</td>\n",
              "      <td>3.0</td>\n",
              "      <td>Y</td>\n",
              "    </tr>\n",
              "    <tr>\n",
              "      <th>8</th>\n",
              "      <td>Male</td>\n",
              "      <td>55</td>\n",
              "      <td>170</td>\n",
              "      <td>75</td>\n",
              "      <td>84.0</td>\n",
              "      <td>1.2</td>\n",
              "      <td>0.9</td>\n",
              "      <td>1.0</td>\n",
              "      <td>1.0</td>\n",
              "      <td>145.0</td>\n",
              "      <td>...</td>\n",
              "      <td>141.0</td>\n",
              "      <td>100.0</td>\n",
              "      <td>15.1</td>\n",
              "      <td>1.0</td>\n",
              "      <td>0.8</td>\n",
              "      <td>32.0</td>\n",
              "      <td>23.0</td>\n",
              "      <td>26.0</td>\n",
              "      <td>1.0</td>\n",
              "      <td>Y</td>\n",
              "    </tr>\n",
              "    <tr>\n",
              "      <th>9</th>\n",
              "      <td>Male</td>\n",
              "      <td>40</td>\n",
              "      <td>175</td>\n",
              "      <td>75</td>\n",
              "      <td>82.0</td>\n",
              "      <td>1.5</td>\n",
              "      <td>1.5</td>\n",
              "      <td>1.0</td>\n",
              "      <td>1.0</td>\n",
              "      <td>132.0</td>\n",
              "      <td>...</td>\n",
              "      <td>118.0</td>\n",
              "      <td>83.0</td>\n",
              "      <td>13.9</td>\n",
              "      <td>1.0</td>\n",
              "      <td>0.9</td>\n",
              "      <td>21.0</td>\n",
              "      <td>38.0</td>\n",
              "      <td>16.0</td>\n",
              "      <td>2.0</td>\n",
              "      <td>Y</td>\n",
              "    </tr>\n",
              "  </tbody>\n",
              "</table>\n",
              "<p>10 rows × 24 columns</p>\n",
              "</div>"
            ],
            "text/plain": [
              "      sex  age  height  weight  waistline  sight_left  sight_right  hear_left  \\\n",
              "0    Male   35     170      75       90.0         1.0          1.0        1.0   \n",
              "1    Male   30     180      80       89.0         0.9          1.2        1.0   \n",
              "2    Male   40     165      75       91.0         1.2          1.5        1.0   \n",
              "3    Male   50     175      80       91.0         1.5          1.2        1.0   \n",
              "4    Male   50     165      60       80.0         1.0          1.2        1.0   \n",
              "5    Male   50     165      55       75.0         1.2          1.5        1.0   \n",
              "6  Female   45     150      55       69.0         0.5          0.4        1.0   \n",
              "7    Male   35     175      65       84.2         1.2          1.0        1.0   \n",
              "8    Male   55     170      75       84.0         1.2          0.9        1.0   \n",
              "9    Male   40     175      75       82.0         1.5          1.5        1.0   \n",
              "\n",
              "   hear_right    SBP  ...  LDL_chole  triglyceride  hemoglobin  urine_protein  \\\n",
              "0         1.0  120.0  ...      126.0          92.0        17.1            1.0   \n",
              "1         1.0  130.0  ...      148.0         121.0        15.8            1.0   \n",
              "2         1.0  120.0  ...       74.0         104.0        15.8            1.0   \n",
              "3         1.0  145.0  ...      104.0         106.0        17.6            1.0   \n",
              "4         1.0  138.0  ...      117.0         104.0        13.8            1.0   \n",
              "5         1.0  142.0  ...       95.0         232.0        13.8            3.0   \n",
              "6         1.0  101.0  ...      115.0          75.0        12.3            1.0   \n",
              "7         1.0  132.0  ...      107.0         101.0        14.4            1.0   \n",
              "8         1.0  145.0  ...      141.0         100.0        15.1            1.0   \n",
              "9         1.0  132.0  ...      118.0          83.0        13.9            1.0   \n",
              "\n",
              "   serum_creatinine  SGOT_AST  SGOT_ALT  gamma_GTP  SMK_stat_type_cd  DRK_YN  \n",
              "0               1.0      21.0      35.0       40.0               1.0       Y  \n",
              "1               0.9      20.0      36.0       27.0               3.0       N  \n",
              "2               0.9      47.0      32.0       68.0               1.0       N  \n",
              "3               1.1      29.0      34.0       18.0               1.0       N  \n",
              "4               0.8      19.0      12.0       25.0               1.0       N  \n",
              "5               0.8      29.0      40.0       37.0               3.0       Y  \n",
              "6               0.8      19.0      12.0       12.0               1.0       N  \n",
              "7               0.8      18.0      18.0       35.0               3.0       Y  \n",
              "8               0.8      32.0      23.0       26.0               1.0       Y  \n",
              "9               0.9      21.0      38.0       16.0               2.0       Y  \n",
              "\n",
              "[10 rows x 24 columns]"
            ]
          },
          "execution_count": 4,
          "metadata": {},
          "output_type": "execute_result"
        }
      ],
      "source": [
        "# tampilkan 10 baris teratas\n",
        "df.head(10)"
      ]
    },
    {
      "cell_type": "code",
      "execution_count": 5,
      "metadata": {},
      "outputs": [
        {
          "data": {
            "text/html": [
              "<div>\n",
              "<style scoped>\n",
              "    .dataframe tbody tr th:only-of-type {\n",
              "        vertical-align: middle;\n",
              "    }\n",
              "\n",
              "    .dataframe tbody tr th {\n",
              "        vertical-align: top;\n",
              "    }\n",
              "\n",
              "    .dataframe thead th {\n",
              "        text-align: right;\n",
              "    }\n",
              "</style>\n",
              "<table border=\"1\" class=\"dataframe\">\n",
              "  <thead>\n",
              "    <tr style=\"text-align: right;\">\n",
              "      <th></th>\n",
              "      <th>sex</th>\n",
              "      <th>age</th>\n",
              "      <th>height</th>\n",
              "      <th>weight</th>\n",
              "      <th>waistline</th>\n",
              "      <th>sight_left</th>\n",
              "      <th>sight_right</th>\n",
              "      <th>hear_left</th>\n",
              "      <th>hear_right</th>\n",
              "      <th>SBP</th>\n",
              "      <th>...</th>\n",
              "      <th>LDL_chole</th>\n",
              "      <th>triglyceride</th>\n",
              "      <th>hemoglobin</th>\n",
              "      <th>urine_protein</th>\n",
              "      <th>serum_creatinine</th>\n",
              "      <th>SGOT_AST</th>\n",
              "      <th>SGOT_ALT</th>\n",
              "      <th>gamma_GTP</th>\n",
              "      <th>SMK_stat_type_cd</th>\n",
              "      <th>DRK_YN</th>\n",
              "    </tr>\n",
              "  </thead>\n",
              "  <tbody>\n",
              "    <tr>\n",
              "      <th>991336</th>\n",
              "      <td>Male</td>\n",
              "      <td>80</td>\n",
              "      <td>170</td>\n",
              "      <td>60</td>\n",
              "      <td>74.0</td>\n",
              "      <td>1.0</td>\n",
              "      <td>0.9</td>\n",
              "      <td>1.0</td>\n",
              "      <td>1.0</td>\n",
              "      <td>139.0</td>\n",
              "      <td>...</td>\n",
              "      <td>84.0</td>\n",
              "      <td>57.0</td>\n",
              "      <td>12.0</td>\n",
              "      <td>1.0</td>\n",
              "      <td>1.2</td>\n",
              "      <td>18.0</td>\n",
              "      <td>11.0</td>\n",
              "      <td>15.0</td>\n",
              "      <td>2.0</td>\n",
              "      <td>Y</td>\n",
              "    </tr>\n",
              "    <tr>\n",
              "      <th>991337</th>\n",
              "      <td>Female</td>\n",
              "      <td>35</td>\n",
              "      <td>165</td>\n",
              "      <td>70</td>\n",
              "      <td>81.0</td>\n",
              "      <td>1.0</td>\n",
              "      <td>1.0</td>\n",
              "      <td>1.0</td>\n",
              "      <td>1.0</td>\n",
              "      <td>113.0</td>\n",
              "      <td>...</td>\n",
              "      <td>92.0</td>\n",
              "      <td>88.0</td>\n",
              "      <td>13.3</td>\n",
              "      <td>1.0</td>\n",
              "      <td>0.7</td>\n",
              "      <td>20.0</td>\n",
              "      <td>17.0</td>\n",
              "      <td>12.0</td>\n",
              "      <td>1.0</td>\n",
              "      <td>N</td>\n",
              "    </tr>\n",
              "    <tr>\n",
              "      <th>991338</th>\n",
              "      <td>Male</td>\n",
              "      <td>20</td>\n",
              "      <td>175</td>\n",
              "      <td>65</td>\n",
              "      <td>74.5</td>\n",
              "      <td>1.0</td>\n",
              "      <td>1.5</td>\n",
              "      <td>1.0</td>\n",
              "      <td>1.0</td>\n",
              "      <td>105.0</td>\n",
              "      <td>...</td>\n",
              "      <td>120.0</td>\n",
              "      <td>92.0</td>\n",
              "      <td>15.4</td>\n",
              "      <td>1.0</td>\n",
              "      <td>0.8</td>\n",
              "      <td>25.0</td>\n",
              "      <td>26.0</td>\n",
              "      <td>50.0</td>\n",
              "      <td>2.0</td>\n",
              "      <td>Y</td>\n",
              "    </tr>\n",
              "    <tr>\n",
              "      <th>991339</th>\n",
              "      <td>Male</td>\n",
              "      <td>70</td>\n",
              "      <td>165</td>\n",
              "      <td>60</td>\n",
              "      <td>78.0</td>\n",
              "      <td>0.9</td>\n",
              "      <td>0.8</td>\n",
              "      <td>1.0</td>\n",
              "      <td>1.0</td>\n",
              "      <td>137.0</td>\n",
              "      <td>...</td>\n",
              "      <td>89.0</td>\n",
              "      <td>105.0</td>\n",
              "      <td>16.1</td>\n",
              "      <td>1.0</td>\n",
              "      <td>1.0</td>\n",
              "      <td>23.0</td>\n",
              "      <td>13.0</td>\n",
              "      <td>32.0</td>\n",
              "      <td>1.0</td>\n",
              "      <td>Y</td>\n",
              "    </tr>\n",
              "    <tr>\n",
              "      <th>991340</th>\n",
              "      <td>Female</td>\n",
              "      <td>50</td>\n",
              "      <td>150</td>\n",
              "      <td>50</td>\n",
              "      <td>72.6</td>\n",
              "      <td>1.0</td>\n",
              "      <td>1.0</td>\n",
              "      <td>1.0</td>\n",
              "      <td>1.0</td>\n",
              "      <td>116.0</td>\n",
              "      <td>...</td>\n",
              "      <td>105.0</td>\n",
              "      <td>125.0</td>\n",
              "      <td>15.2</td>\n",
              "      <td>1.0</td>\n",
              "      <td>0.8</td>\n",
              "      <td>28.0</td>\n",
              "      <td>26.0</td>\n",
              "      <td>29.0</td>\n",
              "      <td>1.0</td>\n",
              "      <td>N</td>\n",
              "    </tr>\n",
              "    <tr>\n",
              "      <th>991341</th>\n",
              "      <td>Male</td>\n",
              "      <td>45</td>\n",
              "      <td>175</td>\n",
              "      <td>80</td>\n",
              "      <td>92.1</td>\n",
              "      <td>1.5</td>\n",
              "      <td>1.5</td>\n",
              "      <td>1.0</td>\n",
              "      <td>1.0</td>\n",
              "      <td>114.0</td>\n",
              "      <td>...</td>\n",
              "      <td>125.0</td>\n",
              "      <td>132.0</td>\n",
              "      <td>15.0</td>\n",
              "      <td>1.0</td>\n",
              "      <td>1.0</td>\n",
              "      <td>26.0</td>\n",
              "      <td>36.0</td>\n",
              "      <td>27.0</td>\n",
              "      <td>1.0</td>\n",
              "      <td>N</td>\n",
              "    </tr>\n",
              "    <tr>\n",
              "      <th>991342</th>\n",
              "      <td>Male</td>\n",
              "      <td>35</td>\n",
              "      <td>170</td>\n",
              "      <td>75</td>\n",
              "      <td>86.0</td>\n",
              "      <td>1.0</td>\n",
              "      <td>1.5</td>\n",
              "      <td>1.0</td>\n",
              "      <td>1.0</td>\n",
              "      <td>119.0</td>\n",
              "      <td>...</td>\n",
              "      <td>84.0</td>\n",
              "      <td>45.0</td>\n",
              "      <td>15.8</td>\n",
              "      <td>1.0</td>\n",
              "      <td>1.1</td>\n",
              "      <td>14.0</td>\n",
              "      <td>17.0</td>\n",
              "      <td>15.0</td>\n",
              "      <td>1.0</td>\n",
              "      <td>N</td>\n",
              "    </tr>\n",
              "    <tr>\n",
              "      <th>991343</th>\n",
              "      <td>Female</td>\n",
              "      <td>40</td>\n",
              "      <td>155</td>\n",
              "      <td>50</td>\n",
              "      <td>68.0</td>\n",
              "      <td>1.0</td>\n",
              "      <td>0.7</td>\n",
              "      <td>1.0</td>\n",
              "      <td>1.0</td>\n",
              "      <td>110.0</td>\n",
              "      <td>...</td>\n",
              "      <td>77.0</td>\n",
              "      <td>157.0</td>\n",
              "      <td>14.3</td>\n",
              "      <td>1.0</td>\n",
              "      <td>0.8</td>\n",
              "      <td>30.0</td>\n",
              "      <td>27.0</td>\n",
              "      <td>17.0</td>\n",
              "      <td>3.0</td>\n",
              "      <td>Y</td>\n",
              "    </tr>\n",
              "    <tr>\n",
              "      <th>991344</th>\n",
              "      <td>Male</td>\n",
              "      <td>25</td>\n",
              "      <td>175</td>\n",
              "      <td>60</td>\n",
              "      <td>72.0</td>\n",
              "      <td>1.5</td>\n",
              "      <td>1.0</td>\n",
              "      <td>1.0</td>\n",
              "      <td>1.0</td>\n",
              "      <td>119.0</td>\n",
              "      <td>...</td>\n",
              "      <td>73.0</td>\n",
              "      <td>53.0</td>\n",
              "      <td>14.5</td>\n",
              "      <td>1.0</td>\n",
              "      <td>0.8</td>\n",
              "      <td>21.0</td>\n",
              "      <td>14.0</td>\n",
              "      <td>17.0</td>\n",
              "      <td>1.0</td>\n",
              "      <td>N</td>\n",
              "    </tr>\n",
              "    <tr>\n",
              "      <th>991345</th>\n",
              "      <td>Male</td>\n",
              "      <td>50</td>\n",
              "      <td>160</td>\n",
              "      <td>70</td>\n",
              "      <td>90.5</td>\n",
              "      <td>1.0</td>\n",
              "      <td>1.5</td>\n",
              "      <td>1.0</td>\n",
              "      <td>1.0</td>\n",
              "      <td>133.0</td>\n",
              "      <td>...</td>\n",
              "      <td>153.0</td>\n",
              "      <td>163.0</td>\n",
              "      <td>15.8</td>\n",
              "      <td>1.0</td>\n",
              "      <td>0.9</td>\n",
              "      <td>24.0</td>\n",
              "      <td>43.0</td>\n",
              "      <td>36.0</td>\n",
              "      <td>3.0</td>\n",
              "      <td>Y</td>\n",
              "    </tr>\n",
              "  </tbody>\n",
              "</table>\n",
              "<p>10 rows × 24 columns</p>\n",
              "</div>"
            ],
            "text/plain": [
              "           sex  age  height  weight  waistline  sight_left  sight_right  \\\n",
              "991336    Male   80     170      60       74.0         1.0          0.9   \n",
              "991337  Female   35     165      70       81.0         1.0          1.0   \n",
              "991338    Male   20     175      65       74.5         1.0          1.5   \n",
              "991339    Male   70     165      60       78.0         0.9          0.8   \n",
              "991340  Female   50     150      50       72.6         1.0          1.0   \n",
              "991341    Male   45     175      80       92.1         1.5          1.5   \n",
              "991342    Male   35     170      75       86.0         1.0          1.5   \n",
              "991343  Female   40     155      50       68.0         1.0          0.7   \n",
              "991344    Male   25     175      60       72.0         1.5          1.0   \n",
              "991345    Male   50     160      70       90.5         1.0          1.5   \n",
              "\n",
              "        hear_left  hear_right    SBP  ...  LDL_chole  triglyceride  \\\n",
              "991336        1.0         1.0  139.0  ...       84.0          57.0   \n",
              "991337        1.0         1.0  113.0  ...       92.0          88.0   \n",
              "991338        1.0         1.0  105.0  ...      120.0          92.0   \n",
              "991339        1.0         1.0  137.0  ...       89.0         105.0   \n",
              "991340        1.0         1.0  116.0  ...      105.0         125.0   \n",
              "991341        1.0         1.0  114.0  ...      125.0         132.0   \n",
              "991342        1.0         1.0  119.0  ...       84.0          45.0   \n",
              "991343        1.0         1.0  110.0  ...       77.0         157.0   \n",
              "991344        1.0         1.0  119.0  ...       73.0          53.0   \n",
              "991345        1.0         1.0  133.0  ...      153.0         163.0   \n",
              "\n",
              "        hemoglobin  urine_protein  serum_creatinine  SGOT_AST  SGOT_ALT  \\\n",
              "991336        12.0            1.0               1.2      18.0      11.0   \n",
              "991337        13.3            1.0               0.7      20.0      17.0   \n",
              "991338        15.4            1.0               0.8      25.0      26.0   \n",
              "991339        16.1            1.0               1.0      23.0      13.0   \n",
              "991340        15.2            1.0               0.8      28.0      26.0   \n",
              "991341        15.0            1.0               1.0      26.0      36.0   \n",
              "991342        15.8            1.0               1.1      14.0      17.0   \n",
              "991343        14.3            1.0               0.8      30.0      27.0   \n",
              "991344        14.5            1.0               0.8      21.0      14.0   \n",
              "991345        15.8            1.0               0.9      24.0      43.0   \n",
              "\n",
              "        gamma_GTP  SMK_stat_type_cd  DRK_YN  \n",
              "991336       15.0               2.0       Y  \n",
              "991337       12.0               1.0       N  \n",
              "991338       50.0               2.0       Y  \n",
              "991339       32.0               1.0       Y  \n",
              "991340       29.0               1.0       N  \n",
              "991341       27.0               1.0       N  \n",
              "991342       15.0               1.0       N  \n",
              "991343       17.0               3.0       Y  \n",
              "991344       17.0               1.0       N  \n",
              "991345       36.0               3.0       Y  \n",
              "\n",
              "[10 rows x 24 columns]"
            ]
          },
          "execution_count": 5,
          "metadata": {},
          "output_type": "execute_result"
        }
      ],
      "source": [
        "# tampilkan 10 baris terbawah\n",
        "df.tail(10)"
      ]
    },
    {
      "cell_type": "code",
      "execution_count": 6,
      "metadata": {},
      "outputs": [
        {
          "data": {
            "text/plain": [
              "Index(['sex', 'age', 'height', 'weight', 'waistline', 'sight_left',\n",
              "       'sight_right', 'hear_left', 'hear_right', 'SBP', 'DBP', 'BLDS',\n",
              "       'tot_chole', 'HDL_chole', 'LDL_chole', 'triglyceride', 'hemoglobin',\n",
              "       'urine_protein', 'serum_creatinine', 'SGOT_AST', 'SGOT_ALT',\n",
              "       'gamma_GTP', 'SMK_stat_type_cd', 'DRK_YN'],\n",
              "      dtype='object')"
            ]
          },
          "execution_count": 6,
          "metadata": {},
          "output_type": "execute_result"
        }
      ],
      "source": [
        "# tampilkan nama kolom pada dataset\n",
        "df.columns"
      ]
    },
    {
      "cell_type": "code",
      "execution_count": 7,
      "metadata": {},
      "outputs": [],
      "source": [
        "# Ubah nama kolom\n",
        "df.rename(columns={'SMK_stat_type_cd': 'Smoking State', 'DRK_YN': 'Drinker'}, inplace=True)"
      ]
    },
    {
      "cell_type": "code",
      "execution_count": 8,
      "metadata": {},
      "outputs": [
        {
          "name": "stdout",
          "output_type": "stream",
          "text": [
            "<class 'pandas.core.frame.DataFrame'>\n",
            "RangeIndex: 991346 entries, 0 to 991345\n",
            "Data columns (total 24 columns):\n",
            " #   Column            Non-Null Count   Dtype  \n",
            "---  ------            --------------   -----  \n",
            " 0   sex               991346 non-null  object \n",
            " 1   age               991346 non-null  int64  \n",
            " 2   height            991346 non-null  int64  \n",
            " 3   weight            991346 non-null  int64  \n",
            " 4   waistline         991346 non-null  float64\n",
            " 5   sight_left        991346 non-null  float64\n",
            " 6   sight_right       991346 non-null  float64\n",
            " 7   hear_left         991346 non-null  float64\n",
            " 8   hear_right        991346 non-null  float64\n",
            " 9   SBP               991346 non-null  float64\n",
            " 10  DBP               991346 non-null  float64\n",
            " 11  BLDS              991346 non-null  float64\n",
            " 12  tot_chole         991346 non-null  float64\n",
            " 13  HDL_chole         991346 non-null  float64\n",
            " 14  LDL_chole         991346 non-null  float64\n",
            " 15  triglyceride      991346 non-null  float64\n",
            " 16  hemoglobin        991346 non-null  float64\n",
            " 17  urine_protein     991346 non-null  float64\n",
            " 18  serum_creatinine  991346 non-null  float64\n",
            " 19  SGOT_AST          991346 non-null  float64\n",
            " 20  SGOT_ALT          991346 non-null  float64\n",
            " 21  gamma_GTP         991346 non-null  float64\n",
            " 22  Smoking State     991346 non-null  float64\n",
            " 23  Drinker           991346 non-null  object \n",
            "dtypes: float64(19), int64(3), object(2)\n",
            "memory usage: 181.5+ MB\n"
          ]
        }
      ],
      "source": [
        "# tampilkan informasi dari dataset\n",
        "df.info()"
      ]
    },
    {
      "cell_type": "code",
      "execution_count": 9,
      "metadata": {},
      "outputs": [
        {
          "name": "stdout",
          "output_type": "stream",
          "text": [
            "Jumlah kolom dengan tipe kategorik sebanyak 2\n",
            "Dengan list  ['sex', 'Drinker']\n"
          ]
        }
      ],
      "source": [
        "# Tampilkan jumlah kolom yang kategorik beserta listnya\n",
        "print('Jumlah kolom dengan tipe kategorik sebanyak', len(df.select_dtypes(include='object').columns))\n",
        "print('Dengan list ', df.select_dtypes(include='object').columns.to_list())"
      ]
    },
    {
      "cell_type": "code",
      "execution_count": 10,
      "metadata": {},
      "outputs": [
        {
          "name": "stdout",
          "output_type": "stream",
          "text": [
            "Jumlah kolom dengan tipe numerik sebanyak 22\n",
            "Dengan list ['age', 'height', 'weight', 'waistline', 'sight_left', 'sight_right', 'hear_left', 'hear_right', 'SBP', 'DBP', 'BLDS', 'tot_chole', 'HDL_chole', 'LDL_chole', 'triglyceride', 'hemoglobin', 'urine_protein', 'serum_creatinine', 'SGOT_AST', 'SGOT_ALT', 'gamma_GTP', 'Smoking State']\n"
          ]
        }
      ],
      "source": [
        "# Tampilkan jumlah kolom yang nnumerik beserta listnya\n",
        "print('Jumlah kolom dengan tipe numerik sebanyak', len(df.select_dtypes(include='number').columns))\n",
        "print('Dengan list', df.select_dtypes(include='number').columns.to_list())"
      ]
    },
    {
      "cell_type": "markdown",
      "metadata": {},
      "source": [
        "Dataset terdiri dari 2 kolom tipe kategorik dan 22 kolom tipe numerik"
      ]
    },
    {
      "cell_type": "code",
      "execution_count": 11,
      "metadata": {},
      "outputs": [
        {
          "data": {
            "text/plain": [
              "(991346, 24)"
            ]
          },
          "execution_count": 11,
          "metadata": {},
          "output_type": "execute_result"
        }
      ],
      "source": [
        "df.shape"
      ]
    },
    {
      "cell_type": "markdown",
      "metadata": {},
      "source": [
        "Dataset terdiri dari 991346 baris dan 24 kolom"
      ]
    },
    {
      "cell_type": "markdown",
      "metadata": {
        "id": "8fcl1ytz_zFs"
      },
      "source": [
        "# 4. Exploratory Data Analysis (EDA)"
      ]
    },
    {
      "cell_type": "markdown",
      "metadata": {},
      "source": [
        "**Melihat nilai deskriptif dari kolom numerik pada dataset**"
      ]
    },
    {
      "cell_type": "code",
      "execution_count": 12,
      "metadata": {},
      "outputs": [
        {
          "data": {
            "text/html": [
              "<div>\n",
              "<style scoped>\n",
              "    .dataframe tbody tr th:only-of-type {\n",
              "        vertical-align: middle;\n",
              "    }\n",
              "\n",
              "    .dataframe tbody tr th {\n",
              "        vertical-align: top;\n",
              "    }\n",
              "\n",
              "    .dataframe thead th {\n",
              "        text-align: right;\n",
              "    }\n",
              "</style>\n",
              "<table border=\"1\" class=\"dataframe\">\n",
              "  <thead>\n",
              "    <tr style=\"text-align: right;\">\n",
              "      <th></th>\n",
              "      <th>age</th>\n",
              "      <th>height</th>\n",
              "      <th>weight</th>\n",
              "      <th>waistline</th>\n",
              "      <th>sight_left</th>\n",
              "      <th>sight_right</th>\n",
              "      <th>hear_left</th>\n",
              "      <th>hear_right</th>\n",
              "      <th>SBP</th>\n",
              "      <th>DBP</th>\n",
              "      <th>...</th>\n",
              "      <th>HDL_chole</th>\n",
              "      <th>LDL_chole</th>\n",
              "      <th>triglyceride</th>\n",
              "      <th>hemoglobin</th>\n",
              "      <th>urine_protein</th>\n",
              "      <th>serum_creatinine</th>\n",
              "      <th>SGOT_AST</th>\n",
              "      <th>SGOT_ALT</th>\n",
              "      <th>gamma_GTP</th>\n",
              "      <th>Smoking State</th>\n",
              "    </tr>\n",
              "  </thead>\n",
              "  <tbody>\n",
              "    <tr>\n",
              "      <th>count</th>\n",
              "      <td>991346.000000</td>\n",
              "      <td>991346.000000</td>\n",
              "      <td>991346.000000</td>\n",
              "      <td>991346.000000</td>\n",
              "      <td>991346.000000</td>\n",
              "      <td>991346.000000</td>\n",
              "      <td>991346.000000</td>\n",
              "      <td>991346.000000</td>\n",
              "      <td>991346.000000</td>\n",
              "      <td>991346.000000</td>\n",
              "      <td>...</td>\n",
              "      <td>991346.000000</td>\n",
              "      <td>991346.000000</td>\n",
              "      <td>991346.000000</td>\n",
              "      <td>991346.000000</td>\n",
              "      <td>991346.000000</td>\n",
              "      <td>991346.000000</td>\n",
              "      <td>991346.000000</td>\n",
              "      <td>991346.000000</td>\n",
              "      <td>991346.000000</td>\n",
              "      <td>991346.000000</td>\n",
              "    </tr>\n",
              "    <tr>\n",
              "      <th>mean</th>\n",
              "      <td>47.614491</td>\n",
              "      <td>162.240625</td>\n",
              "      <td>63.284050</td>\n",
              "      <td>81.233358</td>\n",
              "      <td>0.980834</td>\n",
              "      <td>0.978429</td>\n",
              "      <td>1.031495</td>\n",
              "      <td>1.030476</td>\n",
              "      <td>122.432498</td>\n",
              "      <td>76.052627</td>\n",
              "      <td>...</td>\n",
              "      <td>56.936800</td>\n",
              "      <td>113.037692</td>\n",
              "      <td>132.141751</td>\n",
              "      <td>14.229824</td>\n",
              "      <td>1.094224</td>\n",
              "      <td>0.860467</td>\n",
              "      <td>25.989308</td>\n",
              "      <td>25.755051</td>\n",
              "      <td>37.136347</td>\n",
              "      <td>1.608122</td>\n",
              "    </tr>\n",
              "    <tr>\n",
              "      <th>std</th>\n",
              "      <td>14.181339</td>\n",
              "      <td>9.282957</td>\n",
              "      <td>12.514241</td>\n",
              "      <td>11.850323</td>\n",
              "      <td>0.605949</td>\n",
              "      <td>0.604774</td>\n",
              "      <td>0.174650</td>\n",
              "      <td>0.171892</td>\n",
              "      <td>14.543148</td>\n",
              "      <td>9.889365</td>\n",
              "      <td>...</td>\n",
              "      <td>17.238479</td>\n",
              "      <td>35.842812</td>\n",
              "      <td>102.196985</td>\n",
              "      <td>1.584929</td>\n",
              "      <td>0.437724</td>\n",
              "      <td>0.480530</td>\n",
              "      <td>23.493386</td>\n",
              "      <td>26.308599</td>\n",
              "      <td>50.424153</td>\n",
              "      <td>0.818507</td>\n",
              "    </tr>\n",
              "    <tr>\n",
              "      <th>min</th>\n",
              "      <td>20.000000</td>\n",
              "      <td>130.000000</td>\n",
              "      <td>25.000000</td>\n",
              "      <td>8.000000</td>\n",
              "      <td>0.100000</td>\n",
              "      <td>0.100000</td>\n",
              "      <td>1.000000</td>\n",
              "      <td>1.000000</td>\n",
              "      <td>67.000000</td>\n",
              "      <td>32.000000</td>\n",
              "      <td>...</td>\n",
              "      <td>1.000000</td>\n",
              "      <td>1.000000</td>\n",
              "      <td>1.000000</td>\n",
              "      <td>1.000000</td>\n",
              "      <td>1.000000</td>\n",
              "      <td>0.100000</td>\n",
              "      <td>1.000000</td>\n",
              "      <td>1.000000</td>\n",
              "      <td>1.000000</td>\n",
              "      <td>1.000000</td>\n",
              "    </tr>\n",
              "    <tr>\n",
              "      <th>25%</th>\n",
              "      <td>35.000000</td>\n",
              "      <td>155.000000</td>\n",
              "      <td>55.000000</td>\n",
              "      <td>74.100000</td>\n",
              "      <td>0.700000</td>\n",
              "      <td>0.700000</td>\n",
              "      <td>1.000000</td>\n",
              "      <td>1.000000</td>\n",
              "      <td>112.000000</td>\n",
              "      <td>70.000000</td>\n",
              "      <td>...</td>\n",
              "      <td>46.000000</td>\n",
              "      <td>89.000000</td>\n",
              "      <td>73.000000</td>\n",
              "      <td>13.200000</td>\n",
              "      <td>1.000000</td>\n",
              "      <td>0.700000</td>\n",
              "      <td>19.000000</td>\n",
              "      <td>15.000000</td>\n",
              "      <td>16.000000</td>\n",
              "      <td>1.000000</td>\n",
              "    </tr>\n",
              "    <tr>\n",
              "      <th>50%</th>\n",
              "      <td>45.000000</td>\n",
              "      <td>160.000000</td>\n",
              "      <td>60.000000</td>\n",
              "      <td>81.000000</td>\n",
              "      <td>1.000000</td>\n",
              "      <td>1.000000</td>\n",
              "      <td>1.000000</td>\n",
              "      <td>1.000000</td>\n",
              "      <td>120.000000</td>\n",
              "      <td>76.000000</td>\n",
              "      <td>...</td>\n",
              "      <td>55.000000</td>\n",
              "      <td>111.000000</td>\n",
              "      <td>106.000000</td>\n",
              "      <td>14.300000</td>\n",
              "      <td>1.000000</td>\n",
              "      <td>0.800000</td>\n",
              "      <td>23.000000</td>\n",
              "      <td>20.000000</td>\n",
              "      <td>23.000000</td>\n",
              "      <td>1.000000</td>\n",
              "    </tr>\n",
              "    <tr>\n",
              "      <th>75%</th>\n",
              "      <td>60.000000</td>\n",
              "      <td>170.000000</td>\n",
              "      <td>70.000000</td>\n",
              "      <td>87.800000</td>\n",
              "      <td>1.200000</td>\n",
              "      <td>1.200000</td>\n",
              "      <td>1.000000</td>\n",
              "      <td>1.000000</td>\n",
              "      <td>131.000000</td>\n",
              "      <td>82.000000</td>\n",
              "      <td>...</td>\n",
              "      <td>66.000000</td>\n",
              "      <td>135.000000</td>\n",
              "      <td>159.000000</td>\n",
              "      <td>15.400000</td>\n",
              "      <td>1.000000</td>\n",
              "      <td>1.000000</td>\n",
              "      <td>28.000000</td>\n",
              "      <td>29.000000</td>\n",
              "      <td>39.000000</td>\n",
              "      <td>2.000000</td>\n",
              "    </tr>\n",
              "    <tr>\n",
              "      <th>max</th>\n",
              "      <td>85.000000</td>\n",
              "      <td>190.000000</td>\n",
              "      <td>140.000000</td>\n",
              "      <td>999.000000</td>\n",
              "      <td>9.900000</td>\n",
              "      <td>9.900000</td>\n",
              "      <td>2.000000</td>\n",
              "      <td>2.000000</td>\n",
              "      <td>273.000000</td>\n",
              "      <td>185.000000</td>\n",
              "      <td>...</td>\n",
              "      <td>8110.000000</td>\n",
              "      <td>5119.000000</td>\n",
              "      <td>9490.000000</td>\n",
              "      <td>25.000000</td>\n",
              "      <td>6.000000</td>\n",
              "      <td>98.000000</td>\n",
              "      <td>9999.000000</td>\n",
              "      <td>7210.000000</td>\n",
              "      <td>999.000000</td>\n",
              "      <td>3.000000</td>\n",
              "    </tr>\n",
              "  </tbody>\n",
              "</table>\n",
              "<p>8 rows × 22 columns</p>\n",
              "</div>"
            ],
            "text/plain": [
              "                 age         height         weight      waistline  \\\n",
              "count  991346.000000  991346.000000  991346.000000  991346.000000   \n",
              "mean       47.614491     162.240625      63.284050      81.233358   \n",
              "std        14.181339       9.282957      12.514241      11.850323   \n",
              "min        20.000000     130.000000      25.000000       8.000000   \n",
              "25%        35.000000     155.000000      55.000000      74.100000   \n",
              "50%        45.000000     160.000000      60.000000      81.000000   \n",
              "75%        60.000000     170.000000      70.000000      87.800000   \n",
              "max        85.000000     190.000000     140.000000     999.000000   \n",
              "\n",
              "          sight_left    sight_right      hear_left     hear_right  \\\n",
              "count  991346.000000  991346.000000  991346.000000  991346.000000   \n",
              "mean        0.980834       0.978429       1.031495       1.030476   \n",
              "std         0.605949       0.604774       0.174650       0.171892   \n",
              "min         0.100000       0.100000       1.000000       1.000000   \n",
              "25%         0.700000       0.700000       1.000000       1.000000   \n",
              "50%         1.000000       1.000000       1.000000       1.000000   \n",
              "75%         1.200000       1.200000       1.000000       1.000000   \n",
              "max         9.900000       9.900000       2.000000       2.000000   \n",
              "\n",
              "                 SBP            DBP  ...      HDL_chole      LDL_chole  \\\n",
              "count  991346.000000  991346.000000  ...  991346.000000  991346.000000   \n",
              "mean      122.432498      76.052627  ...      56.936800     113.037692   \n",
              "std        14.543148       9.889365  ...      17.238479      35.842812   \n",
              "min        67.000000      32.000000  ...       1.000000       1.000000   \n",
              "25%       112.000000      70.000000  ...      46.000000      89.000000   \n",
              "50%       120.000000      76.000000  ...      55.000000     111.000000   \n",
              "75%       131.000000      82.000000  ...      66.000000     135.000000   \n",
              "max       273.000000     185.000000  ...    8110.000000    5119.000000   \n",
              "\n",
              "        triglyceride     hemoglobin  urine_protein  serum_creatinine  \\\n",
              "count  991346.000000  991346.000000  991346.000000     991346.000000   \n",
              "mean      132.141751      14.229824       1.094224          0.860467   \n",
              "std       102.196985       1.584929       0.437724          0.480530   \n",
              "min         1.000000       1.000000       1.000000          0.100000   \n",
              "25%        73.000000      13.200000       1.000000          0.700000   \n",
              "50%       106.000000      14.300000       1.000000          0.800000   \n",
              "75%       159.000000      15.400000       1.000000          1.000000   \n",
              "max      9490.000000      25.000000       6.000000         98.000000   \n",
              "\n",
              "            SGOT_AST       SGOT_ALT      gamma_GTP  Smoking State  \n",
              "count  991346.000000  991346.000000  991346.000000  991346.000000  \n",
              "mean       25.989308      25.755051      37.136347       1.608122  \n",
              "std        23.493386      26.308599      50.424153       0.818507  \n",
              "min         1.000000       1.000000       1.000000       1.000000  \n",
              "25%        19.000000      15.000000      16.000000       1.000000  \n",
              "50%        23.000000      20.000000      23.000000       1.000000  \n",
              "75%        28.000000      29.000000      39.000000       2.000000  \n",
              "max      9999.000000    7210.000000     999.000000       3.000000  \n",
              "\n",
              "[8 rows x 22 columns]"
            ]
          },
          "execution_count": 12,
          "metadata": {},
          "output_type": "execute_result"
        }
      ],
      "source": [
        "df.describe()"
      ]
    },
    {
      "cell_type": "markdown",
      "metadata": {},
      "source": [
        "**Persentase Peminum pada Dataset**"
      ]
    },
    {
      "cell_type": "code",
      "execution_count": 13,
      "metadata": {},
      "outputs": [
        {
          "data": {
            "text/plain": [
              "Drinker\n",
              "N    0.500187\n",
              "Y    0.499813\n",
              "Name: proportion, dtype: float64"
            ]
          },
          "execution_count": 13,
          "metadata": {},
          "output_type": "execute_result"
        }
      ],
      "source": [
        "df['Drinker'].value_counts(normalize=True)"
      ]
    },
    {
      "cell_type": "code",
      "execution_count": 14,
      "metadata": {},
      "outputs": [
        {
          "data": {
            "text/plain": [
              "<Axes: xlabel='Peminum atau Tidak', ylabel='Jumlah'>"
            ]
          },
          "execution_count": 14,
          "metadata": {},
          "output_type": "execute_result"
        },
        {
          "data": {
            "image/png": "[encoded data removed]",
            "text/plain": [
              "<Figure size 640x480 with 1 Axes>"
            ]
          },
          "metadata": {},
          "output_type": "display_data"
        }
      ],
      "source": [
        "df['Drinker'].value_counts().plot(kind='bar', xlabel='Peminum atau Tidak', ylabel='Jumlah')"
      ]
    },
    {
      "cell_type": "markdown",
      "metadata": {},
      "source": [
        "Dari hasil cek dan chart dapat dilihat bahwa persentase antar peminum dengan yang tidak, bersifat seimbang/balance"
      ]
    },
    {
      "cell_type": "markdown",
      "metadata": {},
      "source": [
        "**Perbandingan Peminum pada tiap Gender**"
      ]
    },
    {
      "cell_type": "code",
      "execution_count": 15,
      "metadata": {},
      "outputs": [
        {
          "data": {
            "text/plain": [
              "Text(0.5, 1.0, 'Perbandingan Peminum pada tiap Gender')"
            ]
          },
          "execution_count": 15,
          "metadata": {},
          "output_type": "execute_result"
        },
        {
          "data": {
            "image/png": "[encoded data removed]",
            "text/plain": [
              "<Figure size 1500x500 with 1 Axes>"
            ]
          },
          "metadata": {},
          "output_type": "display_data"
        }
      ],
      "source": [
        "# buat plot perbandingan peminum/tidak tiap gender\n",
        "plt.figure(figsize = (15,5))\n",
        "plt.subplot(1,2,1)\n",
        "sns.countplot(x=df['sex'], hue=df['Drinker'])\n",
        "plt.title('Perbandingan Peminum pada tiap Gender')"
      ]
    },
    {
      "cell_type": "markdown",
      "metadata": {},
      "source": [
        "Kalau kita lihat dari chart diatas bahwa Peminum laki-laki lebih banyak dari pada peminum perempuan. Dan juga perempuan lebih banyak yang bukan Peminum dibandingkan dengan yang Peminum"
      ]
    },
    {
      "cell_type": "markdown",
      "metadata": {},
      "source": [
        "**Cek distribusi data tiap kolom**"
      ]
    },
    {
      "cell_type": "code",
      "execution_count": 16,
      "metadata": {},
      "outputs": [
        {
          "data": {
            "text/html": [
              "<div>\n",
              "<style scoped>\n",
              "    .dataframe tbody tr th:only-of-type {\n",
              "        vertical-align: middle;\n",
              "    }\n",
              "\n",
              "    .dataframe tbody tr th {\n",
              "        vertical-align: top;\n",
              "    }\n",
              "\n",
              "    .dataframe thead th {\n",
              "        text-align: right;\n",
              "    }\n",
              "</style>\n",
              "<table border=\"1\" class=\"dataframe\">\n",
              "  <thead>\n",
              "    <tr style=\"text-align: right;\">\n",
              "      <th></th>\n",
              "      <th>nama kolom</th>\n",
              "      <th>nilai skewness</th>\n",
              "    </tr>\n",
              "  </thead>\n",
              "  <tbody>\n",
              "    <tr>\n",
              "      <th>0</th>\n",
              "      <td>age</td>\n",
              "      <td>0.153653</td>\n",
              "    </tr>\n",
              "    <tr>\n",
              "      <th>1</th>\n",
              "      <td>height</td>\n",
              "      <td>-0.022737</td>\n",
              "    </tr>\n",
              "    <tr>\n",
              "      <th>2</th>\n",
              "      <td>weight</td>\n",
              "      <td>0.576557</td>\n",
              "    </tr>\n",
              "    <tr>\n",
              "      <th>3</th>\n",
              "      <td>waistline</td>\n",
              "      <td>26.788440</td>\n",
              "    </tr>\n",
              "    <tr>\n",
              "      <th>4</th>\n",
              "      <td>sight_left</td>\n",
              "      <td>9.994626</td>\n",
              "    </tr>\n",
              "    <tr>\n",
              "      <th>5</th>\n",
              "      <td>sight_right</td>\n",
              "      <td>10.033647</td>\n",
              "    </tr>\n",
              "    <tr>\n",
              "      <th>6</th>\n",
              "      <td>SBP</td>\n",
              "      <td>0.482060</td>\n",
              "    </tr>\n",
              "    <tr>\n",
              "      <th>7</th>\n",
              "      <td>DBP</td>\n",
              "      <td>0.400034</td>\n",
              "    </tr>\n",
              "    <tr>\n",
              "      <th>8</th>\n",
              "      <td>BLDS</td>\n",
              "      <td>4.617377</td>\n",
              "    </tr>\n",
              "    <tr>\n",
              "      <th>9</th>\n",
              "      <td>tot_chole</td>\n",
              "      <td>1.556882</td>\n",
              "    </tr>\n",
              "    <tr>\n",
              "      <th>10</th>\n",
              "      <td>HDL_chole</td>\n",
              "      <td>104.577635</td>\n",
              "    </tr>\n",
              "    <tr>\n",
              "      <th>11</th>\n",
              "      <td>LDL_chole</td>\n",
              "      <td>5.251739</td>\n",
              "    </tr>\n",
              "    <tr>\n",
              "      <th>12</th>\n",
              "      <td>triglyceride</td>\n",
              "      <td>6.529373</td>\n",
              "    </tr>\n",
              "    <tr>\n",
              "      <th>13</th>\n",
              "      <td>hemoglobin</td>\n",
              "      <td>-0.383988</td>\n",
              "    </tr>\n",
              "    <tr>\n",
              "      <th>14</th>\n",
              "      <td>serum_creatinine</td>\n",
              "      <td>111.022058</td>\n",
              "    </tr>\n",
              "    <tr>\n",
              "      <th>15</th>\n",
              "      <td>SGOT_AST</td>\n",
              "      <td>150.491690</td>\n",
              "    </tr>\n",
              "    <tr>\n",
              "      <th>16</th>\n",
              "      <td>SGOT_ALT</td>\n",
              "      <td>50.038872</td>\n",
              "    </tr>\n",
              "    <tr>\n",
              "      <th>17</th>\n",
              "      <td>gamma_GTP</td>\n",
              "      <td>7.718509</td>\n",
              "    </tr>\n",
              "  </tbody>\n",
              "</table>\n",
              "</div>"
            ],
            "text/plain": [
              "          nama kolom  nilai skewness\n",
              "0                age        0.153653\n",
              "1             height       -0.022737\n",
              "2             weight        0.576557\n",
              "3          waistline       26.788440\n",
              "4         sight_left        9.994626\n",
              "5        sight_right       10.033647\n",
              "6                SBP        0.482060\n",
              "7                DBP        0.400034\n",
              "8               BLDS        4.617377\n",
              "9          tot_chole        1.556882\n",
              "10         HDL_chole      104.577635\n",
              "11         LDL_chole        5.251739\n",
              "12      triglyceride        6.529373\n",
              "13        hemoglobin       -0.383988\n",
              "14  serum_creatinine      111.022058\n",
              "15          SGOT_AST      150.491690\n",
              "16          SGOT_ALT       50.038872\n",
              "17         gamma_GTP        7.718509"
            ]
          },
          "execution_count": 16,
          "metadata": {},
          "output_type": "execute_result"
        }
      ],
      "source": [
        "num_list = df.columns.drop(labels=['sex', 'hear_left', 'hear_right', 'urine_protein', 'Smoking State', 'Drinker']).to_list()\n",
        "list_item = []\n",
        "\n",
        "# Hitung nilai skew setiap kolom pada dataset\n",
        "for col in num_list:\n",
        "  list_item.append([col, df[col].skew()])\n",
        "\n",
        "# Hasil perhitungan dijadikan dataframe\n",
        "nilai_skew = pd.DataFrame(columns = ['nama kolom', 'nilai skewness'], data = list_item)\n",
        "nilai_skew"
      ]
    },
    {
      "cell_type": "code",
      "execution_count": 17,
      "metadata": {},
      "outputs": [
        {
          "data": {
            "text/plain": [
              "['weight',\n",
              " 'waistline',\n",
              " 'sight_left',\n",
              " 'sight_right',\n",
              " 'BLDS',\n",
              " 'tot_chole',\n",
              " 'HDL_chole',\n",
              " 'LDL_chole',\n",
              " 'triglyceride',\n",
              " 'serum_creatinine',\n",
              " 'SGOT_AST',\n",
              " 'SGOT_ALT',\n",
              " 'gamma_GTP']"
            ]
          },
          "execution_count": 17,
          "metadata": {},
          "output_type": "execute_result"
        }
      ],
      "source": [
        "# Ambil kolom yang nilai skew diatas 0.5 atau dibawah -0.5 sebagai kolom yang bersifat skew\n",
        "col_skew = nilai_skew['nama kolom'][(nilai_skew['nilai skewness']>0.5) | (nilai_skew['nilai skewness']<-0.5)].to_list()\n",
        "\n",
        "# Ambil selain dari kolom bersifat skew dari colom numerik sebagai kolom bersifat normal\n",
        "col_norm = [col for col in num_list if col not in col_skew]\n",
        "col_skew"
      ]
    },
    {
      "cell_type": "code",
      "execution_count": 18,
      "metadata": {},
      "outputs": [
        {
          "data": {
            "text/plain": [
              "['age', 'height', 'SBP', 'DBP', 'hemoglobin']"
            ]
          },
          "execution_count": 18,
          "metadata": {},
          "output_type": "execute_result"
        }
      ],
      "source": [
        "col_norm"
      ]
    },
    {
      "cell_type": "markdown",
      "metadata": {},
      "source": [
        "Dari hasil perhitungan nilai skewnya, didapat:\n",
        "1. kolom weight, waistline, sight_left, sight_right, BLDS, tot_chole, HDL_chole, LDL_chole, triglyceride, serum_creatinine, SGOT_AST, SGOT_ALT, gamma_GTP bersifat skew\n",
        "2. kolom age, height, SBP, DBP, hemoglobin memiliki distribusi normal"
      ]
    },
    {
      "cell_type": "markdown",
      "metadata": {},
      "source": [
        "**Cek Missing Value pada Dataset**"
      ]
    },
    {
      "cell_type": "code",
      "execution_count": 19,
      "metadata": {},
      "outputs": [
        {
          "name": "stdout",
          "output_type": "stream",
          "text": [
            "Columns with missing values:\n",
            "Series([], dtype: int64)\n"
          ]
        }
      ],
      "source": [
        "# Check for missing values\n",
        "missing_values = df.isnull().sum()\n",
        "\n",
        "# Display columns with missing values and the count of missing values\n",
        "print(\"Columns with missing values:\")\n",
        "print(missing_values[missing_values > 0])"
      ]
    },
    {
      "cell_type": "markdown",
      "metadata": {},
      "source": [
        "Tidak ada missing value pada dataset"
      ]
    },
    {
      "cell_type": "markdown",
      "metadata": {
        "id": "6MSR0nPe_50k"
      },
      "source": [
        "# 5. Featuring Engineering"
      ]
    },
    {
      "cell_type": "markdown",
      "metadata": {
        "id": "bO-UQAas__CD"
      },
      "source": [
        "## Split between `X` (Features) and `y` (Target)"
      ]
    },
    {
      "cell_type": "code",
      "execution_count": 20,
      "metadata": {},
      "outputs": [
        {
          "data": {
            "text/html": [
              "<div>\n",
              "<style scoped>\n",
              "    .dataframe tbody tr th:only-of-type {\n",
              "        vertical-align: middle;\n",
              "    }\n",
              "\n",
              "    .dataframe tbody tr th {\n",
              "        vertical-align: top;\n",
              "    }\n",
              "\n",
              "    .dataframe thead th {\n",
              "        text-align: right;\n",
              "    }\n",
              "</style>\n",
              "<table border=\"1\" class=\"dataframe\">\n",
              "  <thead>\n",
              "    <tr style=\"text-align: right;\">\n",
              "      <th></th>\n",
              "      <th>sex</th>\n",
              "      <th>age</th>\n",
              "      <th>height</th>\n",
              "      <th>weight</th>\n",
              "      <th>waistline</th>\n",
              "      <th>sight_left</th>\n",
              "      <th>sight_right</th>\n",
              "      <th>hear_left</th>\n",
              "      <th>hear_right</th>\n",
              "      <th>SBP</th>\n",
              "      <th>...</th>\n",
              "      <th>LDL_chole</th>\n",
              "      <th>triglyceride</th>\n",
              "      <th>hemoglobin</th>\n",
              "      <th>urine_protein</th>\n",
              "      <th>serum_creatinine</th>\n",
              "      <th>SGOT_AST</th>\n",
              "      <th>SGOT_ALT</th>\n",
              "      <th>gamma_GTP</th>\n",
              "      <th>Smoking State</th>\n",
              "      <th>Drinker</th>\n",
              "    </tr>\n",
              "  </thead>\n",
              "  <tbody>\n",
              "    <tr>\n",
              "      <th>0</th>\n",
              "      <td>Male</td>\n",
              "      <td>35</td>\n",
              "      <td>170</td>\n",
              "      <td>75</td>\n",
              "      <td>90.0</td>\n",
              "      <td>1.0</td>\n",
              "      <td>1.0</td>\n",
              "      <td>1.0</td>\n",
              "      <td>1.0</td>\n",
              "      <td>120.0</td>\n",
              "      <td>...</td>\n",
              "      <td>126.0</td>\n",
              "      <td>92.0</td>\n",
              "      <td>17.1</td>\n",
              "      <td>1.0</td>\n",
              "      <td>1.0</td>\n",
              "      <td>21.0</td>\n",
              "      <td>35.0</td>\n",
              "      <td>40.0</td>\n",
              "      <td>1.0</td>\n",
              "      <td>1</td>\n",
              "    </tr>\n",
              "    <tr>\n",
              "      <th>1</th>\n",
              "      <td>Male</td>\n",
              "      <td>30</td>\n",
              "      <td>180</td>\n",
              "      <td>80</td>\n",
              "      <td>89.0</td>\n",
              "      <td>0.9</td>\n",
              "      <td>1.2</td>\n",
              "      <td>1.0</td>\n",
              "      <td>1.0</td>\n",
              "      <td>130.0</td>\n",
              "      <td>...</td>\n",
              "      <td>148.0</td>\n",
              "      <td>121.0</td>\n",
              "      <td>15.8</td>\n",
              "      <td>1.0</td>\n",
              "      <td>0.9</td>\n",
              "      <td>20.0</td>\n",
              "      <td>36.0</td>\n",
              "      <td>27.0</td>\n",
              "      <td>3.0</td>\n",
              "      <td>0</td>\n",
              "    </tr>\n",
              "    <tr>\n",
              "      <th>2</th>\n",
              "      <td>Male</td>\n",
              "      <td>40</td>\n",
              "      <td>165</td>\n",
              "      <td>75</td>\n",
              "      <td>91.0</td>\n",
              "      <td>1.2</td>\n",
              "      <td>1.5</td>\n",
              "      <td>1.0</td>\n",
              "      <td>1.0</td>\n",
              "      <td>120.0</td>\n",
              "      <td>...</td>\n",
              "      <td>74.0</td>\n",
              "      <td>104.0</td>\n",
              "      <td>15.8</td>\n",
              "      <td>1.0</td>\n",
              "      <td>0.9</td>\n",
              "      <td>47.0</td>\n",
              "      <td>32.0</td>\n",
              "      <td>68.0</td>\n",
              "      <td>1.0</td>\n",
              "      <td>0</td>\n",
              "    </tr>\n",
              "    <tr>\n",
              "      <th>3</th>\n",
              "      <td>Male</td>\n",
              "      <td>50</td>\n",
              "      <td>175</td>\n",
              "      <td>80</td>\n",
              "      <td>91.0</td>\n",
              "      <td>1.5</td>\n",
              "      <td>1.2</td>\n",
              "      <td>1.0</td>\n",
              "      <td>1.0</td>\n",
              "      <td>145.0</td>\n",
              "      <td>...</td>\n",
              "      <td>104.0</td>\n",
              "      <td>106.0</td>\n",
              "      <td>17.6</td>\n",
              "      <td>1.0</td>\n",
              "      <td>1.1</td>\n",
              "      <td>29.0</td>\n",
              "      <td>34.0</td>\n",
              "      <td>18.0</td>\n",
              "      <td>1.0</td>\n",
              "      <td>0</td>\n",
              "    </tr>\n",
              "    <tr>\n",
              "      <th>4</th>\n",
              "      <td>Male</td>\n",
              "      <td>50</td>\n",
              "      <td>165</td>\n",
              "      <td>60</td>\n",
              "      <td>80.0</td>\n",
              "      <td>1.0</td>\n",
              "      <td>1.2</td>\n",
              "      <td>1.0</td>\n",
              "      <td>1.0</td>\n",
              "      <td>138.0</td>\n",
              "      <td>...</td>\n",
              "      <td>117.0</td>\n",
              "      <td>104.0</td>\n",
              "      <td>13.8</td>\n",
              "      <td>1.0</td>\n",
              "      <td>0.8</td>\n",
              "      <td>19.0</td>\n",
              "      <td>12.0</td>\n",
              "      <td>25.0</td>\n",
              "      <td>1.0</td>\n",
              "      <td>0</td>\n",
              "    </tr>\n",
              "    <tr>\n",
              "      <th>5</th>\n",
              "      <td>Male</td>\n",
              "      <td>50</td>\n",
              "      <td>165</td>\n",
              "      <td>55</td>\n",
              "      <td>75.0</td>\n",
              "      <td>1.2</td>\n",
              "      <td>1.5</td>\n",
              "      <td>1.0</td>\n",
              "      <td>1.0</td>\n",
              "      <td>142.0</td>\n",
              "      <td>...</td>\n",
              "      <td>95.0</td>\n",
              "      <td>232.0</td>\n",
              "      <td>13.8</td>\n",
              "      <td>3.0</td>\n",
              "      <td>0.8</td>\n",
              "      <td>29.0</td>\n",
              "      <td>40.0</td>\n",
              "      <td>37.0</td>\n",
              "      <td>3.0</td>\n",
              "      <td>1</td>\n",
              "    </tr>\n",
              "    <tr>\n",
              "      <th>6</th>\n",
              "      <td>Female</td>\n",
              "      <td>45</td>\n",
              "      <td>150</td>\n",
              "      <td>55</td>\n",
              "      <td>69.0</td>\n",
              "      <td>0.5</td>\n",
              "      <td>0.4</td>\n",
              "      <td>1.0</td>\n",
              "      <td>1.0</td>\n",
              "      <td>101.0</td>\n",
              "      <td>...</td>\n",
              "      <td>115.0</td>\n",
              "      <td>75.0</td>\n",
              "      <td>12.3</td>\n",
              "      <td>1.0</td>\n",
              "      <td>0.8</td>\n",
              "      <td>19.0</td>\n",
              "      <td>12.0</td>\n",
              "      <td>12.0</td>\n",
              "      <td>1.0</td>\n",
              "      <td>0</td>\n",
              "    </tr>\n",
              "    <tr>\n",
              "      <th>7</th>\n",
              "      <td>Male</td>\n",
              "      <td>35</td>\n",
              "      <td>175</td>\n",
              "      <td>65</td>\n",
              "      <td>84.2</td>\n",
              "      <td>1.2</td>\n",
              "      <td>1.0</td>\n",
              "      <td>1.0</td>\n",
              "      <td>1.0</td>\n",
              "      <td>132.0</td>\n",
              "      <td>...</td>\n",
              "      <td>107.0</td>\n",
              "      <td>101.0</td>\n",
              "      <td>14.4</td>\n",
              "      <td>1.0</td>\n",
              "      <td>0.8</td>\n",
              "      <td>18.0</td>\n",
              "      <td>18.0</td>\n",
              "      <td>35.0</td>\n",
              "      <td>3.0</td>\n",
              "      <td>1</td>\n",
              "    </tr>\n",
              "    <tr>\n",
              "      <th>8</th>\n",
              "      <td>Male</td>\n",
              "      <td>55</td>\n",
              "      <td>170</td>\n",
              "      <td>75</td>\n",
              "      <td>84.0</td>\n",
              "      <td>1.2</td>\n",
              "      <td>0.9</td>\n",
              "      <td>1.0</td>\n",
              "      <td>1.0</td>\n",
              "      <td>145.0</td>\n",
              "      <td>...</td>\n",
              "      <td>141.0</td>\n",
              "      <td>100.0</td>\n",
              "      <td>15.1</td>\n",
              "      <td>1.0</td>\n",
              "      <td>0.8</td>\n",
              "      <td>32.0</td>\n",
              "      <td>23.0</td>\n",
              "      <td>26.0</td>\n",
              "      <td>1.0</td>\n",
              "      <td>1</td>\n",
              "    </tr>\n",
              "    <tr>\n",
              "      <th>9</th>\n",
              "      <td>Male</td>\n",
              "      <td>40</td>\n",
              "      <td>175</td>\n",
              "      <td>75</td>\n",
              "      <td>82.0</td>\n",
              "      <td>1.5</td>\n",
              "      <td>1.5</td>\n",
              "      <td>1.0</td>\n",
              "      <td>1.0</td>\n",
              "      <td>132.0</td>\n",
              "      <td>...</td>\n",
              "      <td>118.0</td>\n",
              "      <td>83.0</td>\n",
              "      <td>13.9</td>\n",
              "      <td>1.0</td>\n",
              "      <td>0.9</td>\n",
              "      <td>21.0</td>\n",
              "      <td>38.0</td>\n",
              "      <td>16.0</td>\n",
              "      <td>2.0</td>\n",
              "      <td>1</td>\n",
              "    </tr>\n",
              "  </tbody>\n",
              "</table>\n",
              "<p>10 rows × 24 columns</p>\n",
              "</div>"
            ],
            "text/plain": [
              "      sex  age  height  weight  waistline  sight_left  sight_right  hear_left  \\\n",
              "0    Male   35     170      75       90.0         1.0          1.0        1.0   \n",
              "1    Male   30     180      80       89.0         0.9          1.2        1.0   \n",
              "2    Male   40     165      75       91.0         1.2          1.5        1.0   \n",
              "3    Male   50     175      80       91.0         1.5          1.2        1.0   \n",
              "4    Male   50     165      60       80.0         1.0          1.2        1.0   \n",
              "5    Male   50     165      55       75.0         1.2          1.5        1.0   \n",
              "6  Female   45     150      55       69.0         0.5          0.4        1.0   \n",
              "7    Male   35     175      65       84.2         1.2          1.0        1.0   \n",
              "8    Male   55     170      75       84.0         1.2          0.9        1.0   \n",
              "9    Male   40     175      75       82.0         1.5          1.5        1.0   \n",
              "\n",
              "   hear_right    SBP  ...  LDL_chole  triglyceride  hemoglobin  urine_protein  \\\n",
              "0         1.0  120.0  ...      126.0          92.0        17.1            1.0   \n",
              "1         1.0  130.0  ...      148.0         121.0        15.8            1.0   \n",
              "2         1.0  120.0  ...       74.0         104.0        15.8            1.0   \n",
              "3         1.0  145.0  ...      104.0         106.0        17.6            1.0   \n",
              "4         1.0  138.0  ...      117.0         104.0        13.8            1.0   \n",
              "5         1.0  142.0  ...       95.0         232.0        13.8            3.0   \n",
              "6         1.0  101.0  ...      115.0          75.0        12.3            1.0   \n",
              "7         1.0  132.0  ...      107.0         101.0        14.4            1.0   \n",
              "8         1.0  145.0  ...      141.0         100.0        15.1            1.0   \n",
              "9         1.0  132.0  ...      118.0          83.0        13.9            1.0   \n",
              "\n",
              "   serum_creatinine  SGOT_AST  SGOT_ALT  gamma_GTP  Smoking State  Drinker  \n",
              "0               1.0      21.0      35.0       40.0            1.0        1  \n",
              "1               0.9      20.0      36.0       27.0            3.0        0  \n",
              "2               0.9      47.0      32.0       68.0            1.0        0  \n",
              "3               1.1      29.0      34.0       18.0            1.0        0  \n",
              "4               0.8      19.0      12.0       25.0            1.0        0  \n",
              "5               0.8      29.0      40.0       37.0            3.0        1  \n",
              "6               0.8      19.0      12.0       12.0            1.0        0  \n",
              "7               0.8      18.0      18.0       35.0            3.0        1  \n",
              "8               0.8      32.0      23.0       26.0            1.0        1  \n",
              "9               0.9      21.0      38.0       16.0            2.0        1  \n",
              "\n",
              "[10 rows x 24 columns]"
            ]
          },
          "execution_count": 20,
          "metadata": {},
          "output_type": "execute_result"
        }
      ],
      "source": [
        "list_y = []\n",
        "for i in df['Drinker']:\n",
        "    if i == 'N':\n",
        "        list_y.append(0)\n",
        "    else:\n",
        "        list_y.append(1)\n",
        "\n",
        "df['Drinker'] = list_y\n",
        "df.head(10)"
      ]
    },
    {
      "cell_type": "code",
      "execution_count": 21,
      "metadata": {},
      "outputs": [
        {
          "data": {
            "text/html": [
              "<div>\n",
              "<style scoped>\n",
              "    .dataframe tbody tr th:only-of-type {\n",
              "        vertical-align: middle;\n",
              "    }\n",
              "\n",
              "    .dataframe tbody tr th {\n",
              "        vertical-align: top;\n",
              "    }\n",
              "\n",
              "    .dataframe thead th {\n",
              "        text-align: right;\n",
              "    }\n",
              "</style>\n",
              "<table border=\"1\" class=\"dataframe\">\n",
              "  <thead>\n",
              "    <tr style=\"text-align: right;\">\n",
              "      <th></th>\n",
              "      <th>sex</th>\n",
              "      <th>age</th>\n",
              "      <th>height</th>\n",
              "      <th>weight</th>\n",
              "      <th>waistline</th>\n",
              "      <th>sight_left</th>\n",
              "      <th>sight_right</th>\n",
              "      <th>hear_left</th>\n",
              "      <th>hear_right</th>\n",
              "      <th>SBP</th>\n",
              "      <th>...</th>\n",
              "      <th>HDL_chole</th>\n",
              "      <th>LDL_chole</th>\n",
              "      <th>triglyceride</th>\n",
              "      <th>hemoglobin</th>\n",
              "      <th>urine_protein</th>\n",
              "      <th>serum_creatinine</th>\n",
              "      <th>SGOT_AST</th>\n",
              "      <th>SGOT_ALT</th>\n",
              "      <th>gamma_GTP</th>\n",
              "      <th>Smoking State</th>\n",
              "    </tr>\n",
              "  </thead>\n",
              "  <tbody>\n",
              "    <tr>\n",
              "      <th>0</th>\n",
              "      <td>Male</td>\n",
              "      <td>35</td>\n",
              "      <td>170</td>\n",
              "      <td>75</td>\n",
              "      <td>90.0</td>\n",
              "      <td>1.0</td>\n",
              "      <td>1.0</td>\n",
              "      <td>1.0</td>\n",
              "      <td>1.0</td>\n",
              "      <td>120.0</td>\n",
              "      <td>...</td>\n",
              "      <td>48.0</td>\n",
              "      <td>126.0</td>\n",
              "      <td>92.0</td>\n",
              "      <td>17.1</td>\n",
              "      <td>1.0</td>\n",
              "      <td>1.0</td>\n",
              "      <td>21.0</td>\n",
              "      <td>35.0</td>\n",
              "      <td>40.0</td>\n",
              "      <td>1.0</td>\n",
              "    </tr>\n",
              "    <tr>\n",
              "      <th>1</th>\n",
              "      <td>Male</td>\n",
              "      <td>30</td>\n",
              "      <td>180</td>\n",
              "      <td>80</td>\n",
              "      <td>89.0</td>\n",
              "      <td>0.9</td>\n",
              "      <td>1.2</td>\n",
              "      <td>1.0</td>\n",
              "      <td>1.0</td>\n",
              "      <td>130.0</td>\n",
              "      <td>...</td>\n",
              "      <td>55.0</td>\n",
              "      <td>148.0</td>\n",
              "      <td>121.0</td>\n",
              "      <td>15.8</td>\n",
              "      <td>1.0</td>\n",
              "      <td>0.9</td>\n",
              "      <td>20.0</td>\n",
              "      <td>36.0</td>\n",
              "      <td>27.0</td>\n",
              "      <td>3.0</td>\n",
              "    </tr>\n",
              "    <tr>\n",
              "      <th>2</th>\n",
              "      <td>Male</td>\n",
              "      <td>40</td>\n",
              "      <td>165</td>\n",
              "      <td>75</td>\n",
              "      <td>91.0</td>\n",
              "      <td>1.2</td>\n",
              "      <td>1.5</td>\n",
              "      <td>1.0</td>\n",
              "      <td>1.0</td>\n",
              "      <td>120.0</td>\n",
              "      <td>...</td>\n",
              "      <td>41.0</td>\n",
              "      <td>74.0</td>\n",
              "      <td>104.0</td>\n",
              "      <td>15.8</td>\n",
              "      <td>1.0</td>\n",
              "      <td>0.9</td>\n",
              "      <td>47.0</td>\n",
              "      <td>32.0</td>\n",
              "      <td>68.0</td>\n",
              "      <td>1.0</td>\n",
              "    </tr>\n",
              "    <tr>\n",
              "      <th>3</th>\n",
              "      <td>Male</td>\n",
              "      <td>50</td>\n",
              "      <td>175</td>\n",
              "      <td>80</td>\n",
              "      <td>91.0</td>\n",
              "      <td>1.5</td>\n",
              "      <td>1.2</td>\n",
              "      <td>1.0</td>\n",
              "      <td>1.0</td>\n",
              "      <td>145.0</td>\n",
              "      <td>...</td>\n",
              "      <td>76.0</td>\n",
              "      <td>104.0</td>\n",
              "      <td>106.0</td>\n",
              "      <td>17.6</td>\n",
              "      <td>1.0</td>\n",
              "      <td>1.1</td>\n",
              "      <td>29.0</td>\n",
              "      <td>34.0</td>\n",
              "      <td>18.0</td>\n",
              "      <td>1.0</td>\n",
              "    </tr>\n",
              "    <tr>\n",
              "      <th>4</th>\n",
              "      <td>Male</td>\n",
              "      <td>50</td>\n",
              "      <td>165</td>\n",
              "      <td>60</td>\n",
              "      <td>80.0</td>\n",
              "      <td>1.0</td>\n",
              "      <td>1.2</td>\n",
              "      <td>1.0</td>\n",
              "      <td>1.0</td>\n",
              "      <td>138.0</td>\n",
              "      <td>...</td>\n",
              "      <td>61.0</td>\n",
              "      <td>117.0</td>\n",
              "      <td>104.0</td>\n",
              "      <td>13.8</td>\n",
              "      <td>1.0</td>\n",
              "      <td>0.8</td>\n",
              "      <td>19.0</td>\n",
              "      <td>12.0</td>\n",
              "      <td>25.0</td>\n",
              "      <td>1.0</td>\n",
              "    </tr>\n",
              "  </tbody>\n",
              "</table>\n",
              "<p>5 rows × 23 columns</p>\n",
              "</div>"
            ],
            "text/plain": [
              "    sex  age  height  weight  waistline  sight_left  sight_right  hear_left  \\\n",
              "0  Male   35     170      75       90.0         1.0          1.0        1.0   \n",
              "1  Male   30     180      80       89.0         0.9          1.2        1.0   \n",
              "2  Male   40     165      75       91.0         1.2          1.5        1.0   \n",
              "3  Male   50     175      80       91.0         1.5          1.2        1.0   \n",
              "4  Male   50     165      60       80.0         1.0          1.2        1.0   \n",
              "\n",
              "   hear_right    SBP  ...  HDL_chole  LDL_chole  triglyceride  hemoglobin  \\\n",
              "0         1.0  120.0  ...       48.0      126.0          92.0        17.1   \n",
              "1         1.0  130.0  ...       55.0      148.0         121.0        15.8   \n",
              "2         1.0  120.0  ...       41.0       74.0         104.0        15.8   \n",
              "3         1.0  145.0  ...       76.0      104.0         106.0        17.6   \n",
              "4         1.0  138.0  ...       61.0      117.0         104.0        13.8   \n",
              "\n",
              "   urine_protein  serum_creatinine  SGOT_AST  SGOT_ALT  gamma_GTP  \\\n",
              "0            1.0               1.0      21.0      35.0       40.0   \n",
              "1            1.0               0.9      20.0      36.0       27.0   \n",
              "2            1.0               0.9      47.0      32.0       68.0   \n",
              "3            1.0               1.1      29.0      34.0       18.0   \n",
              "4            1.0               0.8      19.0      12.0       25.0   \n",
              "\n",
              "   Smoking State  \n",
              "0            1.0  \n",
              "1            3.0  \n",
              "2            1.0  \n",
              "3            1.0  \n",
              "4            1.0  \n",
              "\n",
              "[5 rows x 23 columns]"
            ]
          },
          "execution_count": 21,
          "metadata": {},
          "output_type": "execute_result"
        }
      ],
      "source": [
        "X = df.drop(['Drinker'], axis=1) # X diambil dari kolom selain DRK_YN\n",
        "y = df['Drinker'] # y diambil dari kolom DRK_YN\n",
        "\n",
        "X.head()"
      ]
    },
    {
      "cell_type": "markdown",
      "metadata": {
        "id": "-NIdU3ndAFtB"
      },
      "source": [
        "## Split between Train-Set and Test-Set"
      ]
    },
    {
      "cell_type": "code",
      "execution_count": 22,
      "metadata": {},
      "outputs": [
        {
          "name": "stdout",
          "output_type": "stream",
          "text": [
            "X_Train Size:  (793076, 23)\n",
            "X_Test Size:  (198270, 23)\n",
            "y_train Size:  (793076,)\n",
            "y_test Size:  (198270,)\n"
          ]
        }
      ],
      "source": [
        "#Splitting between train and test\n",
        "\n",
        "X_train, X_test, y_train, y_test = train_test_split(X, y, test_size = 0.2, random_state = 21, stratify=y)\n",
        "print('X_Train Size: ', X_train.shape)\n",
        "print('X_Test Size: ', X_test.shape)\n",
        "print('y_train Size: ', y_train.shape)\n",
        "print('y_test Size: ', y_test.shape)"
      ]
    },
    {
      "cell_type": "markdown",
      "metadata": {},
      "source": [
        "Setelah di split data train dan test dengan rasio 20% didapat\n",
        "- X_train : 793076 baris dan 23 kolom\n",
        "- X_test : 198270 baris dan 23 kolom\n",
        "- y_train : 793076 baris\n",
        "- y_test : 198270 baris"
      ]
    },
    {
      "cell_type": "markdown",
      "metadata": {
        "id": "svvBhcvxAIa4"
      },
      "source": [
        "## Handling Cardinality"
      ]
    },
    {
      "cell_type": "code",
      "execution_count": 23,
      "metadata": {},
      "outputs": [
        {
          "data": {
            "text/plain": [
              "['sex']"
            ]
          },
          "execution_count": 23,
          "metadata": {},
          "output_type": "execute_result"
        }
      ],
      "source": [
        "# Ambil data yang merupakan kategorik\n",
        "cat_list = X_train.select_dtypes(include = 'object').columns.tolist()\n",
        "cat_list"
      ]
    },
    {
      "cell_type": "code",
      "execution_count": 24,
      "metadata": {},
      "outputs": [
        {
          "data": {
            "text/plain": [
              "array(['Female', 'Male'], dtype=object)"
            ]
          },
          "execution_count": 24,
          "metadata": {},
          "output_type": "execute_result"
        }
      ],
      "source": [
        "X_train['sex'].unique()"
      ]
    },
    {
      "cell_type": "markdown",
      "metadata": {},
      "source": [
        "Dari hasil pengecekan kolom kategorik yaitu hanya kolom sex dan kalau kita lihat kategorik pada kolom sex bersifat low cardinality jadi tidak perlu kita handle.\\\n",
        "Namun kalau kita cek lagi dari dataset sebenarnya ada kolom kategorik lain hanya sajak sudah di encode menjadi numerikal seperti kolom:\n",
        "- hear left (ordinal)\n",
        "- hear right (ordinal)\n",
        "- urine protein (ordinal)\n",
        "- Smoking State (ordinal)\n",
        "\n",
        "oleh karena itu kita bisa membuat list katergorikal yang terdiri dari kolom sex, hear left, hear right, urine protein, dan smoking state"
      ]
    },
    {
      "cell_type": "code",
      "execution_count": 25,
      "metadata": {},
      "outputs": [],
      "source": [
        "# List kolom kategorik\n",
        "cat_list = ['sex', 'hear_left', 'hear_right', 'urine_protein', 'Smoking State']"
      ]
    },
    {
      "cell_type": "code",
      "execution_count": 26,
      "metadata": {},
      "outputs": [
        {
          "data": {
            "text/html": [
              "<div>\n",
              "<style scoped>\n",
              "    .dataframe tbody tr th:only-of-type {\n",
              "        vertical-align: middle;\n",
              "    }\n",
              "\n",
              "    .dataframe tbody tr th {\n",
              "        vertical-align: top;\n",
              "    }\n",
              "\n",
              "    .dataframe thead th {\n",
              "        text-align: right;\n",
              "    }\n",
              "</style>\n",
              "<table border=\"1\" class=\"dataframe\">\n",
              "  <thead>\n",
              "    <tr style=\"text-align: right;\">\n",
              "      <th></th>\n",
              "      <th>sex</th>\n",
              "      <th>hear_left</th>\n",
              "      <th>hear_right</th>\n",
              "      <th>urine_protein</th>\n",
              "      <th>Smoking State</th>\n",
              "    </tr>\n",
              "  </thead>\n",
              "  <tbody>\n",
              "    <tr>\n",
              "      <th>452498</th>\n",
              "      <td>Female</td>\n",
              "      <td>1.0</td>\n",
              "      <td>1.0</td>\n",
              "      <td>1.0</td>\n",
              "      <td>1.0</td>\n",
              "    </tr>\n",
              "    <tr>\n",
              "      <th>156305</th>\n",
              "      <td>Female</td>\n",
              "      <td>1.0</td>\n",
              "      <td>1.0</td>\n",
              "      <td>1.0</td>\n",
              "      <td>1.0</td>\n",
              "    </tr>\n",
              "    <tr>\n",
              "      <th>928293</th>\n",
              "      <td>Female</td>\n",
              "      <td>1.0</td>\n",
              "      <td>1.0</td>\n",
              "      <td>1.0</td>\n",
              "      <td>1.0</td>\n",
              "    </tr>\n",
              "    <tr>\n",
              "      <th>54411</th>\n",
              "      <td>Female</td>\n",
              "      <td>1.0</td>\n",
              "      <td>1.0</td>\n",
              "      <td>1.0</td>\n",
              "      <td>1.0</td>\n",
              "    </tr>\n",
              "    <tr>\n",
              "      <th>58492</th>\n",
              "      <td>Male</td>\n",
              "      <td>1.0</td>\n",
              "      <td>1.0</td>\n",
              "      <td>1.0</td>\n",
              "      <td>2.0</td>\n",
              "    </tr>\n",
              "  </tbody>\n",
              "</table>\n",
              "</div>"
            ],
            "text/plain": [
              "           sex  hear_left  hear_right  urine_protein  Smoking State\n",
              "452498  Female        1.0         1.0            1.0            1.0\n",
              "156305  Female        1.0         1.0            1.0            1.0\n",
              "928293  Female        1.0         1.0            1.0            1.0\n",
              "54411   Female        1.0         1.0            1.0            1.0\n",
              "58492     Male        1.0         1.0            1.0            2.0"
            ]
          },
          "execution_count": 26,
          "metadata": {},
          "output_type": "execute_result"
        }
      ],
      "source": [
        "X_train_cat = X_train[cat_list].copy()\n",
        "X_test_cat = X_test[cat_list].copy()\n",
        "\n",
        "X_train_cat.head()"
      ]
    },
    {
      "cell_type": "markdown",
      "metadata": {
        "id": "OIvePoyBANKm"
      },
      "source": [
        "## Handling Outlier"
      ]
    },
    {
      "cell_type": "markdown",
      "metadata": {},
      "source": [
        "**Cek persentasi Outluer dari setiap kolom numerik**"
      ]
    },
    {
      "cell_type": "code",
      "execution_count": 27,
      "metadata": {},
      "outputs": [],
      "source": [
        "## Buat function untuk mengkalkulasi upper dan lower\n",
        "\n",
        "# untuk kolom yang bersifat normal\n",
        "def find_normal_boundaries(df, variable):\n",
        "    upper_boundary = df[variable].mean() + 3 * df[variable].std()\n",
        "    lower_boundary = df[variable].mean() - 3 * df[variable].std()\n",
        "\n",
        "    return upper_boundary, lower_boundary\n",
        "\n",
        "# untuk kolom yang bersifat skew\n",
        "def find_skewed_boundaries(df, variable, distance):\n",
        "    IQR = df[variable].quantile(0.75) - df[variable].quantile(0.25)\n",
        "\n",
        "    lower_boundary = df[variable].quantile(0.25) - (IQR * distance)\n",
        "    upper_boundary = df[variable].quantile(0.75) + (IQR * distance)\n",
        "\n",
        "    return upper_boundary, lower_boundary"
      ]
    },
    {
      "cell_type": "code",
      "execution_count": 28,
      "metadata": {},
      "outputs": [],
      "source": [
        "nama_kolom = []\n",
        "list_upper_boundary = []\n",
        "list_lower_boundary = []\n",
        "list_skewed = []\n",
        "list_outlier = []\n",
        "\n",
        "# looping untuk mendapatkan nilai upper boundary dan lower boundary dari tiap kolom numerik serta persentase outliernya\n",
        "for col in num_list:\n",
        "    if col in col_norm:\n",
        "        # print('kolom normal', col)\n",
        "        upper_boundary, lower_boundary = find_normal_boundaries(X_train, col)\n",
        "        nama_kolom.append(col)\n",
        "        list_skewed.append('Normal')\n",
        "        list_upper_boundary.append(upper_boundary)\n",
        "        list_lower_boundary.append(lower_boundary)\n",
        "        list_outlier.append(len(X_train[(X_train[col] > upper_boundary) | (X_train[col] < lower_boundary)])/ len(X_train) * 100)\n",
        "    elif col in col_skew:\n",
        "        # print('kolom skew', col)\n",
        "        upper_boundary, lower_boundary = find_skewed_boundaries(X_train, col, 3)\n",
        "        nama_kolom.append(col)\n",
        "        list_skewed.append('Skewed')\n",
        "        list_upper_boundary.append(upper_boundary)\n",
        "        list_lower_boundary.append(lower_boundary)\n",
        "        list_outlier.append(len(X_train[(X_train[col] > upper_boundary) | (X_train[col] < lower_boundary)])/ len(X_train) * 100)"
      ]
    },
    {
      "cell_type": "code",
      "execution_count": 29,
      "metadata": {},
      "outputs": [
        {
          "data": {
            "text/html": [
              "<div>\n",
              "<style scoped>\n",
              "    .dataframe tbody tr th:only-of-type {\n",
              "        vertical-align: middle;\n",
              "    }\n",
              "\n",
              "    .dataframe tbody tr th {\n",
              "        vertical-align: top;\n",
              "    }\n",
              "\n",
              "    .dataframe thead th {\n",
              "        text-align: right;\n",
              "    }\n",
              "</style>\n",
              "<table border=\"1\" class=\"dataframe\">\n",
              "  <thead>\n",
              "    <tr style=\"text-align: right;\">\n",
              "      <th></th>\n",
              "      <th>Nama Kolom</th>\n",
              "      <th>Nilai Skewnes</th>\n",
              "      <th>Skewed</th>\n",
              "      <th>Upper Boundary</th>\n",
              "      <th>Lower Boundary</th>\n",
              "      <th>Persentase Outlier</th>\n",
              "    </tr>\n",
              "  </thead>\n",
              "  <tbody>\n",
              "    <tr>\n",
              "      <th>1</th>\n",
              "      <td>height</td>\n",
              "      <td>-0.022737</td>\n",
              "      <td>Normal</td>\n",
              "      <td>190.094197</td>\n",
              "      <td>134.381074</td>\n",
              "      <td>0.008574</td>\n",
              "    </tr>\n",
              "    <tr>\n",
              "      <th>2</th>\n",
              "      <td>weight</td>\n",
              "      <td>0.576557</td>\n",
              "      <td>Skewed</td>\n",
              "      <td>115.000000</td>\n",
              "      <td>10.000000</td>\n",
              "      <td>0.037323</td>\n",
              "    </tr>\n",
              "    <tr>\n",
              "      <th>3</th>\n",
              "      <td>waistline</td>\n",
              "      <td>26.788440</td>\n",
              "      <td>Skewed</td>\n",
              "      <td>128.900000</td>\n",
              "      <td>33.000000</td>\n",
              "      <td>0.009835</td>\n",
              "    </tr>\n",
              "    <tr>\n",
              "      <th>4</th>\n",
              "      <td>sight_left</td>\n",
              "      <td>9.994626</td>\n",
              "      <td>Skewed</td>\n",
              "      <td>2.700000</td>\n",
              "      <td>-0.800000</td>\n",
              "      <td>0.314093</td>\n",
              "    </tr>\n",
              "    <tr>\n",
              "      <th>5</th>\n",
              "      <td>sight_right</td>\n",
              "      <td>10.033647</td>\n",
              "      <td>Skewed</td>\n",
              "      <td>2.700000</td>\n",
              "      <td>-0.800000</td>\n",
              "      <td>0.309428</td>\n",
              "    </tr>\n",
              "    <tr>\n",
              "      <th>6</th>\n",
              "      <td>SBP</td>\n",
              "      <td>0.482060</td>\n",
              "      <td>Normal</td>\n",
              "      <td>166.033315</td>\n",
              "      <td>78.820944</td>\n",
              "      <td>0.646092</td>\n",
              "    </tr>\n",
              "    <tr>\n",
              "      <th>7</th>\n",
              "      <td>DBP</td>\n",
              "      <td>0.400034</td>\n",
              "      <td>Normal</td>\n",
              "      <td>105.692147</td>\n",
              "      <td>46.404263</td>\n",
              "      <td>0.622008</td>\n",
              "    </tr>\n",
              "    <tr>\n",
              "      <th>8</th>\n",
              "      <td>BLDS</td>\n",
              "      <td>4.617377</td>\n",
              "      <td>Skewed</td>\n",
              "      <td>156.000000</td>\n",
              "      <td>37.000000</td>\n",
              "      <td>2.800488</td>\n",
              "    </tr>\n",
              "    <tr>\n",
              "      <th>9</th>\n",
              "      <td>tot_chole</td>\n",
              "      <td>1.556882</td>\n",
              "      <td>Skewed</td>\n",
              "      <td>369.000000</td>\n",
              "      <td>19.000000</td>\n",
              "      <td>0.051824</td>\n",
              "    </tr>\n",
              "    <tr>\n",
              "      <th>10</th>\n",
              "      <td>HDL_chole</td>\n",
              "      <td>104.577635</td>\n",
              "      <td>Skewed</td>\n",
              "      <td>126.000000</td>\n",
              "      <td>-14.000000</td>\n",
              "      <td>0.060902</td>\n",
              "    </tr>\n",
              "    <tr>\n",
              "      <th>11</th>\n",
              "      <td>LDL_chole</td>\n",
              "      <td>5.251739</td>\n",
              "      <td>Skewed</td>\n",
              "      <td>273.000000</td>\n",
              "      <td>-49.000000</td>\n",
              "      <td>0.042367</td>\n",
              "    </tr>\n",
              "    <tr>\n",
              "      <th>12</th>\n",
              "      <td>triglyceride</td>\n",
              "      <td>6.529373</td>\n",
              "      <td>Skewed</td>\n",
              "      <td>417.000000</td>\n",
              "      <td>-185.000000</td>\n",
              "      <td>1.714590</td>\n",
              "    </tr>\n",
              "    <tr>\n",
              "      <th>13</th>\n",
              "      <td>hemoglobin</td>\n",
              "      <td>-0.383988</td>\n",
              "      <td>Normal</td>\n",
              "      <td>18.982914</td>\n",
              "      <td>9.477143</td>\n",
              "      <td>0.696528</td>\n",
              "    </tr>\n",
              "    <tr>\n",
              "      <th>14</th>\n",
              "      <td>serum_creatinine</td>\n",
              "      <td>111.022058</td>\n",
              "      <td>Skewed</td>\n",
              "      <td>1.900000</td>\n",
              "      <td>-0.200000</td>\n",
              "      <td>0.207420</td>\n",
              "    </tr>\n",
              "    <tr>\n",
              "      <th>15</th>\n",
              "      <td>SGOT_AST</td>\n",
              "      <td>150.491690</td>\n",
              "      <td>Skewed</td>\n",
              "      <td>55.000000</td>\n",
              "      <td>-8.000000</td>\n",
              "      <td>2.793931</td>\n",
              "    </tr>\n",
              "    <tr>\n",
              "      <th>16</th>\n",
              "      <td>SGOT_ALT</td>\n",
              "      <td>50.038872</td>\n",
              "      <td>Skewed</td>\n",
              "      <td>71.000000</td>\n",
              "      <td>-27.000000</td>\n",
              "      <td>3.025687</td>\n",
              "    </tr>\n",
              "    <tr>\n",
              "      <th>17</th>\n",
              "      <td>gamma_GTP</td>\n",
              "      <td>7.718509</td>\n",
              "      <td>Skewed</td>\n",
              "      <td>108.000000</td>\n",
              "      <td>-53.000000</td>\n",
              "      <td>4.757426</td>\n",
              "    </tr>\n",
              "  </tbody>\n",
              "</table>\n",
              "</div>"
            ],
            "text/plain": [
              "          Nama Kolom  Nilai Skewnes  Skewed  Upper Boundary  Lower Boundary  \\\n",
              "1             height      -0.022737  Normal      190.094197      134.381074   \n",
              "2             weight       0.576557  Skewed      115.000000       10.000000   \n",
              "3          waistline      26.788440  Skewed      128.900000       33.000000   \n",
              "4         sight_left       9.994626  Skewed        2.700000       -0.800000   \n",
              "5        sight_right      10.033647  Skewed        2.700000       -0.800000   \n",
              "6                SBP       0.482060  Normal      166.033315       78.820944   \n",
              "7                DBP       0.400034  Normal      105.692147       46.404263   \n",
              "8               BLDS       4.617377  Skewed      156.000000       37.000000   \n",
              "9          tot_chole       1.556882  Skewed      369.000000       19.000000   \n",
              "10         HDL_chole     104.577635  Skewed      126.000000      -14.000000   \n",
              "11         LDL_chole       5.251739  Skewed      273.000000      -49.000000   \n",
              "12      triglyceride       6.529373  Skewed      417.000000     -185.000000   \n",
              "13        hemoglobin      -0.383988  Normal       18.982914        9.477143   \n",
              "14  serum_creatinine     111.022058  Skewed        1.900000       -0.200000   \n",
              "15          SGOT_AST     150.491690  Skewed       55.000000       -8.000000   \n",
              "16          SGOT_ALT      50.038872  Skewed       71.000000      -27.000000   \n",
              "17         gamma_GTP       7.718509  Skewed      108.000000      -53.000000   \n",
              "\n",
              "    Persentase Outlier  \n",
              "1             0.008574  \n",
              "2             0.037323  \n",
              "3             0.009835  \n",
              "4             0.314093  \n",
              "5             0.309428  \n",
              "6             0.646092  \n",
              "7             0.622008  \n",
              "8             2.800488  \n",
              "9             0.051824  \n",
              "10            0.060902  \n",
              "11            0.042367  \n",
              "12            1.714590  \n",
              "13            0.696528  \n",
              "14            0.207420  \n",
              "15            2.793931  \n",
              "16            3.025687  \n",
              "17            4.757426  "
            ]
          },
          "execution_count": 29,
          "metadata": {},
          "output_type": "execute_result"
        }
      ],
      "source": [
        "data_outlier = pd.DataFrame()\n",
        "data_outlier['Nama Kolom'] = nama_kolom\n",
        "data_outlier['Nilai Skewnes'] = nilai_skew['nilai skewness']\n",
        "data_outlier['Skewed'] = list_skewed\n",
        "data_outlier['Upper Boundary'] = list_upper_boundary\n",
        "data_outlier['Lower Boundary'] = list_lower_boundary\n",
        "data_outlier['Persentase Outlier'] = list_outlier\n",
        "data_outlier[data_outlier['Persentase Outlier']>0]"
      ]
    },
    {
      "cell_type": "markdown",
      "metadata": {},
      "source": [
        "Dari hasil perhitungan persentase outlier untuk kolom bersifat numerik, hampir semua kolom memiliki outlier walaupun persentasenya kecil kecuali kolom age yang tidak ada outliernya"
      ]
    },
    {
      "cell_type": "markdown",
      "metadata": {},
      "source": [
        "**Handling Outlier**"
      ]
    },
    {
      "cell_type": "code",
      "execution_count": 30,
      "metadata": {},
      "outputs": [],
      "source": [
        "# Capping the normal distribution\n",
        "winsoriser_normal = Winsorizer(capping_method='gaussian',\n",
        "                            tail='both',\n",
        "                            fold=3,\n",
        "                            variables= col_norm,\n",
        "                            missing_values='ignore')\n",
        "\n",
        "X_train_capped = winsoriser_normal.fit_transform(X_train)\n",
        "X_test_capped = winsoriser_normal.transform(X_test)"
      ]
    },
    {
      "cell_type": "code",
      "execution_count": 31,
      "metadata": {},
      "outputs": [],
      "source": [
        "#Handling outlier skewed dist\n",
        "winsorizer_notnormal = Winsorizer(capping_method = 'iqr',\n",
        "                                  tail = 'both',\n",
        "                                  fold = 3,\n",
        "                                  variables = col_skew,\n",
        "                                  missing_values='ignore')\n",
        "X_train_capped = winsorizer_notnormal.fit_transform(X_train_capped)\n",
        "X_test_capped = winsorizer_notnormal.transform(X_test_capped)"
      ]
    },
    {
      "cell_type": "markdown",
      "metadata": {
        "id": "4FS1679BAS7L"
      },
      "source": [
        "## Handling Missing Values"
      ]
    },
    {
      "cell_type": "code",
      "execution_count": 32,
      "metadata": {},
      "outputs": [
        {
          "data": {
            "text/plain": [
              "sex                 0\n",
              "age                 0\n",
              "height              0\n",
              "weight              0\n",
              "waistline           0\n",
              "sight_left          0\n",
              "sight_right         0\n",
              "hear_left           0\n",
              "hear_right          0\n",
              "SBP                 0\n",
              "DBP                 0\n",
              "BLDS                0\n",
              "tot_chole           0\n",
              "HDL_chole           0\n",
              "LDL_chole           0\n",
              "triglyceride        0\n",
              "hemoglobin          0\n",
              "urine_protein       0\n",
              "serum_creatinine    0\n",
              "SGOT_AST            0\n",
              "SGOT_ALT            0\n",
              "gamma_GTP           0\n",
              "Smoking State       0\n",
              "dtype: int64"
            ]
          },
          "execution_count": 32,
          "metadata": {},
          "output_type": "execute_result"
        }
      ],
      "source": [
        "X_train.isnull().sum()"
      ]
    },
    {
      "cell_type": "code",
      "execution_count": 33,
      "metadata": {},
      "outputs": [
        {
          "data": {
            "text/plain": [
              "sex                 0\n",
              "age                 0\n",
              "height              0\n",
              "weight              0\n",
              "waistline           0\n",
              "sight_left          0\n",
              "sight_right         0\n",
              "hear_left           0\n",
              "hear_right          0\n",
              "SBP                 0\n",
              "DBP                 0\n",
              "BLDS                0\n",
              "tot_chole           0\n",
              "HDL_chole           0\n",
              "LDL_chole           0\n",
              "triglyceride        0\n",
              "hemoglobin          0\n",
              "urine_protein       0\n",
              "serum_creatinine    0\n",
              "SGOT_AST            0\n",
              "SGOT_ALT            0\n",
              "gamma_GTP           0\n",
              "Smoking State       0\n",
              "dtype: int64"
            ]
          },
          "execution_count": 33,
          "metadata": {},
          "output_type": "execute_result"
        }
      ],
      "source": [
        "X_test.isnull().sum()"
      ]
    },
    {
      "cell_type": "code",
      "execution_count": 34,
      "metadata": {},
      "outputs": [
        {
          "data": {
            "text/plain": [
              "0"
            ]
          },
          "execution_count": 34,
          "metadata": {},
          "output_type": "execute_result"
        }
      ],
      "source": [
        "y_train.isnull().sum()"
      ]
    },
    {
      "cell_type": "code",
      "execution_count": 35,
      "metadata": {},
      "outputs": [
        {
          "data": {
            "text/plain": [
              "0"
            ]
          },
          "execution_count": 35,
          "metadata": {},
          "output_type": "execute_result"
        }
      ],
      "source": [
        "y_test.isnull().sum()"
      ]
    },
    {
      "cell_type": "markdown",
      "metadata": {},
      "source": [
        "Tidak ada missing value pada data train dan data test begitu juga pada target train dan test"
      ]
    },
    {
      "cell_type": "markdown",
      "metadata": {
        "id": "ul0_HRGAAZqw"
      },
      "source": [
        "## Feature Selection"
      ]
    },
    {
      "cell_type": "markdown",
      "metadata": {},
      "source": [
        "**Cek Korelasi antar kolom dengan target**"
      ]
    },
    {
      "cell_type": "code",
      "execution_count": 36,
      "metadata": {},
      "outputs": [
        {
          "data": {
            "text/plain": [
              "Index(['sex', 'age', 'height', 'weight', 'waistline', 'sight_left',\n",
              "       'sight_right', 'hear_left', 'hear_right', 'SBP', 'DBP', 'BLDS',\n",
              "       'tot_chole', 'HDL_chole', 'LDL_chole', 'triglyceride', 'hemoglobin',\n",
              "       'urine_protein', 'serum_creatinine', 'SGOT_AST', 'SGOT_ALT',\n",
              "       'gamma_GTP', 'Smoking State'],\n",
              "      dtype='object')"
            ]
          },
          "execution_count": 36,
          "metadata": {},
          "output_type": "execute_result"
        }
      ],
      "source": [
        "X_train_capped.columns"
      ]
    },
    {
      "cell_type": "code",
      "execution_count": 37,
      "metadata": {},
      "outputs": [
        {
          "data": {
            "text/html": [
              "<div>\n",
              "<style scoped>\n",
              "    .dataframe tbody tr th:only-of-type {\n",
              "        vertical-align: middle;\n",
              "    }\n",
              "\n",
              "    .dataframe tbody tr th {\n",
              "        vertical-align: top;\n",
              "    }\n",
              "\n",
              "    .dataframe thead th {\n",
              "        text-align: right;\n",
              "    }\n",
              "</style>\n",
              "<table border=\"1\" class=\"dataframe\">\n",
              "  <thead>\n",
              "    <tr style=\"text-align: right;\">\n",
              "      <th></th>\n",
              "      <th>nama kolom</th>\n",
              "      <th>hasil</th>\n",
              "    </tr>\n",
              "  </thead>\n",
              "  <tbody>\n",
              "    <tr>\n",
              "      <th>0</th>\n",
              "      <td>sex</td>\n",
              "      <td>ada korelasi</td>\n",
              "    </tr>\n",
              "    <tr>\n",
              "      <th>1</th>\n",
              "      <td>age</td>\n",
              "      <td>ada korelasi</td>\n",
              "    </tr>\n",
              "    <tr>\n",
              "      <th>2</th>\n",
              "      <td>height</td>\n",
              "      <td>ada korelasi</td>\n",
              "    </tr>\n",
              "    <tr>\n",
              "      <th>3</th>\n",
              "      <td>weight</td>\n",
              "      <td>ada korelasi</td>\n",
              "    </tr>\n",
              "    <tr>\n",
              "      <th>4</th>\n",
              "      <td>waistline</td>\n",
              "      <td>ada korelasi</td>\n",
              "    </tr>\n",
              "    <tr>\n",
              "      <th>5</th>\n",
              "      <td>sight_left</td>\n",
              "      <td>ada korelasi</td>\n",
              "    </tr>\n",
              "    <tr>\n",
              "      <th>6</th>\n",
              "      <td>sight_right</td>\n",
              "      <td>ada korelasi</td>\n",
              "    </tr>\n",
              "    <tr>\n",
              "      <th>7</th>\n",
              "      <td>hear_left</td>\n",
              "      <td>ada korelasi</td>\n",
              "    </tr>\n",
              "    <tr>\n",
              "      <th>8</th>\n",
              "      <td>hear_right</td>\n",
              "      <td>ada korelasi</td>\n",
              "    </tr>\n",
              "    <tr>\n",
              "      <th>9</th>\n",
              "      <td>SBP</td>\n",
              "      <td>ada korelasi</td>\n",
              "    </tr>\n",
              "    <tr>\n",
              "      <th>10</th>\n",
              "      <td>DBP</td>\n",
              "      <td>ada korelasi</td>\n",
              "    </tr>\n",
              "    <tr>\n",
              "      <th>11</th>\n",
              "      <td>BLDS</td>\n",
              "      <td>ada korelasi</td>\n",
              "    </tr>\n",
              "    <tr>\n",
              "      <th>12</th>\n",
              "      <td>tot_chole</td>\n",
              "      <td>ada korelasi</td>\n",
              "    </tr>\n",
              "    <tr>\n",
              "      <th>13</th>\n",
              "      <td>HDL_chole</td>\n",
              "      <td>ada korelasi</td>\n",
              "    </tr>\n",
              "    <tr>\n",
              "      <th>14</th>\n",
              "      <td>LDL_chole</td>\n",
              "      <td>ada korelasi</td>\n",
              "    </tr>\n",
              "    <tr>\n",
              "      <th>15</th>\n",
              "      <td>triglyceride</td>\n",
              "      <td>ada korelasi</td>\n",
              "    </tr>\n",
              "    <tr>\n",
              "      <th>16</th>\n",
              "      <td>hemoglobin</td>\n",
              "      <td>ada korelasi</td>\n",
              "    </tr>\n",
              "    <tr>\n",
              "      <th>17</th>\n",
              "      <td>urine_protein</td>\n",
              "      <td>ada korelasi</td>\n",
              "    </tr>\n",
              "    <tr>\n",
              "      <th>18</th>\n",
              "      <td>serum_creatinine</td>\n",
              "      <td>ada korelasi</td>\n",
              "    </tr>\n",
              "    <tr>\n",
              "      <th>19</th>\n",
              "      <td>SGOT_AST</td>\n",
              "      <td>ada korelasi</td>\n",
              "    </tr>\n",
              "    <tr>\n",
              "      <th>20</th>\n",
              "      <td>SGOT_ALT</td>\n",
              "      <td>ada korelasi</td>\n",
              "    </tr>\n",
              "    <tr>\n",
              "      <th>21</th>\n",
              "      <td>gamma_GTP</td>\n",
              "      <td>ada korelasi</td>\n",
              "    </tr>\n",
              "    <tr>\n",
              "      <th>22</th>\n",
              "      <td>Smoking State</td>\n",
              "      <td>ada korelasi</td>\n",
              "    </tr>\n",
              "  </tbody>\n",
              "</table>\n",
              "</div>"
            ],
            "text/plain": [
              "          nama kolom         hasil\n",
              "0                sex  ada korelasi\n",
              "1                age  ada korelasi\n",
              "2             height  ada korelasi\n",
              "3             weight  ada korelasi\n",
              "4          waistline  ada korelasi\n",
              "5         sight_left  ada korelasi\n",
              "6        sight_right  ada korelasi\n",
              "7          hear_left  ada korelasi\n",
              "8         hear_right  ada korelasi\n",
              "9                SBP  ada korelasi\n",
              "10               DBP  ada korelasi\n",
              "11              BLDS  ada korelasi\n",
              "12         tot_chole  ada korelasi\n",
              "13         HDL_chole  ada korelasi\n",
              "14         LDL_chole  ada korelasi\n",
              "15      triglyceride  ada korelasi\n",
              "16        hemoglobin  ada korelasi\n",
              "17     urine_protein  ada korelasi\n",
              "18  serum_creatinine  ada korelasi\n",
              "19          SGOT_AST  ada korelasi\n",
              "20          SGOT_ALT  ada korelasi\n",
              "21         gamma_GTP  ada korelasi\n",
              "22     Smoking State  ada korelasi"
            ]
          },
          "execution_count": 37,
          "metadata": {},
          "output_type": "execute_result"
        }
      ],
      "source": [
        "#melihat korelasi antar kolom dengan target berdasarkan nilai p-value nya\n",
        "\n",
        "p_values = []\n",
        "interpretasi = []\n",
        "cols = []\n",
        "\n",
        "for col in X_train_capped.columns:\n",
        "  corr_coef, p_value = kendalltau(X_train_capped[col], y_train)\n",
        "\n",
        "  p_values.append(p_value)\n",
        "  cols.append(col)\n",
        "\n",
        "  if p_value<0.05:\n",
        "    interpretasi.append('ada korelasi')\n",
        "  else:\n",
        "    interpretasi.append('Tidak ada korelasi')\n",
        "pd.DataFrame({'nama kolom' : cols,\n",
        "             'hasil' : interpretasi})"
      ]
    },
    {
      "cell_type": "markdown",
      "metadata": {},
      "source": [
        "Berdasarkan hasil pengecekan korelasi didapatkan bahwa semua kolom memiliki korelasi dengan target (Drinker) sehingga kita akan pakai semua feature untuk modeling"
      ]
    },
    {
      "cell_type": "markdown",
      "metadata": {
        "id": "2XCPMBXvAjGZ"
      },
      "source": [
        "## Pipeline untuk Preprocessing"
      ]
    },
    {
      "cell_type": "code",
      "execution_count": 38,
      "metadata": {},
      "outputs": [
        {
          "name": "stdout",
          "output_type": "stream",
          "text": [
            "Kolom Kategorik ['sex', 'hear_left', 'hear_right', 'urine_protein', 'Smoking State']\n",
            "Numerikal Kolom yang skew ['weight', 'waistline', 'sight_left', 'sight_right', 'BLDS', 'tot_chole', 'HDL_chole', 'LDL_chole', 'triglyceride', 'serum_creatinine', 'SGOT_AST', 'SGOT_ALT', 'gamma_GTP']\n",
            "Numerikal Kolom yang normal ['age', 'height', 'SBP', 'DBP', 'hemoglobin']\n"
          ]
        }
      ],
      "source": [
        "print('Kolom Kategorik', cat_list)\n",
        "print('Numerikal Kolom yang skew', col_skew)\n",
        "print('Numerikal Kolom yang normal', col_norm)"
      ]
    },
    {
      "cell_type": "code",
      "execution_count": 39,
      "metadata": {},
      "outputs": [],
      "source": [
        "cat_one_hot = ['sex']"
      ]
    },
    {
      "cell_type": "code",
      "execution_count": 40,
      "metadata": {},
      "outputs": [],
      "source": [
        "# make pipeline for preprocessing\n",
        "num_skew_pipeline = make_pipeline(MinMaxScaler())\n",
        "num_norm_pipeline = make_pipeline(StandardScaler())\n",
        "cat_one_hot_pipeline = make_pipeline(OneHotEncoder(handle_unknown=\"ignore\"))\n",
        "\n",
        "preprocessing_pipeline = ColumnTransformer([\n",
        "    ('pipe_num_skew', num_skew_pipeline, col_skew),\n",
        "    ('pipe_num_norm', num_norm_pipeline, col_norm),\n",
        "    ('pipe_cat_one_hot', cat_one_hot_pipeline, cat_one_hot)\n",
        "\n",
        "],\n",
        "remainder=\"passthrough\",\n",
        ")\n"
      ]
    },
    {
      "cell_type": "code",
      "execution_count": 41,
      "metadata": {},
      "outputs": [
        {
          "data": {
            "text/html": [
              "<style>#sk-container-id-1 {color: black;}#sk-container-id-1 pre{padding: 0;}#sk-container-id-1 div.sk-toggleable {background-color: white;}#sk-container-id-1 label.sk-toggleable__label {cursor: pointer;display: block;width: 100%;margin-bottom: 0;padding: 0.3em;box-sizing: border-box;text-align: center;}#sk-container-id-1 label.sk-toggleable__label-arrow:before {content: \"▸\";float: left;margin-right: 0.25em;color: #696969;}#sk-container-id-1 label.sk-toggleable__label-arrow:hover:before {color: black;}#sk-container-id-1 div.sk-estimator:hover label.sk-toggleable__label-arrow:before {color: black;}#sk-container-id-1 div.sk-toggleable__content {max-height: 0;max-width: 0;overflow: hidden;text-align: left;background-color: #f0f8ff;}#sk-container-id-1 div.sk-toggleable__content pre {margin: 0.2em;color: black;border-radius: 0.25em;background-color: #f0f8ff;}#sk-container-id-1 input.sk-toggleable__control:checked~div.sk-toggleable__content {max-height: 200px;max-width: 100%;overflow: auto;}#sk-container-id-1 input.sk-toggleable__control:checked~label.sk-toggleable__label-arrow:before {content: \"▾\";}#sk-container-id-1 div.sk-estimator input.sk-toggleable__control:checked~label.sk-toggleable__label {background-color: #d4ebff;}#sk-container-id-1 div.sk-label input.sk-toggleable__control:checked~label.sk-toggleable__label {background-color: #d4ebff;}#sk-container-id-1 input.sk-hidden--visually {border: 0;clip: rect(1px 1px 1px 1px);clip: rect(1px, 1px, 1px, 1px);height: 1px;margin: -1px;overflow: hidden;padding: 0;position: absolute;width: 1px;}#sk-container-id-1 div.sk-estimator {font-family: monospace;background-color: #f0f8ff;border: 1px dotted black;border-radius: 0.25em;box-sizing: border-box;margin-bottom: 0.5em;}#sk-container-id-1 div.sk-estimator:hover {background-color: #d4ebff;}#sk-container-id-1 div.sk-parallel-item::after {content: \"\";width: 100%;border-bottom: 1px solid gray;flex-grow: 1;}#sk-container-id-1 div.sk-label:hover label.sk-toggleable__label {background-color: #d4ebff;}#sk-container-id-1 div.sk-serial::before {content: \"\";position: absolute;border-left: 1px solid gray;box-sizing: border-box;top: 0;bottom: 0;left: 50%;z-index: 0;}#sk-container-id-1 div.sk-serial {display: flex;flex-direction: column;align-items: center;background-color: white;padding-right: 0.2em;padding-left: 0.2em;position: relative;}#sk-container-id-1 div.sk-item {position: relative;z-index: 1;}#sk-container-id-1 div.sk-parallel {display: flex;align-items: stretch;justify-content: center;background-color: white;position: relative;}#sk-container-id-1 div.sk-item::before, #sk-container-id-1 div.sk-parallel-item::before {content: \"\";position: absolute;border-left: 1px solid gray;box-sizing: border-box;top: 0;bottom: 0;left: 50%;z-index: -1;}#sk-container-id-1 div.sk-parallel-item {display: flex;flex-direction: column;z-index: 1;position: relative;background-color: white;}#sk-container-id-1 div.sk-parallel-item:first-child::after {align-self: flex-end;width: 50%;}#sk-container-id-1 div.sk-parallel-item:last-child::after {align-self: flex-start;width: 50%;}#sk-container-id-1 div.sk-parallel-item:only-child::after {width: 0;}#sk-container-id-1 div.sk-dashed-wrapped {border: 1px dashed gray;margin: 0 0.4em 0.5em 0.4em;box-sizing: border-box;padding-bottom: 0.4em;background-color: white;}#sk-container-id-1 div.sk-label label {font-family: monospace;font-weight: bold;display: inline-block;line-height: 1.2em;}#sk-container-id-1 div.sk-label-container {text-align: center;}#sk-container-id-1 div.sk-container {/* jupyter's `normalize.less` sets `[hidden] { display: none; }` but bootstrap.min.css set `[hidden] { display: none !important; }` so we also need the `!important` here to be able to override the default hidden behavior on the sphinx rendered scikit-learn.org. See: https://github.com/scikit-learn/scikit-learn/issues/21755 */display: inline-block !important;position: relative;}#sk-container-id-1 div.sk-text-repr-fallback {display: none;}</style><div id=\"sk-container-id-1\" class=\"sk-top-container\"><div class=\"sk-text-repr-fallback\"><pre>ColumnTransformer(remainder=&#x27;passthrough&#x27;,\n",
              "                  transformers=[(&#x27;pipe_num_skew&#x27;,\n",
              "                                 Pipeline(steps=[(&#x27;minmaxscaler&#x27;,\n",
              "                                                  MinMaxScaler())]),\n",
              "                                 [&#x27;weight&#x27;, &#x27;waistline&#x27;, &#x27;sight_left&#x27;,\n",
              "                                  &#x27;sight_right&#x27;, &#x27;BLDS&#x27;, &#x27;tot_chole&#x27;,\n",
              "                                  &#x27;HDL_chole&#x27;, &#x27;LDL_chole&#x27;, &#x27;triglyceride&#x27;,\n",
              "                                  &#x27;serum_creatinine&#x27;, &#x27;SGOT_AST&#x27;, &#x27;SGOT_ALT&#x27;,\n",
              "                                  &#x27;gamma_GTP&#x27;]),\n",
              "                                (&#x27;pipe_num_norm&#x27;,\n",
              "                                 Pipeline(steps=[(&#x27;standardscaler&#x27;,\n",
              "                                                  StandardScaler())]),\n",
              "                                 [&#x27;age&#x27;, &#x27;height&#x27;, &#x27;SBP&#x27;, &#x27;DBP&#x27;, &#x27;hemoglobin&#x27;]),\n",
              "                                (&#x27;pipe_cat_one_hot&#x27;,\n",
              "                                 Pipeline(steps=[(&#x27;onehotencoder&#x27;,\n",
              "                                                  OneHotEncoder(handle_unknown=&#x27;ignore&#x27;))]),\n",
              "                                 [&#x27;sex&#x27;])])</pre><b>In a Jupyter environment, please rerun this cell to show the HTML representation or trust the notebook. <br />On GitHub, the HTML representation is unable to render, please try loading this page with nbviewer.org.</b></div><div class=\"sk-container\" hidden><div class=\"sk-item sk-dashed-wrapped\"><div class=\"sk-label-container\"><div class=\"sk-label sk-toggleable\"><input class=\"sk-toggleable__control sk-hidden--visually\" id=\"sk-estimator-id-1\" type=\"checkbox\" ><label for=\"sk-estimator-id-1\" class=\"sk-toggleable__label sk-toggleable__label-arrow\">ColumnTransformer</label><div class=\"sk-toggleable__content\"><pre>ColumnTransformer(remainder=&#x27;passthrough&#x27;,\n",
              "                  transformers=[(&#x27;pipe_num_skew&#x27;,\n",
              "                                 Pipeline(steps=[(&#x27;minmaxscaler&#x27;,\n",
              "                                                  MinMaxScaler())]),\n",
              "                                 [&#x27;weight&#x27;, &#x27;waistline&#x27;, &#x27;sight_left&#x27;,\n",
              "                                  &#x27;sight_right&#x27;, &#x27;BLDS&#x27;, &#x27;tot_chole&#x27;,\n",
              "                                  &#x27;HDL_chole&#x27;, &#x27;LDL_chole&#x27;, &#x27;triglyceride&#x27;,\n",
              "                                  &#x27;serum_creatinine&#x27;, &#x27;SGOT_AST&#x27;, &#x27;SGOT_ALT&#x27;,\n",
              "                                  &#x27;gamma_GTP&#x27;]),\n",
              "                                (&#x27;pipe_num_norm&#x27;,\n",
              "                                 Pipeline(steps=[(&#x27;standardscaler&#x27;,\n",
              "                                                  StandardScaler())]),\n",
              "                                 [&#x27;age&#x27;, &#x27;height&#x27;, &#x27;SBP&#x27;, &#x27;DBP&#x27;, &#x27;hemoglobin&#x27;]),\n",
              "                                (&#x27;pipe_cat_one_hot&#x27;,\n",
              "                                 Pipeline(steps=[(&#x27;onehotencoder&#x27;,\n",
              "                                                  OneHotEncoder(handle_unknown=&#x27;ignore&#x27;))]),\n",
              "                                 [&#x27;sex&#x27;])])</pre></div></div></div><div class=\"sk-parallel\"><div class=\"sk-parallel-item\"><div class=\"sk-item\"><div class=\"sk-label-container\"><div class=\"sk-label sk-toggleable\"><input class=\"sk-toggleable__control sk-hidden--visually\" id=\"sk-estimator-id-2\" type=\"checkbox\" ><label for=\"sk-estimator-id-2\" class=\"sk-toggleable__label sk-toggleable__label-arrow\">pipe_num_skew</label><div class=\"sk-toggleable__content\"><pre>[&#x27;weight&#x27;, &#x27;waistline&#x27;, &#x27;sight_left&#x27;, &#x27;sight_right&#x27;, &#x27;BLDS&#x27;, &#x27;tot_chole&#x27;, &#x27;HDL_chole&#x27;, &#x27;LDL_chole&#x27;, &#x27;triglyceride&#x27;, &#x27;serum_creatinine&#x27;, &#x27;SGOT_AST&#x27;, &#x27;SGOT_ALT&#x27;, &#x27;gamma_GTP&#x27;]</pre></div></div></div><div class=\"sk-serial\"><div class=\"sk-item\"><div class=\"sk-serial\"><div class=\"sk-item\"><div class=\"sk-estimator sk-toggleable\"><input class=\"sk-toggleable__control sk-hidden--visually\" id=\"sk-estimator-id-3\" type=\"checkbox\" ><label for=\"sk-estimator-id-3\" class=\"sk-toggleable__label sk-toggleable__label-arrow\">MinMaxScaler</label><div class=\"sk-toggleable__content\"><pre>MinMaxScaler()</pre></div></div></div></div></div></div></div></div><div class=\"sk-parallel-item\"><div class=\"sk-item\"><div class=\"sk-label-container\"><div class=\"sk-label sk-toggleable\"><input class=\"sk-toggleable__control sk-hidden--visually\" id=\"sk-estimator-id-4\" type=\"checkbox\" ><label for=\"sk-estimator-id-4\" class=\"sk-toggleable__label sk-toggleable__label-arrow\">pipe_num_norm</label><div class=\"sk-toggleable__content\"><pre>[&#x27;age&#x27;, &#x27;height&#x27;, &#x27;SBP&#x27;, &#x27;DBP&#x27;, &#x27;hemoglobin&#x27;]</pre></div></div></div><div class=\"sk-serial\"><div class=\"sk-item\"><div class=\"sk-serial\"><div class=\"sk-item\"><div class=\"sk-estimator sk-toggleable\"><input class=\"sk-toggleable__control sk-hidden--visually\" id=\"sk-estimator-id-5\" type=\"checkbox\" ><label for=\"sk-estimator-id-5\" class=\"sk-toggleable__label sk-toggleable__label-arrow\">StandardScaler</label><div class=\"sk-toggleable__content\"><pre>StandardScaler()</pre></div></div></div></div></div></div></div></div><div class=\"sk-parallel-item\"><div class=\"sk-item\"><div class=\"sk-label-container\"><div class=\"sk-label sk-toggleable\"><input class=\"sk-toggleable__control sk-hidden--visually\" id=\"sk-estimator-id-6\" type=\"checkbox\" ><label for=\"sk-estimator-id-6\" class=\"sk-toggleable__label sk-toggleable__label-arrow\">pipe_cat_one_hot</label><div class=\"sk-toggleable__content\"><pre>[&#x27;sex&#x27;]</pre></div></div></div><div class=\"sk-serial\"><div class=\"sk-item\"><div class=\"sk-serial\"><div class=\"sk-item\"><div class=\"sk-estimator sk-toggleable\"><input class=\"sk-toggleable__control sk-hidden--visually\" id=\"sk-estimator-id-7\" type=\"checkbox\" ><label for=\"sk-estimator-id-7\" class=\"sk-toggleable__label sk-toggleable__label-arrow\">OneHotEncoder</label><div class=\"sk-toggleable__content\"><pre>OneHotEncoder(handle_unknown=&#x27;ignore&#x27;)</pre></div></div></div></div></div></div></div></div><div class=\"sk-parallel-item\"><div class=\"sk-item\"><div class=\"sk-label-container\"><div class=\"sk-label sk-toggleable\"><input class=\"sk-toggleable__control sk-hidden--visually\" id=\"sk-estimator-id-8\" type=\"checkbox\" ><label for=\"sk-estimator-id-8\" class=\"sk-toggleable__label sk-toggleable__label-arrow\">remainder</label><div class=\"sk-toggleable__content\"><pre></pre></div></div></div><div class=\"sk-serial\"><div class=\"sk-item\"><div class=\"sk-estimator sk-toggleable\"><input class=\"sk-toggleable__control sk-hidden--visually\" id=\"sk-estimator-id-9\" type=\"checkbox\" ><label for=\"sk-estimator-id-9\" class=\"sk-toggleable__label sk-toggleable__label-arrow\">passthrough</label><div class=\"sk-toggleable__content\"><pre>passthrough</pre></div></div></div></div></div></div></div></div></div></div>"
            ],
            "text/plain": [
              "ColumnTransformer(remainder='passthrough',\n",
              "                  transformers=[('pipe_num_skew',\n",
              "                                 Pipeline(steps=[('minmaxscaler',\n",
              "                                                  MinMaxScaler())]),\n",
              "                                 ['weight', 'waistline', 'sight_left',\n",
              "                                  'sight_right', 'BLDS', 'tot_chole',\n",
              "                                  'HDL_chole', 'LDL_chole', 'triglyceride',\n",
              "                                  'serum_creatinine', 'SGOT_AST', 'SGOT_ALT',\n",
              "                                  'gamma_GTP']),\n",
              "                                ('pipe_num_norm',\n",
              "                                 Pipeline(steps=[('standardscaler',\n",
              "                                                  StandardScaler())]),\n",
              "                                 ['age', 'height', 'SBP', 'DBP', 'hemoglobin']),\n",
              "                                ('pipe_cat_one_hot',\n",
              "                                 Pipeline(steps=[('onehotencoder',\n",
              "                                                  OneHotEncoder(handle_unknown='ignore'))]),\n",
              "                                 ['sex'])])"
            ]
          },
          "execution_count": 41,
          "metadata": {},
          "output_type": "execute_result"
        }
      ],
      "source": [
        "preprocessing_pipeline"
      ]
    },
    {
      "cell_type": "code",
      "execution_count": 42,
      "metadata": {},
      "outputs": [],
      "source": [
        "X_train_final= preprocessing_pipeline.fit_transform(X_train_capped)\n",
        "X_test_final= preprocessing_pipeline.transform(X_test_capped)"
      ]
    },
    {
      "cell_type": "code",
      "execution_count": 43,
      "metadata": {},
      "outputs": [
        {
          "data": {
            "text/plain": [
              "(793076, 24)"
            ]
          },
          "execution_count": 43,
          "metadata": {},
          "output_type": "execute_result"
        }
      ],
      "source": [
        "X_train_final.shape"
      ]
    },
    {
      "cell_type": "code",
      "execution_count": 44,
      "metadata": {},
      "outputs": [
        {
          "data": {
            "text/plain": [
              "array([[0.38888889, 0.58394161, 0.19230769, ..., 1.        , 1.        ,\n",
              "        1.        ],\n",
              "       [0.44444444, 0.60479666, 0.26923077, ..., 1.        , 1.        ,\n",
              "        1.        ],\n",
              "       [0.38888889, 0.51094891, 0.19230769, ..., 1.        , 1.        ,\n",
              "        1.        ],\n",
              "       ...,\n",
              "       [0.22222222, 0.39624609, 0.15384615, ..., 1.        , 1.        ,\n",
              "        1.        ],\n",
              "       [0.55555556, 0.59228363, 0.34615385, ..., 1.        , 1.        ,\n",
              "        1.        ],\n",
              "       [0.5       , 0.53180396, 0.42307692, ..., 1.        , 1.        ,\n",
              "        2.        ]])"
            ]
          },
          "execution_count": 44,
          "metadata": {},
          "output_type": "execute_result"
        }
      ],
      "source": [
        "X_train_final"
      ]
    },
    {
      "cell_type": "code",
      "execution_count": 45,
      "metadata": {},
      "outputs": [
        {
          "data": {
            "text/plain": [
              "array([1, 0, 0, ..., 0, 1, 0], dtype=int64)"
            ]
          },
          "execution_count": 45,
          "metadata": {},
          "output_type": "execute_result"
        }
      ],
      "source": [
        "# Mengambil sampel baris dari data\n",
        "sample_size = 100000\n",
        "num_rows = X_train_final.shape[0]\n",
        "\n",
        "# Mendapatkan indeks sampel secara acak\n",
        "np.random.seed(21)\n",
        "sample_indices = np.random.choice(num_rows, size=sample_size, replace=False)\n",
        "X_train_final_sample = X_train_final[sample_indices]\n",
        "\n",
        "y_train_sample = y_train.values[sample_indices]\n",
        "y_train_sample"
      ]
    },
    {
      "cell_type": "markdown",
      "metadata": {
        "id": "QrYQIZYDAv3a"
      },
      "source": [
        "# 6. Model Definition"
      ]
    },
    {
      "cell_type": "markdown",
      "metadata": {},
      "source": [
        "**Model KNN**"
      ]
    },
    {
      "cell_type": "code",
      "execution_count": 46,
      "metadata": {},
      "outputs": [],
      "source": [
        "# Definisikan Model KNN dengan parameter default\n",
        "model_knn = KNeighborsClassifier()"
      ]
    },
    {
      "cell_type": "markdown",
      "metadata": {},
      "source": [
        "**Model SVM**"
      ]
    },
    {
      "cell_type": "code",
      "execution_count": 47,
      "metadata": {},
      "outputs": [],
      "source": [
        "# Definisikan Model SVM dengan parameter default\n",
        "model_SVM = SVC()"
      ]
    },
    {
      "cell_type": "markdown",
      "metadata": {},
      "source": [
        "**Model Decision Tree Classification**"
      ]
    },
    {
      "cell_type": "code",
      "execution_count": 48,
      "metadata": {},
      "outputs": [],
      "source": [
        "# Definisikan Model Decission Tree Classification dengan parameter default\n",
        "model_dt = DecisionTreeClassifier()"
      ]
    },
    {
      "cell_type": "markdown",
      "metadata": {},
      "source": [
        "**Model Random Forest Classification**"
      ]
    },
    {
      "cell_type": "code",
      "execution_count": 49,
      "metadata": {},
      "outputs": [],
      "source": [
        "# Definisikan Model Random Forest Classification dengan parameter default\n",
        "model_rf = RandomForestClassifier()"
      ]
    },
    {
      "cell_type": "markdown",
      "metadata": {},
      "source": [
        "**Adaboost Model DecisionTree**"
      ]
    },
    {
      "cell_type": "code",
      "execution_count": 50,
      "metadata": {},
      "outputs": [],
      "source": [
        "# inisiasi model adaboost\n",
        "adaboost_clf = AdaBoostClassifier(estimator=model_dt, n_estimators=50, random_state=21)"
      ]
    },
    {
      "cell_type": "markdown",
      "metadata": {
        "id": "X8i94VwAAz_G"
      },
      "source": [
        "# 7. Model Training"
      ]
    },
    {
      "cell_type": "markdown",
      "metadata": {},
      "source": [
        "**Training Model KNN**"
      ]
    },
    {
      "cell_type": "code",
      "execution_count": 51,
      "metadata": {},
      "outputs": [
        {
          "data": {
            "text/html": [
              "<style>#sk-container-id-2 {color: black;}#sk-container-id-2 pre{padding: 0;}#sk-container-id-2 div.sk-toggleable {background-color: white;}#sk-container-id-2 label.sk-toggleable__label {cursor: pointer;display: block;width: 100%;margin-bottom: 0;padding: 0.3em;box-sizing: border-box;text-align: center;}#sk-container-id-2 label.sk-toggleable__label-arrow:before {content: \"▸\";float: left;margin-right: 0.25em;color: #696969;}#sk-container-id-2 label.sk-toggleable__label-arrow:hover:before {color: black;}#sk-container-id-2 div.sk-estimator:hover label.sk-toggleable__label-arrow:before {color: black;}#sk-container-id-2 div.sk-toggleable__content {max-height: 0;max-width: 0;overflow: hidden;text-align: left;background-color: #f0f8ff;}#sk-container-id-2 div.sk-toggleable__content pre {margin: 0.2em;color: black;border-radius: 0.25em;background-color: #f0f8ff;}#sk-container-id-2 input.sk-toggleable__control:checked~div.sk-toggleable__content {max-height: 200px;max-width: 100%;overflow: auto;}#sk-container-id-2 input.sk-toggleable__control:checked~label.sk-toggleable__label-arrow:before {content: \"▾\";}#sk-container-id-2 div.sk-estimator input.sk-toggleable__control:checked~label.sk-toggleable__label {background-color: #d4ebff;}#sk-container-id-2 div.sk-label input.sk-toggleable__control:checked~label.sk-toggleable__label {background-color: #d4ebff;}#sk-container-id-2 input.sk-hidden--visually {border: 0;clip: rect(1px 1px 1px 1px);clip: rect(1px, 1px, 1px, 1px);height: 1px;margin: -1px;overflow: hidden;padding: 0;position: absolute;width: 1px;}#sk-container-id-2 div.sk-estimator {font-family: monospace;background-color: #f0f8ff;border: 1px dotted black;border-radius: 0.25em;box-sizing: border-box;margin-bottom: 0.5em;}#sk-container-id-2 div.sk-estimator:hover {background-color: #d4ebff;}#sk-container-id-2 div.sk-parallel-item::after {content: \"\";width: 100%;border-bottom: 1px solid gray;flex-grow: 1;}#sk-container-id-2 div.sk-label:hover label.sk-toggleable__label {background-color: #d4ebff;}#sk-container-id-2 div.sk-serial::before {content: \"\";position: absolute;border-left: 1px solid gray;box-sizing: border-box;top: 0;bottom: 0;left: 50%;z-index: 0;}#sk-container-id-2 div.sk-serial {display: flex;flex-direction: column;align-items: center;background-color: white;padding-right: 0.2em;padding-left: 0.2em;position: relative;}#sk-container-id-2 div.sk-item {position: relative;z-index: 1;}#sk-container-id-2 div.sk-parallel {display: flex;align-items: stretch;justify-content: center;background-color: white;position: relative;}#sk-container-id-2 div.sk-item::before, #sk-container-id-2 div.sk-parallel-item::before {content: \"\";position: absolute;border-left: 1px solid gray;box-sizing: border-box;top: 0;bottom: 0;left: 50%;z-index: -1;}#sk-container-id-2 div.sk-parallel-item {display: flex;flex-direction: column;z-index: 1;position: relative;background-color: white;}#sk-container-id-2 div.sk-parallel-item:first-child::after {align-self: flex-end;width: 50%;}#sk-container-id-2 div.sk-parallel-item:last-child::after {align-self: flex-start;width: 50%;}#sk-container-id-2 div.sk-parallel-item:only-child::after {width: 0;}#sk-container-id-2 div.sk-dashed-wrapped {border: 1px dashed gray;margin: 0 0.4em 0.5em 0.4em;box-sizing: border-box;padding-bottom: 0.4em;background-color: white;}#sk-container-id-2 div.sk-label label {font-family: monospace;font-weight: bold;display: inline-block;line-height: 1.2em;}#sk-container-id-2 div.sk-label-container {text-align: center;}#sk-container-id-2 div.sk-container {/* jupyter's `normalize.less` sets `[hidden] { display: none; }` but bootstrap.min.css set `[hidden] { display: none !important; }` so we also need the `!important` here to be able to override the default hidden behavior on the sphinx rendered scikit-learn.org. See: https://github.com/scikit-learn/scikit-learn/issues/21755 */display: inline-block !important;position: relative;}#sk-container-id-2 div.sk-text-repr-fallback {display: none;}</style><div id=\"sk-container-id-2\" class=\"sk-top-container\"><div class=\"sk-text-repr-fallback\"><pre>KNeighborsClassifier()</pre><b>In a Jupyter environment, please rerun this cell to show the HTML representation or trust the notebook. <br />On GitHub, the HTML representation is unable to render, please try loading this page with nbviewer.org.</b></div><div class=\"sk-container\" hidden><div class=\"sk-item\"><div class=\"sk-estimator sk-toggleable\"><input class=\"sk-toggleable__control sk-hidden--visually\" id=\"sk-estimator-id-10\" type=\"checkbox\" checked><label for=\"sk-estimator-id-10\" class=\"sk-toggleable__label sk-toggleable__label-arrow\">KNeighborsClassifier</label><div class=\"sk-toggleable__content\"><pre>KNeighborsClassifier()</pre></div></div></div></div></div>"
            ],
            "text/plain": [
              "KNeighborsClassifier()"
            ]
          },
          "execution_count": 51,
          "metadata": {},
          "output_type": "execute_result"
        }
      ],
      "source": [
        "# Training Model KNN\n",
        "model_knn.fit(X_train_final, y_train)"
      ]
    },
    {
      "cell_type": "markdown",
      "metadata": {},
      "source": [
        "**Training Model SVM**"
      ]
    },
    {
      "cell_type": "code",
      "execution_count": 52,
      "metadata": {},
      "outputs": [
        {
          "data": {
            "text/html": [
              "<style>#sk-container-id-3 {color: black;}#sk-container-id-3 pre{padding: 0;}#sk-container-id-3 div.sk-toggleable {background-color: white;}#sk-container-id-3 label.sk-toggleable__label {cursor: pointer;display: block;width: 100%;margin-bottom: 0;padding: 0.3em;box-sizing: border-box;text-align: center;}#sk-container-id-3 label.sk-toggleable__label-arrow:before {content: \"▸\";float: left;margin-right: 0.25em;color: #696969;}#sk-container-id-3 label.sk-toggleable__label-arrow:hover:before {color: black;}#sk-container-id-3 div.sk-estimator:hover label.sk-toggleable__label-arrow:before {color: black;}#sk-container-id-3 div.sk-toggleable__content {max-height: 0;max-width: 0;overflow: hidden;text-align: left;background-color: #f0f8ff;}#sk-container-id-3 div.sk-toggleable__content pre {margin: 0.2em;color: black;border-radius: 0.25em;background-color: #f0f8ff;}#sk-container-id-3 input.sk-toggleable__control:checked~div.sk-toggleable__content {max-height: 200px;max-width: 100%;overflow: auto;}#sk-container-id-3 input.sk-toggleable__control:checked~label.sk-toggleable__label-arrow:before {content: \"▾\";}#sk-container-id-3 div.sk-estimator input.sk-toggleable__control:checked~label.sk-toggleable__label {background-color: #d4ebff;}#sk-container-id-3 div.sk-label input.sk-toggleable__control:checked~label.sk-toggleable__label {background-color: #d4ebff;}#sk-container-id-3 input.sk-hidden--visually {border: 0;clip: rect(1px 1px 1px 1px);clip: rect(1px, 1px, 1px, 1px);height: 1px;margin: -1px;overflow: hidden;padding: 0;position: absolute;width: 1px;}#sk-container-id-3 div.sk-estimator {font-family: monospace;background-color: #f0f8ff;border: 1px dotted black;border-radius: 0.25em;box-sizing: border-box;margin-bottom: 0.5em;}#sk-container-id-3 div.sk-estimator:hover {background-color: #d4ebff;}#sk-container-id-3 div.sk-parallel-item::after {content: \"\";width: 100%;border-bottom: 1px solid gray;flex-grow: 1;}#sk-container-id-3 div.sk-label:hover label.sk-toggleable__label {background-color: #d4ebff;}#sk-container-id-3 div.sk-serial::before {content: \"\";position: absolute;border-left: 1px solid gray;box-sizing: border-box;top: 0;bottom: 0;left: 50%;z-index: 0;}#sk-container-id-3 div.sk-serial {display: flex;flex-direction: column;align-items: center;background-color: white;padding-right: 0.2em;padding-left: 0.2em;position: relative;}#sk-container-id-3 div.sk-item {position: relative;z-index: 1;}#sk-container-id-3 div.sk-parallel {display: flex;align-items: stretch;justify-content: center;background-color: white;position: relative;}#sk-container-id-3 div.sk-item::before, #sk-container-id-3 div.sk-parallel-item::before {content: \"\";position: absolute;border-left: 1px solid gray;box-sizing: border-box;top: 0;bottom: 0;left: 50%;z-index: -1;}#sk-container-id-3 div.sk-parallel-item {display: flex;flex-direction: column;z-index: 1;position: relative;background-color: white;}#sk-container-id-3 div.sk-parallel-item:first-child::after {align-self: flex-end;width: 50%;}#sk-container-id-3 div.sk-parallel-item:last-child::after {align-self: flex-start;width: 50%;}#sk-container-id-3 div.sk-parallel-item:only-child::after {width: 0;}#sk-container-id-3 div.sk-dashed-wrapped {border: 1px dashed gray;margin: 0 0.4em 0.5em 0.4em;box-sizing: border-box;padding-bottom: 0.4em;background-color: white;}#sk-container-id-3 div.sk-label label {font-family: monospace;font-weight: bold;display: inline-block;line-height: 1.2em;}#sk-container-id-3 div.sk-label-container {text-align: center;}#sk-container-id-3 div.sk-container {/* jupyter's `normalize.less` sets `[hidden] { display: none; }` but bootstrap.min.css set `[hidden] { display: none !important; }` so we also need the `!important` here to be able to override the default hidden behavior on the sphinx rendered scikit-learn.org. See: https://github.com/scikit-learn/scikit-learn/issues/21755 */display: inline-block !important;position: relative;}#sk-container-id-3 div.sk-text-repr-fallback {display: none;}</style><div id=\"sk-container-id-3\" class=\"sk-top-container\"><div class=\"sk-text-repr-fallback\"><pre>SVC()</pre><b>In a Jupyter environment, please rerun this cell to show the HTML representation or trust the notebook. <br />On GitHub, the HTML representation is unable to render, please try loading this page with nbviewer.org.</b></div><div class=\"sk-container\" hidden><div class=\"sk-item\"><div class=\"sk-estimator sk-toggleable\"><input class=\"sk-toggleable__control sk-hidden--visually\" id=\"sk-estimator-id-11\" type=\"checkbox\" checked><label for=\"sk-estimator-id-11\" class=\"sk-toggleable__label sk-toggleable__label-arrow\">SVC</label><div class=\"sk-toggleable__content\"><pre>SVC()</pre></div></div></div></div></div>"
            ],
            "text/plain": [
              "SVC()"
            ]
          },
          "execution_count": 52,
          "metadata": {},
          "output_type": "execute_result"
        }
      ],
      "source": [
        "# Training Model SVM\n",
        "model_SVM.fit(X_train_final_sample, y_train_sample)"
      ]
    },
    {
      "cell_type": "markdown",
      "metadata": {},
      "source": [
        "**Training Model Decision Tree Clasification**"
      ]
    },
    {
      "cell_type": "code",
      "execution_count": 53,
      "metadata": {},
      "outputs": [
        {
          "data": {
            "text/html": [
              "<style>#sk-container-id-4 {color: black;}#sk-container-id-4 pre{padding: 0;}#sk-container-id-4 div.sk-toggleable {background-color: white;}#sk-container-id-4 label.sk-toggleable__label {cursor: pointer;display: block;width: 100%;margin-bottom: 0;padding: 0.3em;box-sizing: border-box;text-align: center;}#sk-container-id-4 label.sk-toggleable__label-arrow:before {content: \"▸\";float: left;margin-right: 0.25em;color: #696969;}#sk-container-id-4 label.sk-toggleable__label-arrow:hover:before {color: black;}#sk-container-id-4 div.sk-estimator:hover label.sk-toggleable__label-arrow:before {color: black;}#sk-container-id-4 div.sk-toggleable__content {max-height: 0;max-width: 0;overflow: hidden;text-align: left;background-color: #f0f8ff;}#sk-container-id-4 div.sk-toggleable__content pre {margin: 0.2em;color: black;border-radius: 0.25em;background-color: #f0f8ff;}#sk-container-id-4 input.sk-toggleable__control:checked~div.sk-toggleable__content {max-height: 200px;max-width: 100%;overflow: auto;}#sk-container-id-4 input.sk-toggleable__control:checked~label.sk-toggleable__label-arrow:before {content: \"▾\";}#sk-container-id-4 div.sk-estimator input.sk-toggleable__control:checked~label.sk-toggleable__label {background-color: #d4ebff;}#sk-container-id-4 div.sk-label input.sk-toggleable__control:checked~label.sk-toggleable__label {background-color: #d4ebff;}#sk-container-id-4 input.sk-hidden--visually {border: 0;clip: rect(1px 1px 1px 1px);clip: rect(1px, 1px, 1px, 1px);height: 1px;margin: -1px;overflow: hidden;padding: 0;position: absolute;width: 1px;}#sk-container-id-4 div.sk-estimator {font-family: monospace;background-color: #f0f8ff;border: 1px dotted black;border-radius: 0.25em;box-sizing: border-box;margin-bottom: 0.5em;}#sk-container-id-4 div.sk-estimator:hover {background-color: #d4ebff;}#sk-container-id-4 div.sk-parallel-item::after {content: \"\";width: 100%;border-bottom: 1px solid gray;flex-grow: 1;}#sk-container-id-4 div.sk-label:hover label.sk-toggleable__label {background-color: #d4ebff;}#sk-container-id-4 div.sk-serial::before {content: \"\";position: absolute;border-left: 1px solid gray;box-sizing: border-box;top: 0;bottom: 0;left: 50%;z-index: 0;}#sk-container-id-4 div.sk-serial {display: flex;flex-direction: column;align-items: center;background-color: white;padding-right: 0.2em;padding-left: 0.2em;position: relative;}#sk-container-id-4 div.sk-item {position: relative;z-index: 1;}#sk-container-id-4 div.sk-parallel {display: flex;align-items: stretch;justify-content: center;background-color: white;position: relative;}#sk-container-id-4 div.sk-item::before, #sk-container-id-4 div.sk-parallel-item::before {content: \"\";position: absolute;border-left: 1px solid gray;box-sizing: border-box;top: 0;bottom: 0;left: 50%;z-index: -1;}#sk-container-id-4 div.sk-parallel-item {display: flex;flex-direction: column;z-index: 1;position: relative;background-color: white;}#sk-container-id-4 div.sk-parallel-item:first-child::after {align-self: flex-end;width: 50%;}#sk-container-id-4 div.sk-parallel-item:last-child::after {align-self: flex-start;width: 50%;}#sk-container-id-4 div.sk-parallel-item:only-child::after {width: 0;}#sk-container-id-4 div.sk-dashed-wrapped {border: 1px dashed gray;margin: 0 0.4em 0.5em 0.4em;box-sizing: border-box;padding-bottom: 0.4em;background-color: white;}#sk-container-id-4 div.sk-label label {font-family: monospace;font-weight: bold;display: inline-block;line-height: 1.2em;}#sk-container-id-4 div.sk-label-container {text-align: center;}#sk-container-id-4 div.sk-container {/* jupyter's `normalize.less` sets `[hidden] { display: none; }` but bootstrap.min.css set `[hidden] { display: none !important; }` so we also need the `!important` here to be able to override the default hidden behavior on the sphinx rendered scikit-learn.org. See: https://github.com/scikit-learn/scikit-learn/issues/21755 */display: inline-block !important;position: relative;}#sk-container-id-4 div.sk-text-repr-fallback {display: none;}</style><div id=\"sk-container-id-4\" class=\"sk-top-container\"><div class=\"sk-text-repr-fallback\"><pre>DecisionTreeClassifier()</pre><b>In a Jupyter environment, please rerun this cell to show the HTML representation or trust the notebook. <br />On GitHub, the HTML representation is unable to render, please try loading this page with nbviewer.org.</b></div><div class=\"sk-container\" hidden><div class=\"sk-item\"><div class=\"sk-estimator sk-toggleable\"><input class=\"sk-toggleable__control sk-hidden--visually\" id=\"sk-estimator-id-12\" type=\"checkbox\" checked><label for=\"sk-estimator-id-12\" class=\"sk-toggleable__label sk-toggleable__label-arrow\">DecisionTreeClassifier</label><div class=\"sk-toggleable__content\"><pre>DecisionTreeClassifier()</pre></div></div></div></div></div>"
            ],
            "text/plain": [
              "DecisionTreeClassifier()"
            ]
          },
          "execution_count": 53,
          "metadata": {},
          "output_type": "execute_result"
        }
      ],
      "source": [
        "# Training Model Decision Tree Classification\n",
        "model_dt.fit(X_train_final, y_train)"
      ]
    },
    {
      "cell_type": "markdown",
      "metadata": {},
      "source": [
        "**Training Model Random Forest Classification**"
      ]
    },
    {
      "cell_type": "code",
      "execution_count": 54,
      "metadata": {},
      "outputs": [
        {
          "data": {
            "text/html": [
              "<style>#sk-container-id-5 {color: black;}#sk-container-id-5 pre{padding: 0;}#sk-container-id-5 div.sk-toggleable {background-color: white;}#sk-container-id-5 label.sk-toggleable__label {cursor: pointer;display: block;width: 100%;margin-bottom: 0;padding: 0.3em;box-sizing: border-box;text-align: center;}#sk-container-id-5 label.sk-toggleable__label-arrow:before {content: \"▸\";float: left;margin-right: 0.25em;color: #696969;}#sk-container-id-5 label.sk-toggleable__label-arrow:hover:before {color: black;}#sk-container-id-5 div.sk-estimator:hover label.sk-toggleable__label-arrow:before {color: black;}#sk-container-id-5 div.sk-toggleable__content {max-height: 0;max-width: 0;overflow: hidden;text-align: left;background-color: #f0f8ff;}#sk-container-id-5 div.sk-toggleable__content pre {margin: 0.2em;color: black;border-radius: 0.25em;background-color: #f0f8ff;}#sk-container-id-5 input.sk-toggleable__control:checked~div.sk-toggleable__content {max-height: 200px;max-width: 100%;overflow: auto;}#sk-container-id-5 input.sk-toggleable__control:checked~label.sk-toggleable__label-arrow:before {content: \"▾\";}#sk-container-id-5 div.sk-estimator input.sk-toggleable__control:checked~label.sk-toggleable__label {background-color: #d4ebff;}#sk-container-id-5 div.sk-label input.sk-toggleable__control:checked~label.sk-toggleable__label {background-color: #d4ebff;}#sk-container-id-5 input.sk-hidden--visually {border: 0;clip: rect(1px 1px 1px 1px);clip: rect(1px, 1px, 1px, 1px);height: 1px;margin: -1px;overflow: hidden;padding: 0;position: absolute;width: 1px;}#sk-container-id-5 div.sk-estimator {font-family: monospace;background-color: #f0f8ff;border: 1px dotted black;border-radius: 0.25em;box-sizing: border-box;margin-bottom: 0.5em;}#sk-container-id-5 div.sk-estimator:hover {background-color: #d4ebff;}#sk-container-id-5 div.sk-parallel-item::after {content: \"\";width: 100%;border-bottom: 1px solid gray;flex-grow: 1;}#sk-container-id-5 div.sk-label:hover label.sk-toggleable__label {background-color: #d4ebff;}#sk-container-id-5 div.sk-serial::before {content: \"\";position: absolute;border-left: 1px solid gray;box-sizing: border-box;top: 0;bottom: 0;left: 50%;z-index: 0;}#sk-container-id-5 div.sk-serial {display: flex;flex-direction: column;align-items: center;background-color: white;padding-right: 0.2em;padding-left: 0.2em;position: relative;}#sk-container-id-5 div.sk-item {position: relative;z-index: 1;}#sk-container-id-5 div.sk-parallel {display: flex;align-items: stretch;justify-content: center;background-color: white;position: relative;}#sk-container-id-5 div.sk-item::before, #sk-container-id-5 div.sk-parallel-item::before {content: \"\";position: absolute;border-left: 1px solid gray;box-sizing: border-box;top: 0;bottom: 0;left: 50%;z-index: -1;}#sk-container-id-5 div.sk-parallel-item {display: flex;flex-direction: column;z-index: 1;position: relative;background-color: white;}#sk-container-id-5 div.sk-parallel-item:first-child::after {align-self: flex-end;width: 50%;}#sk-container-id-5 div.sk-parallel-item:last-child::after {align-self: flex-start;width: 50%;}#sk-container-id-5 div.sk-parallel-item:only-child::after {width: 0;}#sk-container-id-5 div.sk-dashed-wrapped {border: 1px dashed gray;margin: 0 0.4em 0.5em 0.4em;box-sizing: border-box;padding-bottom: 0.4em;background-color: white;}#sk-container-id-5 div.sk-label label {font-family: monospace;font-weight: bold;display: inline-block;line-height: 1.2em;}#sk-container-id-5 div.sk-label-container {text-align: center;}#sk-container-id-5 div.sk-container {/* jupyter's `normalize.less` sets `[hidden] { display: none; }` but bootstrap.min.css set `[hidden] { display: none !important; }` so we also need the `!important` here to be able to override the default hidden behavior on the sphinx rendered scikit-learn.org. See: https://github.com/scikit-learn/scikit-learn/issues/21755 */display: inline-block !important;position: relative;}#sk-container-id-5 div.sk-text-repr-fallback {display: none;}</style><div id=\"sk-container-id-5\" class=\"sk-top-container\"><div class=\"sk-text-repr-fallback\"><pre>RandomForestClassifier()</pre><b>In a Jupyter environment, please rerun this cell to show the HTML representation or trust the notebook. <br />On GitHub, the HTML representation is unable to render, please try loading this page with nbviewer.org.</b></div><div class=\"sk-container\" hidden><div class=\"sk-item\"><div class=\"sk-estimator sk-toggleable\"><input class=\"sk-toggleable__control sk-hidden--visually\" id=\"sk-estimator-id-13\" type=\"checkbox\" checked><label for=\"sk-estimator-id-13\" class=\"sk-toggleable__label sk-toggleable__label-arrow\">RandomForestClassifier</label><div class=\"sk-toggleable__content\"><pre>RandomForestClassifier()</pre></div></div></div></div></div>"
            ],
            "text/plain": [
              "RandomForestClassifier()"
            ]
          },
          "execution_count": 54,
          "metadata": {},
          "output_type": "execute_result"
        }
      ],
      "source": [
        "# Training Model Random Forest Classification\n",
        "model_rf.fit(X_train_final, y_train)"
      ]
    },
    {
      "cell_type": "markdown",
      "metadata": {},
      "source": [
        "**Training Model Adaboost**"
      ]
    },
    {
      "cell_type": "code",
      "execution_count": 55,
      "metadata": {},
      "outputs": [
        {
          "data": {
            "text/html": [
              "<style>#sk-container-id-6 {color: black;}#sk-container-id-6 pre{padding: 0;}#sk-container-id-6 div.sk-toggleable {background-color: white;}#sk-container-id-6 label.sk-toggleable__label {cursor: pointer;display: block;width: 100%;margin-bottom: 0;padding: 0.3em;box-sizing: border-box;text-align: center;}#sk-container-id-6 label.sk-toggleable__label-arrow:before {content: \"▸\";float: left;margin-right: 0.25em;color: #696969;}#sk-container-id-6 label.sk-toggleable__label-arrow:hover:before {color: black;}#sk-container-id-6 div.sk-estimator:hover label.sk-toggleable__label-arrow:before {color: black;}#sk-container-id-6 div.sk-toggleable__content {max-height: 0;max-width: 0;overflow: hidden;text-align: left;background-color: #f0f8ff;}#sk-container-id-6 div.sk-toggleable__content pre {margin: 0.2em;color: black;border-radius: 0.25em;background-color: #f0f8ff;}#sk-container-id-6 input.sk-toggleable__control:checked~div.sk-toggleable__content {max-height: 200px;max-width: 100%;overflow: auto;}#sk-container-id-6 input.sk-toggleable__control:checked~label.sk-toggleable__label-arrow:before {content: \"▾\";}#sk-container-id-6 div.sk-estimator input.sk-toggleable__control:checked~label.sk-toggleable__label {background-color: #d4ebff;}#sk-container-id-6 div.sk-label input.sk-toggleable__control:checked~label.sk-toggleable__label {background-color: #d4ebff;}#sk-container-id-6 input.sk-hidden--visually {border: 0;clip: rect(1px 1px 1px 1px);clip: rect(1px, 1px, 1px, 1px);height: 1px;margin: -1px;overflow: hidden;padding: 0;position: absolute;width: 1px;}#sk-container-id-6 div.sk-estimator {font-family: monospace;background-color: #f0f8ff;border: 1px dotted black;border-radius: 0.25em;box-sizing: border-box;margin-bottom: 0.5em;}#sk-container-id-6 div.sk-estimator:hover {background-color: #d4ebff;}#sk-container-id-6 div.sk-parallel-item::after {content: \"\";width: 100%;border-bottom: 1px solid gray;flex-grow: 1;}#sk-container-id-6 div.sk-label:hover label.sk-toggleable__label {background-color: #d4ebff;}#sk-container-id-6 div.sk-serial::before {content: \"\";position: absolute;border-left: 1px solid gray;box-sizing: border-box;top: 0;bottom: 0;left: 50%;z-index: 0;}#sk-container-id-6 div.sk-serial {display: flex;flex-direction: column;align-items: center;background-color: white;padding-right: 0.2em;padding-left: 0.2em;position: relative;}#sk-container-id-6 div.sk-item {position: relative;z-index: 1;}#sk-container-id-6 div.sk-parallel {display: flex;align-items: stretch;justify-content: center;background-color: white;position: relative;}#sk-container-id-6 div.sk-item::before, #sk-container-id-6 div.sk-parallel-item::before {content: \"\";position: absolute;border-left: 1px solid gray;box-sizing: border-box;top: 0;bottom: 0;left: 50%;z-index: -1;}#sk-container-id-6 div.sk-parallel-item {display: flex;flex-direction: column;z-index: 1;position: relative;background-color: white;}#sk-container-id-6 div.sk-parallel-item:first-child::after {align-self: flex-end;width: 50%;}#sk-container-id-6 div.sk-parallel-item:last-child::after {align-self: flex-start;width: 50%;}#sk-container-id-6 div.sk-parallel-item:only-child::after {width: 0;}#sk-container-id-6 div.sk-dashed-wrapped {border: 1px dashed gray;margin: 0 0.4em 0.5em 0.4em;box-sizing: border-box;padding-bottom: 0.4em;background-color: white;}#sk-container-id-6 div.sk-label label {font-family: monospace;font-weight: bold;display: inline-block;line-height: 1.2em;}#sk-container-id-6 div.sk-label-container {text-align: center;}#sk-container-id-6 div.sk-container {/* jupyter's `normalize.less` sets `[hidden] { display: none; }` but bootstrap.min.css set `[hidden] { display: none !important; }` so we also need the `!important` here to be able to override the default hidden behavior on the sphinx rendered scikit-learn.org. See: https://github.com/scikit-learn/scikit-learn/issues/21755 */display: inline-block !important;position: relative;}#sk-container-id-6 div.sk-text-repr-fallback {display: none;}</style><div id=\"sk-container-id-6\" class=\"sk-top-container\"><div class=\"sk-text-repr-fallback\"><pre>AdaBoostClassifier(estimator=DecisionTreeClassifier(), random_state=21)</pre><b>In a Jupyter environment, please rerun this cell to show the HTML representation or trust the notebook. <br />On GitHub, the HTML representation is unable to render, please try loading this page with nbviewer.org.</b></div><div class=\"sk-container\" hidden><div class=\"sk-item sk-dashed-wrapped\"><div class=\"sk-label-container\"><div class=\"sk-label sk-toggleable\"><input class=\"sk-toggleable__control sk-hidden--visually\" id=\"sk-estimator-id-14\" type=\"checkbox\" ><label for=\"sk-estimator-id-14\" class=\"sk-toggleable__label sk-toggleable__label-arrow\">AdaBoostClassifier</label><div class=\"sk-toggleable__content\"><pre>AdaBoostClassifier(estimator=DecisionTreeClassifier(), random_state=21)</pre></div></div></div><div class=\"sk-parallel\"><div class=\"sk-parallel-item\"><div class=\"sk-item\"><div class=\"sk-label-container\"><div class=\"sk-label sk-toggleable\"><input class=\"sk-toggleable__control sk-hidden--visually\" id=\"sk-estimator-id-15\" type=\"checkbox\" ><label for=\"sk-estimator-id-15\" class=\"sk-toggleable__label sk-toggleable__label-arrow\">estimator: DecisionTreeClassifier</label><div class=\"sk-toggleable__content\"><pre>DecisionTreeClassifier()</pre></div></div></div><div class=\"sk-serial\"><div class=\"sk-item\"><div class=\"sk-estimator sk-toggleable\"><input class=\"sk-toggleable__control sk-hidden--visually\" id=\"sk-estimator-id-16\" type=\"checkbox\" ><label for=\"sk-estimator-id-16\" class=\"sk-toggleable__label sk-toggleable__label-arrow\">DecisionTreeClassifier</label><div class=\"sk-toggleable__content\"><pre>DecisionTreeClassifier()</pre></div></div></div></div></div></div></div></div></div></div>"
            ],
            "text/plain": [
              "AdaBoostClassifier(estimator=DecisionTreeClassifier(), random_state=21)"
            ]
          },
          "execution_count": 55,
          "metadata": {},
          "output_type": "execute_result"
        }
      ],
      "source": [
        "adaboost_clf.fit(X_train_final, y_train)"
      ]
    },
    {
      "cell_type": "markdown",
      "metadata": {
        "id": "6uULNXzzA2qY"
      },
      "source": [
        "# 8. Model Evaluation"
      ]
    },
    {
      "cell_type": "markdown",
      "metadata": {},
      "source": [
        "Karena fokus kita ingin memprediksi apakah seseorang merupakan Peminum atau tidak maka kita bisa melihat dari nilai recall nya "
      ]
    },
    {
      "cell_type": "markdown",
      "metadata": {},
      "source": [
        "## Evaluasi Model KNN"
      ]
    },
    {
      "cell_type": "markdown",
      "metadata": {},
      "source": [
        "### Cek Performa model KNN pada data Train"
      ]
    },
    {
      "cell_type": "code",
      "execution_count": 159,
      "metadata": {},
      "outputs": [
        {
          "name": "stdout",
          "output_type": "stream",
          "text": [
            "F1 Score - Train Set  :  0.785932070660855 \n",
            "\n",
            "Classification Report : \n",
            "               precision    recall  f1-score   support\n",
            "\n",
            "           0       0.79      0.77      0.78    396686\n",
            "           1       0.78      0.80      0.79    396390\n",
            "\n",
            "    accuracy                           0.78    793076\n",
            "   macro avg       0.78      0.78      0.78    793076\n",
            "weighted avg       0.78      0.78      0.78    793076\n",
            " \n",
            "\n",
            "Confusion Matrix      : \n",
            " <sklearn.metrics._plot.confusion_matrix.ConfusionMatrixDisplay object at 0x0000023C59FCBC90>\n"
          ]
        },
        {
          "data": {
            "image/png": "[encoded data removed]",
            "text/plain": [
              "<Figure size 640x480 with 2 Axes>"
            ]
          },
          "metadata": {},
          "output_type": "display_data"
        }
      ],
      "source": [
        "# Check Performance Model against Train-Set\n",
        "\n",
        "y_pred_train = model_knn.predict(X_train_final)\n",
        "\n",
        "print('F1 Score - Train Set  : ', f1_score(y_train, y_pred_train), '\\n')\n",
        "print('Classification Report : \\n', classification_report(y_train, y_pred_train), '\\n')\n",
        "print('Confusion Matrix      : \\n', ConfusionMatrixDisplay.from_estimator(model_knn, X_train_final, y_train, cmap='Reds'))"
      ]
    },
    {
      "cell_type": "markdown",
      "metadata": {},
      "source": [
        "Pada model KNN, Recall dari data train untuk class 1 sebesar 80% dan untuk class 0 sebesar 77% dengan waktu predict 22 menit, yang berarti model knn baik untuk mempredict orang yang actualnya Peminum pada data train\n",
        "\n",
        "Jika kita lihat dari Confusion Matrix data train terdapat:\n",
        "- True Positif = orang yang actual Peminum dan dipredict Peminum ada 315637 orang\n",
        "- False Positif = orang yang actual bukan Peminum dan dipredict sebagai Peminum ada 91190 orang\n",
        "- False Negatif = orang yang actual Peminum dan dipredict bukan Peminum ada 80753 orang\n",
        "- True Negatif = orang yang actual bukan Peminum dan dipredict bukan Peminum ada 305496 orang"
      ]
    },
    {
      "cell_type": "code",
      "execution_count": 174,
      "metadata": {},
      "outputs": [
        {
          "name": "stdout",
          "output_type": "stream",
          "text": [
            "Recall Score - All - Cross Validation  :  [0.69815333 0.69930372 0.70049951]\n",
            "Recall Score - Mean - Cross Validation :  0.6993188526451223\n",
            "Recall Score - Std - Cross Validation  :  0.0009578814150984969\n",
            "Recall Score - Range of Test-Set       :  0.6983609712300238 - 0.7002767340602207\n"
          ]
        }
      ],
      "source": [
        "# Crossvalidation data Train\n",
        "recall_train_cross_val = cross_val_score(model_knn,\n",
        "                                     X_train_final,\n",
        "                                     y_train,\n",
        "                                     cv=3,\n",
        "                                     scoring=\"recall\")\n",
        "\n",
        "print('Recall Score - All - Cross Validation  : ', recall_train_cross_val)\n",
        "print('Recall Score - Mean - Cross Validation : ', recall_train_cross_val.mean())\n",
        "print('Recall Score - Std - Cross Validation  : ', recall_train_cross_val.std())\n",
        "print('Recall Score - Range of Test-Set       : ', (recall_train_cross_val.mean()-recall_train_cross_val.std()) , '-', (recall_train_cross_val.mean()+recall_train_cross_val.std()))"
      ]
    },
    {
      "cell_type": "markdown",
      "metadata": {},
      "source": [
        "### Cek Performa model KNN pada data Test"
      ]
    },
    {
      "cell_type": "code",
      "execution_count": 160,
      "metadata": {},
      "outputs": [
        {
          "name": "stdout",
          "output_type": "stream",
          "text": [
            "F1 Score - Test Set  :  0.6887602058046445 \n",
            "\n",
            "Classification Report : \n",
            "               precision    recall  f1-score   support\n",
            "\n",
            "           0       0.69      0.67      0.68     99172\n",
            "           1       0.68      0.70      0.69     99098\n",
            "\n",
            "    accuracy                           0.68    198270\n",
            "   macro avg       0.68      0.68      0.68    198270\n",
            "weighted avg       0.68      0.68      0.68    198270\n",
            " \n",
            "\n",
            "Confusion Matrix      : \n",
            " <sklearn.metrics._plot.confusion_matrix.ConfusionMatrixDisplay object at 0x0000023C274C93D0>\n"
          ]
        },
        {
          "data": {
            "image/png": "[encoded data removed]",
            "text/plain": [
              "<Figure size 640x480 with 2 Axes>"
            ]
          },
          "metadata": {},
          "output_type": "display_data"
        }
      ],
      "source": [
        "# Check Performance Model against Train-Set\n",
        "\n",
        "y_pred_test = model_knn.predict(X_test_final)\n",
        "\n",
        "print('F1 Score - Test Set  : ', f1_score(y_test, y_pred_test), '\\n')\n",
        "print('Classification Report : \\n', classification_report(y_test, y_pred_test), '\\n')\n",
        "print('Confusion Matrix      : \\n', ConfusionMatrixDisplay.from_estimator(model_knn, X_test_final, y_test, cmap='Reds'))"
      ]
    },
    {
      "cell_type": "markdown",
      "metadata": {},
      "source": [
        "Pada model KNN, Recall dari data test untuk class 1 sebesar 70% dan untuk class 0 sebesar 67% dengan waktu predict 5 menit, yang berarti model knn kurang baik untuk mempredict orang yang actualnya Peminum pada data test\n",
        "\n",
        "Jika kita lihat dari Confusion Matrix data test terdapat:\n",
        "- True Positif = orang yang actual Peminum dan dipredict Peminum ada 69343 orang\n",
        "- False Positif = orang yang actual bukan Peminum dan dipredict sebagai Peminum ada 32915 orang\n",
        "- False Negatif = orang yang actual Peminum dan dipredict bukan Peminum ada +- 30000 orang\n",
        "- True Negatif = orang yang actual bukan Peminum dan dipredict bukan Peminum ada 66257 orang"
      ]
    },
    {
      "cell_type": "markdown",
      "metadata": {},
      "source": [
        "### Simpan Report Model KNN pada dataframe"
      ]
    },
    {
      "cell_type": "code",
      "execution_count": 161,
      "metadata": {},
      "outputs": [
        {
          "data": {
            "text/html": [
              "<div>\n",
              "<style scoped>\n",
              "    .dataframe tbody tr th:only-of-type {\n",
              "        vertical-align: middle;\n",
              "    }\n",
              "\n",
              "    .dataframe tbody tr th {\n",
              "        vertical-align: top;\n",
              "    }\n",
              "\n",
              "    .dataframe thead th {\n",
              "        text-align: right;\n",
              "    }\n",
              "</style>\n",
              "<table border=\"1\" class=\"dataframe\">\n",
              "  <thead>\n",
              "    <tr style=\"text-align: right;\">\n",
              "      <th></th>\n",
              "      <th>K-Neighbors Nearest (Default)</th>\n",
              "    </tr>\n",
              "  </thead>\n",
              "  <tbody>\n",
              "    <tr>\n",
              "      <th>test - accuracy_score</th>\n",
              "      <td>0.683916</td>\n",
              "    </tr>\n",
              "    <tr>\n",
              "      <th>test - f1_score</th>\n",
              "      <td>0.688760</td>\n",
              "    </tr>\n",
              "    <tr>\n",
              "      <th>test - precision</th>\n",
              "      <td>0.678118</td>\n",
              "    </tr>\n",
              "    <tr>\n",
              "      <th>test - recall</th>\n",
              "      <td>0.699742</td>\n",
              "    </tr>\n",
              "    <tr>\n",
              "      <th>train - accuracy</th>\n",
              "      <td>0.783195</td>\n",
              "    </tr>\n",
              "    <tr>\n",
              "      <th>train - f1_score</th>\n",
              "      <td>0.785932</td>\n",
              "    </tr>\n",
              "    <tr>\n",
              "      <th>train - precision</th>\n",
              "      <td>0.775851</td>\n",
              "    </tr>\n",
              "    <tr>\n",
              "      <th>train - recall</th>\n",
              "      <td>0.796279</td>\n",
              "    </tr>\n",
              "  </tbody>\n",
              "</table>\n",
              "</div>"
            ],
            "text/plain": [
              "                       K-Neighbors Nearest (Default)\n",
              "test - accuracy_score                       0.683916\n",
              "test - f1_score                             0.688760\n",
              "test - precision                            0.678118\n",
              "test - recall                               0.699742\n",
              "train - accuracy                            0.783195\n",
              "train - f1_score                            0.785932\n",
              "train - precision                           0.775851\n",
              "train - recall                              0.796279"
            ]
          },
          "execution_count": 161,
          "metadata": {},
          "output_type": "execute_result"
        }
      ],
      "source": [
        "# Save Classification Report into a Dictionary\n",
        "\n",
        "all_reports = {}\n",
        "def performance_report(all_reports, y_train, y_pred_train, y_test, y_pred_test, name):\n",
        "  score_reports = {\n",
        "      'train - precision' : precision_score(y_train, y_pred_train),\n",
        "      'train - recall' : recall_score(y_train, y_pred_train),\n",
        "      'train - accuracy' : accuracy_score(y_train, y_pred_train),\n",
        "      'train - f1_score' : f1_score(y_train, y_pred_train),\n",
        "      'test - precision' : precision_score(y_test, y_pred_test),\n",
        "      'test - recall' : recall_score(y_test, y_pred_test),\n",
        "      'test - accuracy_score' : accuracy_score(y_test, y_pred_test),\n",
        "      'test - f1_score' : f1_score(y_test, y_pred_test),\n",
        "  }\n",
        "  all_reports[name] = score_reports\n",
        "  return all_reports\n",
        "\n",
        "all_reports = performance_report(all_reports, y_train, y_pred_train, y_test, y_pred_test, 'K-Neighbors Nearest (Default)')\n",
        "pd.DataFrame(all_reports)"
      ]
    },
    {
      "cell_type": "markdown",
      "metadata": {},
      "source": [
        "## Evaluasi Model SVM"
      ]
    },
    {
      "cell_type": "markdown",
      "metadata": {},
      "source": [
        "### Cek Performa model SVM pada data Train"
      ]
    },
    {
      "cell_type": "code",
      "execution_count": 162,
      "metadata": {},
      "outputs": [
        {
          "name": "stdout",
          "output_type": "stream",
          "text": [
            "F1 Score - Train Set  :  0.7352058635446899 \n",
            "\n",
            "Classification Report : \n",
            "               precision    recall  f1-score   support\n",
            "\n",
            "           0       0.74      0.71      0.73     50284\n",
            "           1       0.72      0.75      0.74     49716\n",
            "\n",
            "    accuracy                           0.73    100000\n",
            "   macro avg       0.73      0.73      0.73    100000\n",
            "weighted avg       0.73      0.73      0.73    100000\n",
            " \n",
            "\n",
            "Confusion Matrix      : \n",
            " <sklearn.metrics._plot.confusion_matrix.ConfusionMatrixDisplay object at 0x0000023C59F45710>\n"
          ]
        },
        {
          "data": {
            "image/png": "[encoded data removed]",
            "text/plain": [
              "<Figure size 640x480 with 2 Axes>"
            ]
          },
          "metadata": {},
          "output_type": "display_data"
        }
      ],
      "source": [
        "# Check Performance Model against Train-Set\n",
        "\n",
        "y_pred_train = model_SVM.predict(X_train_final_sample)\n",
        "\n",
        "print('F1 Score - Train Set  : ', f1_score(y_train_sample, y_pred_train), '\\n')\n",
        "print('Classification Report : \\n', classification_report(y_train_sample, y_pred_train), '\\n')\n",
        "print('Confusion Matrix      : \\n', ConfusionMatrixDisplay.from_estimator(model_SVM, X_train_final_sample, y_train_sample, cmap='Reds'))"
      ]
    },
    {
      "cell_type": "markdown",
      "metadata": {},
      "source": [
        "Pada model SVM, Recall dari data train untuk class 1 sebesar 75% dan untuk class 0 sebesar 71% dengan waktu predict 21 menit dengan data sample sebanyak 100000 data, yang berarti model SVM cukup baik untuk mempredict orang yang actualnya Peminum pada data train\n",
        "\n",
        "Jika kita lihat dari Confusion Matrix data train terdapat:\n",
        "- True Positif = orang yang actual Peminum dan dipredict Peminum ada 37365 orang\n",
        "- False Positif = orang yang actual bukan Peminum dan dipredict sebagai Peminum ada 14564 orang\n",
        "- False Negatif = orang yang actual Peminum dan dipredict bukan Peminum ada 12351 orang\n",
        "- True Negatif = orang yang actual bukan Peminum dan dipredict bukan Peminum ada 35720 orang"
      ]
    },
    {
      "cell_type": "code",
      "execution_count": 175,
      "metadata": {},
      "outputs": [
        {
          "name": "stdout",
          "output_type": "stream",
          "text": [
            "Recall Score - All - Cross Validation  :  [0.74698286 0.7516896  0.74879315]\n",
            "Recall Score - Mean - Cross Validation :  0.7491552015447743\n",
            "Recall Score - Std - Cross Validation  :  0.001938496066160849\n",
            "Recall Score - Range of Test-Set       :  0.7472167054786135 - 0.7510936976109351\n"
          ]
        }
      ],
      "source": [
        "# Crossvalidation data Train\n",
        "recall_train_cross_val = cross_val_score(model_SVM,\n",
        "                                     X_train_final_sample,\n",
        "                                     y_train_sample,\n",
        "                                     cv=3,\n",
        "                                     scoring=\"recall\")\n",
        "\n",
        "print('Recall Score - All - Cross Validation  : ', recall_train_cross_val)\n",
        "print('Recall Score - Mean - Cross Validation : ', recall_train_cross_val.mean())\n",
        "print('Recall Score - Std - Cross Validation  : ', recall_train_cross_val.std())\n",
        "print('Recall Score - Range of Test-Set       : ', (recall_train_cross_val.mean()-recall_train_cross_val.std()) , '-', (recall_train_cross_val.mean()+recall_train_cross_val.std()))"
      ]
    },
    {
      "cell_type": "markdown",
      "metadata": {},
      "source": [
        "### Cek Performa model SVM pada data Test"
      ]
    },
    {
      "cell_type": "code",
      "execution_count": 163,
      "metadata": {},
      "outputs": [
        {
          "name": "stdout",
          "output_type": "stream",
          "text": [
            "F1 Score - Test Set  :  0.7306581502400173 \n",
            "\n",
            "Classification Report : \n",
            "               precision    recall  f1-score   support\n",
            "\n",
            "           0       0.74      0.70      0.72     99172\n",
            "           1       0.71      0.75      0.73     99098\n",
            "\n",
            "    accuracy                           0.72    198270\n",
            "   macro avg       0.72      0.72      0.72    198270\n",
            "weighted avg       0.72      0.72      0.72    198270\n",
            " \n",
            "\n",
            "Confusion Matrix      : \n",
            " <sklearn.metrics._plot.confusion_matrix.ConfusionMatrixDisplay object at 0x0000023C81DB02D0>\n"
          ]
        },
        {
          "data": {
            "image/png": "[encoded data removed]",
            "text/plain": [
              "<Figure size 640x480 with 2 Axes>"
            ]
          },
          "metadata": {},
          "output_type": "display_data"
        }
      ],
      "source": [
        "# Check Performance Model against Train-Set\n",
        "\n",
        "y_pred_test = model_SVM.predict(X_test_final)\n",
        "\n",
        "print('F1 Score - Test Set  : ', f1_score(y_test, y_pred_test), '\\n')\n",
        "print('Classification Report : \\n', classification_report(y_test, y_pred_test), '\\n')\n",
        "print('Confusion Matrix      : \\n', ConfusionMatrixDisplay.from_estimator(model_SVM, X_test_final, y_test, cmap='Reds'))"
      ]
    },
    {
      "cell_type": "markdown",
      "metadata": {},
      "source": [
        "Pada model SVM, Recall dari data test untuk class 1 sebesar 75% dan untuk class 0 sebesar 70% dengan waktu predict 42 menit, yang berarti model SVM cukup baik untuk mempredict orang yang actualnya Peminum pada data test\n",
        "\n",
        "Jika kita lihat dari Confusion Matrix data test terdapat:\n",
        "- True Positif = orang yang actual Peminum dan dipredict Peminum ada 74126 orang\n",
        "- False Positif = orang yang actual bukan Peminum dan dipredict sebagai Peminum ada +- 30000 orang\n",
        "- False Negatif = orang yang actual Peminum dan dipredict bukan Peminum ada 24972 orang\n",
        "- True Negatif = orang yang actual bukan Peminum dan dipredict bukan Peminum ada 69494 orang"
      ]
    },
    {
      "cell_type": "markdown",
      "metadata": {},
      "source": [
        "### Simpan Report Model SVM pada dataframe"
      ]
    },
    {
      "cell_type": "code",
      "execution_count": 164,
      "metadata": {},
      "outputs": [
        {
          "data": {
            "text/html": [
              "<div>\n",
              "<style scoped>\n",
              "    .dataframe tbody tr th:only-of-type {\n",
              "        vertical-align: middle;\n",
              "    }\n",
              "\n",
              "    .dataframe tbody tr th {\n",
              "        vertical-align: top;\n",
              "    }\n",
              "\n",
              "    .dataframe thead th {\n",
              "        text-align: right;\n",
              "    }\n",
              "</style>\n",
              "<table border=\"1\" class=\"dataframe\">\n",
              "  <thead>\n",
              "    <tr style=\"text-align: right;\">\n",
              "      <th></th>\n",
              "      <th>K-Neighbors Nearest (Default)</th>\n",
              "      <th>SVM (default)</th>\n",
              "    </tr>\n",
              "  </thead>\n",
              "  <tbody>\n",
              "    <tr>\n",
              "      <th>train - precision</th>\n",
              "      <td>0.775851</td>\n",
              "      <td>0.719540</td>\n",
              "    </tr>\n",
              "    <tr>\n",
              "      <th>train - recall</th>\n",
              "      <td>0.796279</td>\n",
              "      <td>0.751569</td>\n",
              "    </tr>\n",
              "    <tr>\n",
              "      <th>train - accuracy</th>\n",
              "      <td>0.783195</td>\n",
              "      <td>0.730850</td>\n",
              "    </tr>\n",
              "    <tr>\n",
              "      <th>train - f1_score</th>\n",
              "      <td>0.785932</td>\n",
              "      <td>0.735206</td>\n",
              "    </tr>\n",
              "    <tr>\n",
              "      <th>test - precision</th>\n",
              "      <td>0.678118</td>\n",
              "      <td>0.714096</td>\n",
              "    </tr>\n",
              "    <tr>\n",
              "      <th>test - recall</th>\n",
              "      <td>0.699742</td>\n",
              "      <td>0.748007</td>\n",
              "    </tr>\n",
              "    <tr>\n",
              "      <th>test - accuracy_score</th>\n",
              "      <td>0.683916</td>\n",
              "      <td>0.724366</td>\n",
              "    </tr>\n",
              "    <tr>\n",
              "      <th>test - f1_score</th>\n",
              "      <td>0.688760</td>\n",
              "      <td>0.730658</td>\n",
              "    </tr>\n",
              "  </tbody>\n",
              "</table>\n",
              "</div>"
            ],
            "text/plain": [
              "                       K-Neighbors Nearest (Default)  SVM (default)\n",
              "train - precision                           0.775851       0.719540\n",
              "train - recall                              0.796279       0.751569\n",
              "train - accuracy                            0.783195       0.730850\n",
              "train - f1_score                            0.785932       0.735206\n",
              "test - precision                            0.678118       0.714096\n",
              "test - recall                               0.699742       0.748007\n",
              "test - accuracy_score                       0.683916       0.724366\n",
              "test - f1_score                             0.688760       0.730658"
            ]
          },
          "execution_count": 164,
          "metadata": {},
          "output_type": "execute_result"
        }
      ],
      "source": [
        "# Save Classification Report into a Dictionary\n",
        "\n",
        "all_reports = performance_report(all_reports, y_train_sample, y_pred_train, y_test, y_pred_test, 'SVM (default)')\n",
        "pd.DataFrame(all_reports)"
      ]
    },
    {
      "cell_type": "markdown",
      "metadata": {},
      "source": [
        "## Evaluasi Model Decision Tree"
      ]
    },
    {
      "cell_type": "markdown",
      "metadata": {},
      "source": [
        "### Cek Performa model Decision Tree pada data Train"
      ]
    },
    {
      "cell_type": "code",
      "execution_count": 165,
      "metadata": {},
      "outputs": [
        {
          "name": "stdout",
          "output_type": "stream",
          "text": [
            "F1 Score - Train Set  :  1.0 \n",
            "\n"
          ]
        },
        {
          "name": "stdout",
          "output_type": "stream",
          "text": [
            "Classification Report : \n",
            "               precision    recall  f1-score   support\n",
            "\n",
            "           0       1.00      1.00      1.00    396686\n",
            "           1       1.00      1.00      1.00    396390\n",
            "\n",
            "    accuracy                           1.00    793076\n",
            "   macro avg       1.00      1.00      1.00    793076\n",
            "weighted avg       1.00      1.00      1.00    793076\n",
            " \n",
            "\n",
            "Confusion Matrix      : \n",
            " <sklearn.metrics._plot.confusion_matrix.ConfusionMatrixDisplay object at 0x0000023C1BF0D550>\n"
          ]
        },
        {
          "data": {
            "image/png": "[encoded data removed]",
            "text/plain": [
              "<Figure size 640x480 with 2 Axes>"
            ]
          },
          "metadata": {},
          "output_type": "display_data"
        }
      ],
      "source": [
        "# Check Performance Model against Train-Set\n",
        "\n",
        "y_pred_train = model_dt.predict(X_train_final)\n",
        "\n",
        "print('F1 Score - Train Set  : ', f1_score(y_train, y_pred_train), '\\n')\n",
        "print('Classification Report : \\n', classification_report(y_train, y_pred_train), '\\n')\n",
        "print('Confusion Matrix      : \\n', ConfusionMatrixDisplay.from_estimator(model_dt, X_train_final, y_train, cmap='Reds'))"
      ]
    },
    {
      "cell_type": "markdown",
      "metadata": {},
      "source": [
        "Pada model Decision Tree, Recall dari data train untuk class 1 sebesar 100% dan untuk class 0 sebesar 100%, yang berarti model Decision Tree sangat baik untuk mempredict orang yang actualnya Peminum pada data train\n",
        "\n",
        "Jika kita lihat dari Confusion Matrix data train terdapat:\n",
        "- True Positif = orang yang actual Peminum dan dipredict Peminum ada +-400000 orang\n",
        "- False Positif = orang yang actual bukan Peminum dan dipredict sebagai Peminum ada 0 orang\n",
        "- False Negatif = orang yang actual Peminum dan dipredict bukan Peminum ada 0 orang\n",
        "- True Negatif = orang yang actual bukan Peminum dan dipredict bukan Peminum ada +-400000 orang"
      ]
    },
    {
      "cell_type": "code",
      "execution_count": 176,
      "metadata": {},
      "outputs": [
        {
          "name": "stdout",
          "output_type": "stream",
          "text": [
            "Recall Score - All - Cross Validation  :  [0.64683266 0.64649966 0.64724892]\n",
            "Recall Score - Mean - Cross Validation :  0.6468604152476097\n",
            "Recall Score - Std - Cross Validation  :  0.0003065137142436876\n",
            "Recall Score - Range of Test-Set       :  0.646553901533366 - 0.6471669289618535\n"
          ]
        }
      ],
      "source": [
        "# Crossvalidation data Train\n",
        "recall_train_cross_val = cross_val_score(model_dt,\n",
        "                                     X_train_final,\n",
        "                                     y_train,\n",
        "                                     cv=3,\n",
        "                                     scoring=\"recall\")\n",
        "\n",
        "print('Recall Score - All - Cross Validation  : ', recall_train_cross_val)\n",
        "print('Recall Score - Mean - Cross Validation : ', recall_train_cross_val.mean())\n",
        "print('Recall Score - Std - Cross Validation  : ', recall_train_cross_val.std())\n",
        "print('Recall Score - Range of Test-Set       : ', (recall_train_cross_val.mean()-recall_train_cross_val.std()) , '-', (recall_train_cross_val.mean()+recall_train_cross_val.std()))"
      ]
    },
    {
      "cell_type": "markdown",
      "metadata": {},
      "source": [
        "### Cek Performa model Decison Tree pada data Test"
      ]
    },
    {
      "cell_type": "code",
      "execution_count": 166,
      "metadata": {},
      "outputs": [
        {
          "name": "stdout",
          "output_type": "stream",
          "text": [
            "F1 Score - Test Set  :  0.6446165310561508 \n",
            "\n",
            "Classification Report : \n",
            "               precision    recall  f1-score   support\n",
            "\n",
            "           0       0.64      0.64      0.64     99172\n",
            "           1       0.64      0.65      0.64     99098\n",
            "\n",
            "    accuracy                           0.64    198270\n",
            "   macro avg       0.64      0.64      0.64    198270\n",
            "weighted avg       0.64      0.64      0.64    198270\n",
            " \n",
            "\n",
            "Confusion Matrix      : \n",
            " <sklearn.metrics._plot.confusion_matrix.ConfusionMatrixDisplay object at 0x0000023C0FF070D0>\n"
          ]
        },
        {
          "data": {
            "image/png": "[encoded data removed]",
            "text/plain": [
              "<Figure size 640x480 with 2 Axes>"
            ]
          },
          "metadata": {},
          "output_type": "display_data"
        }
      ],
      "source": [
        "# Check Performance Model against Train-Set\n",
        "\n",
        "y_pred_test = model_dt.predict(X_test_final)\n",
        "\n",
        "print('F1 Score - Test Set  : ', f1_score(y_test, y_pred_test), '\\n')\n",
        "print('Classification Report : \\n', classification_report(y_test, y_pred_test), '\\n')\n",
        "print('Confusion Matrix      : \\n', ConfusionMatrixDisplay.from_estimator(model_dt, X_test_final, y_test, cmap='Reds'))"
      ]
    },
    {
      "cell_type": "markdown",
      "metadata": {},
      "source": [
        "Pada model Decision Tree, Recall dari data test untuk class 1 sebesar 65% dan untuk class 0 sebesar 64%, yang berarti model Decision Tree kurang baik untuk mempredict orang yang actualnya Peminum pada data test\n",
        "\n",
        "Jika kita lihat dari Confusion Matrix data test terdapat:\n",
        "- True Positif = orang yang actual Peminum dan dipredict Peminum ada 64013 orang\n",
        "- False Positif = orang yang actual bukan Peminum dan dipredict sebagai Peminum ada 35497 orang\n",
        "- False Negatif = orang yang actual Peminum dan dipredict bukan Peminum ada 35085 orang\n",
        "- True Negatif = orang yang actual bukan Peminum dan dipredict bukan Peminum ada 63675 orang"
      ]
    },
    {
      "cell_type": "markdown",
      "metadata": {},
      "source": [
        "### Simpan Report Model Decision Tree pada dataframe"
      ]
    },
    {
      "cell_type": "code",
      "execution_count": 167,
      "metadata": {},
      "outputs": [
        {
          "data": {
            "text/html": [
              "<div>\n",
              "<style scoped>\n",
              "    .dataframe tbody tr th:only-of-type {\n",
              "        vertical-align: middle;\n",
              "    }\n",
              "\n",
              "    .dataframe tbody tr th {\n",
              "        vertical-align: top;\n",
              "    }\n",
              "\n",
              "    .dataframe thead th {\n",
              "        text-align: right;\n",
              "    }\n",
              "</style>\n",
              "<table border=\"1\" class=\"dataframe\">\n",
              "  <thead>\n",
              "    <tr style=\"text-align: right;\">\n",
              "      <th></th>\n",
              "      <th>K-Neighbors Nearest (Default)</th>\n",
              "      <th>SVM (default)</th>\n",
              "      <th>Decision Tree (default)</th>\n",
              "    </tr>\n",
              "  </thead>\n",
              "  <tbody>\n",
              "    <tr>\n",
              "      <th>train - precision</th>\n",
              "      <td>0.775851</td>\n",
              "      <td>0.719540</td>\n",
              "      <td>1.000000</td>\n",
              "    </tr>\n",
              "    <tr>\n",
              "      <th>train - recall</th>\n",
              "      <td>0.796279</td>\n",
              "      <td>0.751569</td>\n",
              "      <td>1.000000</td>\n",
              "    </tr>\n",
              "    <tr>\n",
              "      <th>train - accuracy</th>\n",
              "      <td>0.783195</td>\n",
              "      <td>0.730850</td>\n",
              "      <td>1.000000</td>\n",
              "    </tr>\n",
              "    <tr>\n",
              "      <th>train - f1_score</th>\n",
              "      <td>0.785932</td>\n",
              "      <td>0.735206</td>\n",
              "      <td>1.000000</td>\n",
              "    </tr>\n",
              "    <tr>\n",
              "      <th>test - precision</th>\n",
              "      <td>0.678118</td>\n",
              "      <td>0.714096</td>\n",
              "      <td>0.643282</td>\n",
              "    </tr>\n",
              "    <tr>\n",
              "      <th>test - recall</th>\n",
              "      <td>0.699742</td>\n",
              "      <td>0.748007</td>\n",
              "      <td>0.645957</td>\n",
              "    </tr>\n",
              "    <tr>\n",
              "      <th>test - accuracy_score</th>\n",
              "      <td>0.683916</td>\n",
              "      <td>0.724366</td>\n",
              "      <td>0.644011</td>\n",
              "    </tr>\n",
              "    <tr>\n",
              "      <th>test - f1_score</th>\n",
              "      <td>0.688760</td>\n",
              "      <td>0.730658</td>\n",
              "      <td>0.644617</td>\n",
              "    </tr>\n",
              "  </tbody>\n",
              "</table>\n",
              "</div>"
            ],
            "text/plain": [
              "                       K-Neighbors Nearest (Default)  SVM (default)  \\\n",
              "train - precision                           0.775851       0.719540   \n",
              "train - recall                              0.796279       0.751569   \n",
              "train - accuracy                            0.783195       0.730850   \n",
              "train - f1_score                            0.785932       0.735206   \n",
              "test - precision                            0.678118       0.714096   \n",
              "test - recall                               0.699742       0.748007   \n",
              "test - accuracy_score                       0.683916       0.724366   \n",
              "test - f1_score                             0.688760       0.730658   \n",
              "\n",
              "                       Decision Tree (default)  \n",
              "train - precision                     1.000000  \n",
              "train - recall                        1.000000  \n",
              "train - accuracy                      1.000000  \n",
              "train - f1_score                      1.000000  \n",
              "test - precision                      0.643282  \n",
              "test - recall                         0.645957  \n",
              "test - accuracy_score                 0.644011  \n",
              "test - f1_score                       0.644617  "
            ]
          },
          "execution_count": 167,
          "metadata": {},
          "output_type": "execute_result"
        }
      ],
      "source": [
        "# Save Classification Report into a Dictionary\n",
        "\n",
        "all_reports = performance_report(all_reports, y_train, y_pred_train, y_test, y_pred_test, 'Decision Tree (default)')\n",
        "pd.DataFrame(all_reports)"
      ]
    },
    {
      "cell_type": "markdown",
      "metadata": {},
      "source": [
        "## Evaluasi Model Random Forest"
      ]
    },
    {
      "cell_type": "markdown",
      "metadata": {},
      "source": [
        "### Cek Performa model Random Forest pada data Train"
      ]
    },
    {
      "cell_type": "code",
      "execution_count": 168,
      "metadata": {},
      "outputs": [
        {
          "name": "stdout",
          "output_type": "stream",
          "text": [
            "F1 Score - Train Set  :  0.9999974772320189 \n",
            "\n",
            "Classification Report : \n",
            "               precision    recall  f1-score   support\n",
            "\n",
            "           0       1.00      1.00      1.00    396686\n",
            "           1       1.00      1.00      1.00    396390\n",
            "\n",
            "    accuracy                           1.00    793076\n",
            "   macro avg       1.00      1.00      1.00    793076\n",
            "weighted avg       1.00      1.00      1.00    793076\n",
            " \n",
            "\n",
            "Confusion Matrix      : \n",
            " <sklearn.metrics._plot.confusion_matrix.ConfusionMatrixDisplay object at 0x0000023C0FF21410>\n"
          ]
        },
        {
          "data": {
            "image/png": "[encoded data removed]",
            "text/plain": [
              "<Figure size 640x480 with 2 Axes>"
            ]
          },
          "metadata": {},
          "output_type": "display_data"
        }
      ],
      "source": [
        "# Check Performance Model against Train-Set\n",
        "\n",
        "y_pred_train = model_rf.predict(X_train_final)\n",
        "\n",
        "print('F1 Score - Train Set  : ', f1_score(y_train, y_pred_train), '\\n')\n",
        "print('Classification Report : \\n', classification_report(y_train, y_pred_train), '\\n')\n",
        "print('Confusion Matrix      : \\n', ConfusionMatrixDisplay.from_estimator(model_rf, X_train_final, y_train, cmap='Reds'))"
      ]
    },
    {
      "cell_type": "markdown",
      "metadata": {},
      "source": [
        "Pada model Random Forest, Recall dari data train untuk class 1 sebesar 100% dan untuk class 0 sebesar 100%, yang berarti model Random Forest sangat baik untuk mempredict orang yang actualnya Peminum pada data train\n",
        "\n",
        "Jika kita lihat dari Confusion Matrix data train terdapat:\n",
        "- True Positif = orang yang actual Peminum dan dipredict Peminum ada +-400000 orang\n",
        "- False Positif = orang yang actual bukan Peminum dan dipredict sebagai Peminum ada 1 orang\n",
        "- False Negatif = orang yang actual Peminum dan dipredict bukan Peminum ada 1 orang\n",
        "- True Negatif = orang yang actual bukan Peminum dan dipredict bukan Peminum ada +-400000 orang"
      ]
    },
    {
      "cell_type": "code",
      "execution_count": 177,
      "metadata": {},
      "outputs": [
        {
          "name": "stdout",
          "output_type": "stream",
          "text": [
            "Recall Score - All - Cross Validation  :  [0.7337622  0.73594944 0.73560887]\n",
            "Recall Score - Mean - Cross Validation :  0.7351068392239966\n",
            "Recall Score - Std - Cross Validation  :  0.0009609130183656201\n",
            "Recall Score - Range of Test-Set       :  0.7341459262056309 - 0.7360677522423622\n"
          ]
        }
      ],
      "source": [
        "# Crossvalidation data Train\n",
        "recall_train_cross_val = cross_val_score(model_rf,\n",
        "                                     X_train_final,\n",
        "                                     y_train,\n",
        "                                     cv=3,\n",
        "                                     scoring=\"recall\")\n",
        "\n",
        "print('Recall Score - All - Cross Validation  : ', recall_train_cross_val)\n",
        "print('Recall Score - Mean - Cross Validation : ', recall_train_cross_val.mean())\n",
        "print('Recall Score - Std - Cross Validation  : ', recall_train_cross_val.std())\n",
        "print('Recall Score - Range of Test-Set       : ', (recall_train_cross_val.mean()-recall_train_cross_val.std()) , '-', (recall_train_cross_val.mean()+recall_train_cross_val.std()))"
      ]
    },
    {
      "cell_type": "markdown",
      "metadata": {},
      "source": [
        "### Cek Performa model Random Forest pada data Test"
      ]
    },
    {
      "cell_type": "code",
      "execution_count": 169,
      "metadata": {},
      "outputs": [
        {
          "name": "stdout",
          "output_type": "stream",
          "text": [
            "F1 Score - Test Set  :  0.731719118566158 \n",
            "\n",
            "Classification Report : \n",
            "               precision    recall  f1-score   support\n",
            "\n",
            "           0       0.73      0.73      0.73     99172\n",
            "           1       0.73      0.73      0.73     99098\n",
            "\n",
            "    accuracy                           0.73    198270\n",
            "   macro avg       0.73      0.73      0.73    198270\n",
            "weighted avg       0.73      0.73      0.73    198270\n",
            " \n",
            "\n",
            "Confusion Matrix      : \n",
            " <sklearn.metrics._plot.confusion_matrix.ConfusionMatrixDisplay object at 0x0000023C102B0090>\n"
          ]
        },
        {
          "data": {
            "image/png": "[encoded data removed]",
            "text/plain": [
              "<Figure size 640x480 with 2 Axes>"
            ]
          },
          "metadata": {},
          "output_type": "display_data"
        }
      ],
      "source": [
        "# Check Performance Model against Train-Set\n",
        "\n",
        "y_pred_test = model_rf.predict(X_test_final)\n",
        "\n",
        "print('F1 Score - Test Set  : ', f1_score(y_test, y_pred_test), '\\n')\n",
        "print('Classification Report : \\n', classification_report(y_test, y_pred_test), '\\n')\n",
        "print('Confusion Matrix      : \\n', ConfusionMatrixDisplay.from_estimator(model_rf, X_test_final, y_test, cmap='Reds'))"
      ]
    },
    {
      "cell_type": "markdown",
      "metadata": {},
      "source": [
        "Pada model Random Forest, Recall dari data test untuk class 1 sebesar 73% dan untuk class 0 sebesar 73%, yang berarti model Random Forest sangat baik untuk mempredict orang yang actualnya Peminum pada data test\n",
        "\n",
        "Jika kita lihat dari Confusion Matrix data test terdapat:\n",
        "- True Positif = orang yang actual Peminum dan dipredict Peminum ada 72588 orang\n",
        "- False Positif = orang yang actual bukan Peminum dan dipredict sebagai Peminum ada 26718 orang\n",
        "- False Negatif = orang yang actual Peminum dan dipredict bukan Peminum ada 26510 orang\n",
        "- True Negatif = orang yang actual bukan Peminum dan dipredict bukan Peminum ada 72454 orang"
      ]
    },
    {
      "cell_type": "markdown",
      "metadata": {},
      "source": [
        "### Simpan Report Model Random Forest pada dataframe"
      ]
    },
    {
      "cell_type": "code",
      "execution_count": 170,
      "metadata": {},
      "outputs": [
        {
          "data": {
            "text/html": [
              "<div>\n",
              "<style scoped>\n",
              "    .dataframe tbody tr th:only-of-type {\n",
              "        vertical-align: middle;\n",
              "    }\n",
              "\n",
              "    .dataframe tbody tr th {\n",
              "        vertical-align: top;\n",
              "    }\n",
              "\n",
              "    .dataframe thead th {\n",
              "        text-align: right;\n",
              "    }\n",
              "</style>\n",
              "<table border=\"1\" class=\"dataframe\">\n",
              "  <thead>\n",
              "    <tr style=\"text-align: right;\">\n",
              "      <th></th>\n",
              "      <th>K-Neighbors Nearest (Default)</th>\n",
              "      <th>SVM (default)</th>\n",
              "      <th>Decision Tree (default)</th>\n",
              "      <th>Random Forest (default)</th>\n",
              "    </tr>\n",
              "  </thead>\n",
              "  <tbody>\n",
              "    <tr>\n",
              "      <th>train - precision</th>\n",
              "      <td>0.775851</td>\n",
              "      <td>0.719540</td>\n",
              "      <td>1.000000</td>\n",
              "      <td>0.999997</td>\n",
              "    </tr>\n",
              "    <tr>\n",
              "      <th>train - recall</th>\n",
              "      <td>0.796279</td>\n",
              "      <td>0.751569</td>\n",
              "      <td>1.000000</td>\n",
              "      <td>0.999997</td>\n",
              "    </tr>\n",
              "    <tr>\n",
              "      <th>train - accuracy</th>\n",
              "      <td>0.783195</td>\n",
              "      <td>0.730850</td>\n",
              "      <td>1.000000</td>\n",
              "      <td>0.999997</td>\n",
              "    </tr>\n",
              "    <tr>\n",
              "      <th>train - f1_score</th>\n",
              "      <td>0.785932</td>\n",
              "      <td>0.735206</td>\n",
              "      <td>1.000000</td>\n",
              "      <td>0.999997</td>\n",
              "    </tr>\n",
              "    <tr>\n",
              "      <th>test - precision</th>\n",
              "      <td>0.678118</td>\n",
              "      <td>0.714096</td>\n",
              "      <td>0.643282</td>\n",
              "      <td>0.730953</td>\n",
              "    </tr>\n",
              "    <tr>\n",
              "      <th>test - recall</th>\n",
              "      <td>0.699742</td>\n",
              "      <td>0.748007</td>\n",
              "      <td>0.645957</td>\n",
              "      <td>0.732487</td>\n",
              "    </tr>\n",
              "    <tr>\n",
              "      <th>test - accuracy_score</th>\n",
              "      <td>0.683916</td>\n",
              "      <td>0.724366</td>\n",
              "      <td>0.644011</td>\n",
              "      <td>0.731538</td>\n",
              "    </tr>\n",
              "    <tr>\n",
              "      <th>test - f1_score</th>\n",
              "      <td>0.688760</td>\n",
              "      <td>0.730658</td>\n",
              "      <td>0.644617</td>\n",
              "      <td>0.731719</td>\n",
              "    </tr>\n",
              "  </tbody>\n",
              "</table>\n",
              "</div>"
            ],
            "text/plain": [
              "                       K-Neighbors Nearest (Default)  SVM (default)  \\\n",
              "train - precision                           0.775851       0.719540   \n",
              "train - recall                              0.796279       0.751569   \n",
              "train - accuracy                            0.783195       0.730850   \n",
              "train - f1_score                            0.785932       0.735206   \n",
              "test - precision                            0.678118       0.714096   \n",
              "test - recall                               0.699742       0.748007   \n",
              "test - accuracy_score                       0.683916       0.724366   \n",
              "test - f1_score                             0.688760       0.730658   \n",
              "\n",
              "                       Decision Tree (default)  Random Forest (default)  \n",
              "train - precision                     1.000000                 0.999997  \n",
              "train - recall                        1.000000                 0.999997  \n",
              "train - accuracy                      1.000000                 0.999997  \n",
              "train - f1_score                      1.000000                 0.999997  \n",
              "test - precision                      0.643282                 0.730953  \n",
              "test - recall                         0.645957                 0.732487  \n",
              "test - accuracy_score                 0.644011                 0.731538  \n",
              "test - f1_score                       0.644617                 0.731719  "
            ]
          },
          "execution_count": 170,
          "metadata": {},
          "output_type": "execute_result"
        }
      ],
      "source": [
        "# Save Classification Report into a Dictionary\n",
        "\n",
        "all_reports = performance_report(all_reports, y_train, y_pred_train, y_test, y_pred_test, 'Random Forest (default)')\n",
        "pd.DataFrame(all_reports)"
      ]
    },
    {
      "cell_type": "markdown",
      "metadata": {},
      "source": [
        "## Evaluasi Model Decision Tree dengan Adaboosting"
      ]
    },
    {
      "cell_type": "markdown",
      "metadata": {},
      "source": [
        "### Cek Perfoma model Adaboost pada data Train"
      ]
    },
    {
      "cell_type": "code",
      "execution_count": 184,
      "metadata": {},
      "outputs": [
        {
          "name": "stdout",
          "output_type": "stream",
          "text": [
            "F1 Score - Train Set  :  1.0 \n",
            "\n",
            "Classification Report : \n",
            "               precision    recall  f1-score   support\n",
            "\n",
            "           0       1.00      1.00      1.00    396686\n",
            "           1       1.00      1.00      1.00    396390\n",
            "\n",
            "    accuracy                           1.00    793076\n",
            "   macro avg       1.00      1.00      1.00    793076\n",
            "weighted avg       1.00      1.00      1.00    793076\n",
            " \n",
            "\n",
            "Confusion Matrix      : \n",
            " <sklearn.metrics._plot.confusion_matrix.ConfusionMatrixDisplay object at 0x0000023C1026BB10>\n"
          ]
        },
        {
          "data": {
            "image/png": "[encoded data removed]",
            "text/plain": [
              "<Figure size 640x480 with 2 Axes>"
            ]
          },
          "metadata": {},
          "output_type": "display_data"
        }
      ],
      "source": [
        "# Check Performance Model against Train-Set\n",
        "\n",
        "y_pred_train = adaboost_clf.predict(X_train_final)\n",
        "\n",
        "print('F1 Score - Train Set  : ', f1_score(y_train, y_pred_train), '\\n')\n",
        "print('Classification Report : \\n', classification_report(y_train, y_pred_train), '\\n')\n",
        "print('Confusion Matrix      : \\n', ConfusionMatrixDisplay.from_estimator(adaboost_clf, X_train_final, y_train, cmap='Reds'))"
      ]
    },
    {
      "cell_type": "markdown",
      "metadata": {},
      "source": [
        "Pada model Adaboost Decision Tree, Recall dari data train untuk class 1 sebesar 100% dan untuk class 0 sebesar 100%, yang berarti model Adaboost Decision Tree sangat baik untuk mempredict orang yang actualnya Peminum pada data train\n",
        "\n",
        "Jika kita lihat dari Confusion Matrix data train terdapat:\n",
        "- True Positif = orang yang actual Peminum dan dipredict Peminum ada +-400000 orang\n",
        "- False Positif = orang yang actual bukan Peminum dan dipredict sebagai Peminum ada 0 orang\n",
        "- False Negatif = orang yang actual Peminum dan dipredict bukan Peminum ada 0 orang\n",
        "- True Negatif = orang yang actual bukan Peminum dan dipredict bukan Peminum ada +-400000 orang"
      ]
    },
    {
      "cell_type": "code",
      "execution_count": 188,
      "metadata": {},
      "outputs": [
        {
          "name": "stdout",
          "output_type": "stream",
          "text": [
            "Recall Score - All - Cross Validation  :  [0.64671157 0.64510709 0.646704  ]\n",
            "Recall Score - Mean - Cross Validation :  0.6461742223567698\n",
            "Recall Score - Std - Cross Validation  :  0.0007545817904141197\n",
            "Recall Score - Range of Test-Set       :  0.6454196405663557 - 0.6469288041471839\n"
          ]
        }
      ],
      "source": [
        "# Crossvalidation data Train\n",
        "recall_train_cross_val = cross_val_score(adaboost_clf,\n",
        "                                     X_train_final,\n",
        "                                     y_train,\n",
        "                                     cv=3,\n",
        "                                     scoring=\"recall\")\n",
        "\n",
        "print('Recall Score - All - Cross Validation  : ', recall_train_cross_val)\n",
        "print('Recall Score - Mean - Cross Validation : ', recall_train_cross_val.mean())\n",
        "print('Recall Score - Std - Cross Validation  : ', recall_train_cross_val.std())\n",
        "print('Recall Score - Range of Test-Set       : ', (recall_train_cross_val.mean()-recall_train_cross_val.std()) , '-', (recall_train_cross_val.mean()+recall_train_cross_val.std()))"
      ]
    },
    {
      "cell_type": "markdown",
      "metadata": {},
      "source": [
        "### Cek Perfoma model Adaboost pada data Test"
      ]
    },
    {
      "cell_type": "code",
      "execution_count": 185,
      "metadata": {},
      "outputs": [
        {
          "name": "stdout",
          "output_type": "stream",
          "text": [
            "F1 Score - Test Set  :  0.6458035552513437 \n",
            "\n",
            "Classification Report : \n",
            "               precision    recall  f1-score   support\n",
            "\n",
            "           0       0.65      0.64      0.64     99172\n",
            "           1       0.64      0.65      0.65     99098\n",
            "\n",
            "    accuracy                           0.65    198270\n",
            "   macro avg       0.65      0.65      0.65    198270\n",
            "weighted avg       0.65      0.65      0.65    198270\n",
            " \n",
            "\n",
            "Confusion Matrix      : \n",
            " <sklearn.metrics._plot.confusion_matrix.ConfusionMatrixDisplay object at 0x0000023C1022F590>\n"
          ]
        },
        {
          "data": {
            "image/png": "[encoded data removed]",
            "text/plain": [
              "<Figure size 640x480 with 2 Axes>"
            ]
          },
          "metadata": {},
          "output_type": "display_data"
        }
      ],
      "source": [
        "# Check Performance Model against Train-Set\n",
        "\n",
        "y_pred_test = adaboost_clf.predict(X_test_final)\n",
        "\n",
        "print('F1 Score - Test Set  : ', f1_score(y_test, y_pred_test), '\\n')\n",
        "print('Classification Report : \\n', classification_report(y_test, y_pred_test), '\\n')\n",
        "print('Confusion Matrix      : \\n', ConfusionMatrixDisplay.from_estimator(adaboost_clf, X_test_final, y_test, cmap='Reds'))"
      ]
    },
    {
      "cell_type": "markdown",
      "metadata": {},
      "source": [
        "Pada model Adaboost Decision Tree, Recall dari data test untuk class 1 sebesar 65% dan untuk class 0 sebesar 64%, yang berarti model Adaboost Decision Tree kurang baik untuk mempredict orang yang actualnya Peminum pada data test\n",
        "\n",
        "Jika kita lihat dari Confusion Matrix data test terdapat:\n",
        "- True Positif = orang yang actual Peminum dan dipredict Peminum ada 64158 orang\n",
        "- False Positif = orang yang actual bukan Peminum dan dipredict sebagai Peminum ada 35436 orang\n",
        "- False Negatif = orang yang actual Peminum dan dipredict bukan Peminum ada 34940 orang\n",
        "- True Negatif = orang yang actual bukan Peminum dan dipredict bukan Peminum ada 63736 orang"
      ]
    },
    {
      "cell_type": "markdown",
      "metadata": {},
      "source": [
        "### Simpan Report Model Adaboost pada dataframe"
      ]
    },
    {
      "cell_type": "code",
      "execution_count": 186,
      "metadata": {},
      "outputs": [
        {
          "data": {
            "text/html": [
              "<div>\n",
              "<style scoped>\n",
              "    .dataframe tbody tr th:only-of-type {\n",
              "        vertical-align: middle;\n",
              "    }\n",
              "\n",
              "    .dataframe tbody tr th {\n",
              "        vertical-align: top;\n",
              "    }\n",
              "\n",
              "    .dataframe thead th {\n",
              "        text-align: right;\n",
              "    }\n",
              "</style>\n",
              "<table border=\"1\" class=\"dataframe\">\n",
              "  <thead>\n",
              "    <tr style=\"text-align: right;\">\n",
              "      <th></th>\n",
              "      <th>K-Neighbors Nearest (Default)</th>\n",
              "      <th>SVM (default)</th>\n",
              "      <th>Decision Tree (default)</th>\n",
              "      <th>Random Forest (default)</th>\n",
              "      <th>Adaboosting DT</th>\n",
              "    </tr>\n",
              "  </thead>\n",
              "  <tbody>\n",
              "    <tr>\n",
              "      <th>train - precision</th>\n",
              "      <td>0.775851</td>\n",
              "      <td>0.719540</td>\n",
              "      <td>1.000000</td>\n",
              "      <td>0.999997</td>\n",
              "      <td>1.000000</td>\n",
              "    </tr>\n",
              "    <tr>\n",
              "      <th>train - recall</th>\n",
              "      <td>0.796279</td>\n",
              "      <td>0.751569</td>\n",
              "      <td>1.000000</td>\n",
              "      <td>0.999997</td>\n",
              "      <td>1.000000</td>\n",
              "    </tr>\n",
              "    <tr>\n",
              "      <th>train - accuracy</th>\n",
              "      <td>0.783195</td>\n",
              "      <td>0.730850</td>\n",
              "      <td>1.000000</td>\n",
              "      <td>0.999997</td>\n",
              "      <td>1.000000</td>\n",
              "    </tr>\n",
              "    <tr>\n",
              "      <th>train - f1_score</th>\n",
              "      <td>0.785932</td>\n",
              "      <td>0.735206</td>\n",
              "      <td>1.000000</td>\n",
              "      <td>0.999997</td>\n",
              "      <td>1.000000</td>\n",
              "    </tr>\n",
              "    <tr>\n",
              "      <th>test - precision</th>\n",
              "      <td>0.678118</td>\n",
              "      <td>0.714096</td>\n",
              "      <td>0.643282</td>\n",
              "      <td>0.730953</td>\n",
              "      <td>0.644195</td>\n",
              "    </tr>\n",
              "    <tr>\n",
              "      <th>test - recall</th>\n",
              "      <td>0.699742</td>\n",
              "      <td>0.748007</td>\n",
              "      <td>0.645957</td>\n",
              "      <td>0.732487</td>\n",
              "      <td>0.647420</td>\n",
              "    </tr>\n",
              "    <tr>\n",
              "      <th>test - accuracy_score</th>\n",
              "      <td>0.683916</td>\n",
              "      <td>0.724366</td>\n",
              "      <td>0.644011</td>\n",
              "      <td>0.731538</td>\n",
              "      <td>0.645050</td>\n",
              "    </tr>\n",
              "    <tr>\n",
              "      <th>test - f1_score</th>\n",
              "      <td>0.688760</td>\n",
              "      <td>0.730658</td>\n",
              "      <td>0.644617</td>\n",
              "      <td>0.731719</td>\n",
              "      <td>0.645804</td>\n",
              "    </tr>\n",
              "  </tbody>\n",
              "</table>\n",
              "</div>"
            ],
            "text/plain": [
              "                       K-Neighbors Nearest (Default)  SVM (default)  \\\n",
              "train - precision                           0.775851       0.719540   \n",
              "train - recall                              0.796279       0.751569   \n",
              "train - accuracy                            0.783195       0.730850   \n",
              "train - f1_score                            0.785932       0.735206   \n",
              "test - precision                            0.678118       0.714096   \n",
              "test - recall                               0.699742       0.748007   \n",
              "test - accuracy_score                       0.683916       0.724366   \n",
              "test - f1_score                             0.688760       0.730658   \n",
              "\n",
              "                       Decision Tree (default)  Random Forest (default)  \\\n",
              "train - precision                     1.000000                 0.999997   \n",
              "train - recall                        1.000000                 0.999997   \n",
              "train - accuracy                      1.000000                 0.999997   \n",
              "train - f1_score                      1.000000                 0.999997   \n",
              "test - precision                      0.643282                 0.730953   \n",
              "test - recall                         0.645957                 0.732487   \n",
              "test - accuracy_score                 0.644011                 0.731538   \n",
              "test - f1_score                       0.644617                 0.731719   \n",
              "\n",
              "                       Adaboosting DT  \n",
              "train - precision            1.000000  \n",
              "train - recall               1.000000  \n",
              "train - accuracy             1.000000  \n",
              "train - f1_score             1.000000  \n",
              "test - precision             0.644195  \n",
              "test - recall                0.647420  \n",
              "test - accuracy_score        0.645050  \n",
              "test - f1_score              0.645804  "
            ]
          },
          "execution_count": 186,
          "metadata": {},
          "output_type": "execute_result"
        }
      ],
      "source": [
        "# Save Classification Report into a Dictionary\n",
        "\n",
        "all_reports = performance_report(all_reports, y_train, y_pred_train, y_test, y_pred_test, 'Adaboosting DT')\n",
        "pd.DataFrame(all_reports)"
      ]
    },
    {
      "cell_type": "markdown",
      "metadata": {},
      "source": [
        "## Kesimpulan Evaluasi Model KNN, SVM, Decision Tree dan Random Forest"
      ]
    },
    {
      "cell_type": "code",
      "execution_count": 187,
      "metadata": {},
      "outputs": [
        {
          "data": {
            "text/html": [
              "<div>\n",
              "<style scoped>\n",
              "    .dataframe tbody tr th:only-of-type {\n",
              "        vertical-align: middle;\n",
              "    }\n",
              "\n",
              "    .dataframe tbody tr th {\n",
              "        vertical-align: top;\n",
              "    }\n",
              "\n",
              "    .dataframe thead th {\n",
              "        text-align: right;\n",
              "    }\n",
              "</style>\n",
              "<table border=\"1\" class=\"dataframe\">\n",
              "  <thead>\n",
              "    <tr style=\"text-align: right;\">\n",
              "      <th></th>\n",
              "      <th>K-Neighbors Nearest (Default)</th>\n",
              "      <th>SVM (default)</th>\n",
              "      <th>Decision Tree (default)</th>\n",
              "      <th>Random Forest (default)</th>\n",
              "      <th>Adaboosting DT</th>\n",
              "    </tr>\n",
              "  </thead>\n",
              "  <tbody>\n",
              "    <tr>\n",
              "      <th>train - precision</th>\n",
              "      <td>0.775851</td>\n",
              "      <td>0.719540</td>\n",
              "      <td>1.000000</td>\n",
              "      <td>0.999997</td>\n",
              "      <td>1.000000</td>\n",
              "    </tr>\n",
              "    <tr>\n",
              "      <th>train - recall</th>\n",
              "      <td>0.796279</td>\n",
              "      <td>0.751569</td>\n",
              "      <td>1.000000</td>\n",
              "      <td>0.999997</td>\n",
              "      <td>1.000000</td>\n",
              "    </tr>\n",
              "    <tr>\n",
              "      <th>train - accuracy</th>\n",
              "      <td>0.783195</td>\n",
              "      <td>0.730850</td>\n",
              "      <td>1.000000</td>\n",
              "      <td>0.999997</td>\n",
              "      <td>1.000000</td>\n",
              "    </tr>\n",
              "    <tr>\n",
              "      <th>train - f1_score</th>\n",
              "      <td>0.785932</td>\n",
              "      <td>0.735206</td>\n",
              "      <td>1.000000</td>\n",
              "      <td>0.999997</td>\n",
              "      <td>1.000000</td>\n",
              "    </tr>\n",
              "    <tr>\n",
              "      <th>test - precision</th>\n",
              "      <td>0.678118</td>\n",
              "      <td>0.714096</td>\n",
              "      <td>0.643282</td>\n",
              "      <td>0.730953</td>\n",
              "      <td>0.644195</td>\n",
              "    </tr>\n",
              "    <tr>\n",
              "      <th>test - recall</th>\n",
              "      <td>0.699742</td>\n",
              "      <td>0.748007</td>\n",
              "      <td>0.645957</td>\n",
              "      <td>0.732487</td>\n",
              "      <td>0.647420</td>\n",
              "    </tr>\n",
              "    <tr>\n",
              "      <th>test - accuracy_score</th>\n",
              "      <td>0.683916</td>\n",
              "      <td>0.724366</td>\n",
              "      <td>0.644011</td>\n",
              "      <td>0.731538</td>\n",
              "      <td>0.645050</td>\n",
              "    </tr>\n",
              "    <tr>\n",
              "      <th>test - f1_score</th>\n",
              "      <td>0.688760</td>\n",
              "      <td>0.730658</td>\n",
              "      <td>0.644617</td>\n",
              "      <td>0.731719</td>\n",
              "      <td>0.645804</td>\n",
              "    </tr>\n",
              "  </tbody>\n",
              "</table>\n",
              "</div>"
            ],
            "text/plain": [
              "                       K-Neighbors Nearest (Default)  SVM (default)  \\\n",
              "train - precision                           0.775851       0.719540   \n",
              "train - recall                              0.796279       0.751569   \n",
              "train - accuracy                            0.783195       0.730850   \n",
              "train - f1_score                            0.785932       0.735206   \n",
              "test - precision                            0.678118       0.714096   \n",
              "test - recall                               0.699742       0.748007   \n",
              "test - accuracy_score                       0.683916       0.724366   \n",
              "test - f1_score                             0.688760       0.730658   \n",
              "\n",
              "                       Decision Tree (default)  Random Forest (default)  \\\n",
              "train - precision                     1.000000                 0.999997   \n",
              "train - recall                        1.000000                 0.999997   \n",
              "train - accuracy                      1.000000                 0.999997   \n",
              "train - f1_score                      1.000000                 0.999997   \n",
              "test - precision                      0.643282                 0.730953   \n",
              "test - recall                         0.645957                 0.732487   \n",
              "test - accuracy_score                 0.644011                 0.731538   \n",
              "test - f1_score                       0.644617                 0.731719   \n",
              "\n",
              "                       Adaboosting DT  \n",
              "train - precision            1.000000  \n",
              "train - recall               1.000000  \n",
              "train - accuracy             1.000000  \n",
              "train - f1_score             1.000000  \n",
              "test - precision             0.644195  \n",
              "test - recall                0.647420  \n",
              "test - accuracy_score        0.645050  \n",
              "test - f1_score              0.645804  "
            ]
          },
          "execution_count": 187,
          "metadata": {},
          "output_type": "execute_result"
        }
      ],
      "source": [
        "pd.DataFrame(all_reports)"
      ]
    },
    {
      "cell_type": "markdown",
      "metadata": {},
      "source": [
        "Berdasarkan tabel perbandingan nilai recall diatas dan hasil perhitungan nilai perfoma dari cross valdation didapat:\n",
        "1. Pada model KNN recall untuk data train sebesar 79% dan untuk data test sebesar 69%. Recall Score - Mean - Cross Validation :  69% dan Recall Score - Std - Cross Validation  :  0.0009578814150984969\n",
        "2. Pada model SVM recall untuk data train sebesar 75% dan untuk data test sebesar 74%. Recall Score - Mean - Cross Validation :  74% dan Recall Score - Std - Cross Validation  : 0.001938496066160849\n",
        "3. Pada model Decision Tree recall untuk data train sebesar 100% dan untuk data test sebesar 64%. Recall Score - Mean - Cross Validation :  64% dan Recall Score - Std - Cross Validation  :  0.0003065137142436876\n",
        "4. Pada model Random Forest recall untuk data train sebesar 99% dan untuk data test sebesar 73%. Recall Score - Mean - Cross Validation :  73% dan Recall Score - Std - Cross Validation  :  0.0009609130183656201\n",
        "5. Pada model Adaboost Decision Tree recall untuk data train sebesar 100% dan untuk data test sebesar 64%. Recall Score - Mean - Cross Validation :  64% dan Recall Score - Std - Cross Validation  :  0.0007545817904141197\n",
        "\n",
        "Dari statement diatas dapat disimpulkan bahwa untuk model yang baik kita bisa menggunakan SVM atau Random Forest namun mengingat proses pada model SVM membutuhkan waktu yang lebih lama untuk data yang banyak. Sehingga kita simpulkan untuk menggunakan model Random Forest yang akan kita coba berikan hyperparameter tunning "
      ]
    },
    {
      "cell_type": "markdown",
      "metadata": {},
      "source": [
        "## Hyperparameter Tunning Random Forest"
      ]
    },
    {
      "cell_type": "markdown",
      "metadata": {},
      "source": [
        "**Hyperparameter menggunakan gridsearch**"
      ]
    },
    {
      "cell_type": "code",
      "execution_count": 65,
      "metadata": {},
      "outputs": [
        {
          "data": {
            "text/plain": [
              "{'n_estimators': [100, 550, 1000],\n",
              " 'max_depth': [10, 100],\n",
              " 'min_samples_split': [3],\n",
              " 'min_samples_leaf': [3, 7]}"
            ]
          },
          "execution_count": 65,
          "metadata": {},
          "output_type": "execute_result"
        }
      ],
      "source": [
        "# Define Hyperparameters\n",
        "n_estimators = [int(x) for x in np.linspace(start=100, stop=1000, num = 3)]\n",
        "max_depth = [int(x) for x in np.linspace(10, 100, 2)]\n",
        "min_samples_split = [3]\n",
        "min_samples_leaf = [3, 7]\n",
        "grid_search_params = {'n_estimators': n_estimators,\n",
        "                        'max_depth':max_depth,\n",
        "                        'min_samples_split':min_samples_split,\n",
        "                        'min_samples_leaf':min_samples_leaf}\n",
        "grid_search_params"
      ]
    },
    {
      "cell_type": "code",
      "execution_count": 66,
      "metadata": {},
      "outputs": [
        {
          "name": "stdout",
          "output_type": "stream",
          "text": [
            "Fitting 5 folds for each of 12 candidates, totalling 60 fits\n"
          ]
        },
        {
          "data": {
            "text/html": [
              "<style>#sk-container-id-8 {color: black;}#sk-container-id-8 pre{padding: 0;}#sk-container-id-8 div.sk-toggleable {background-color: white;}#sk-container-id-8 label.sk-toggleable__label {cursor: pointer;display: block;width: 100%;margin-bottom: 0;padding: 0.3em;box-sizing: border-box;text-align: center;}#sk-container-id-8 label.sk-toggleable__label-arrow:before {content: \"▸\";float: left;margin-right: 0.25em;color: #696969;}#sk-container-id-8 label.sk-toggleable__label-arrow:hover:before {color: black;}#sk-container-id-8 div.sk-estimator:hover label.sk-toggleable__label-arrow:before {color: black;}#sk-container-id-8 div.sk-toggleable__content {max-height: 0;max-width: 0;overflow: hidden;text-align: left;background-color: #f0f8ff;}#sk-container-id-8 div.sk-toggleable__content pre {margin: 0.2em;color: black;border-radius: 0.25em;background-color: #f0f8ff;}#sk-container-id-8 input.sk-toggleable__control:checked~div.sk-toggleable__content {max-height: 200px;max-width: 100%;overflow: auto;}#sk-container-id-8 input.sk-toggleable__control:checked~label.sk-toggleable__label-arrow:before {content: \"▾\";}#sk-container-id-8 div.sk-estimator input.sk-toggleable__control:checked~label.sk-toggleable__label {background-color: #d4ebff;}#sk-container-id-8 div.sk-label input.sk-toggleable__control:checked~label.sk-toggleable__label {background-color: #d4ebff;}#sk-container-id-8 input.sk-hidden--visually {border: 0;clip: rect(1px 1px 1px 1px);clip: rect(1px, 1px, 1px, 1px);height: 1px;margin: -1px;overflow: hidden;padding: 0;position: absolute;width: 1px;}#sk-container-id-8 div.sk-estimator {font-family: monospace;background-color: #f0f8ff;border: 1px dotted black;border-radius: 0.25em;box-sizing: border-box;margin-bottom: 0.5em;}#sk-container-id-8 div.sk-estimator:hover {background-color: #d4ebff;}#sk-container-id-8 div.sk-parallel-item::after {content: \"\";width: 100%;border-bottom: 1px solid gray;flex-grow: 1;}#sk-container-id-8 div.sk-label:hover label.sk-toggleable__label {background-color: #d4ebff;}#sk-container-id-8 div.sk-serial::before {content: \"\";position: absolute;border-left: 1px solid gray;box-sizing: border-box;top: 0;bottom: 0;left: 50%;z-index: 0;}#sk-container-id-8 div.sk-serial {display: flex;flex-direction: column;align-items: center;background-color: white;padding-right: 0.2em;padding-left: 0.2em;position: relative;}#sk-container-id-8 div.sk-item {position: relative;z-index: 1;}#sk-container-id-8 div.sk-parallel {display: flex;align-items: stretch;justify-content: center;background-color: white;position: relative;}#sk-container-id-8 div.sk-item::before, #sk-container-id-8 div.sk-parallel-item::before {content: \"\";position: absolute;border-left: 1px solid gray;box-sizing: border-box;top: 0;bottom: 0;left: 50%;z-index: -1;}#sk-container-id-8 div.sk-parallel-item {display: flex;flex-direction: column;z-index: 1;position: relative;background-color: white;}#sk-container-id-8 div.sk-parallel-item:first-child::after {align-self: flex-end;width: 50%;}#sk-container-id-8 div.sk-parallel-item:last-child::after {align-self: flex-start;width: 50%;}#sk-container-id-8 div.sk-parallel-item:only-child::after {width: 0;}#sk-container-id-8 div.sk-dashed-wrapped {border: 1px dashed gray;margin: 0 0.4em 0.5em 0.4em;box-sizing: border-box;padding-bottom: 0.4em;background-color: white;}#sk-container-id-8 div.sk-label label {font-family: monospace;font-weight: bold;display: inline-block;line-height: 1.2em;}#sk-container-id-8 div.sk-label-container {text-align: center;}#sk-container-id-8 div.sk-container {/* jupyter's `normalize.less` sets `[hidden] { display: none; }` but bootstrap.min.css set `[hidden] { display: none !important; }` so we also need the `!important` here to be able to override the default hidden behavior on the sphinx rendered scikit-learn.org. See: https://github.com/scikit-learn/scikit-learn/issues/21755 */display: inline-block !important;position: relative;}#sk-container-id-8 div.sk-text-repr-fallback {display: none;}</style><div id=\"sk-container-id-8\" class=\"sk-top-container\"><div class=\"sk-text-repr-fallback\"><pre>GridSearchCV(cv=5, estimator=RandomForestClassifier(), n_jobs=-1,\n",
              "             param_grid={&#x27;max_depth&#x27;: [10, 100], &#x27;min_samples_leaf&#x27;: [3, 7],\n",
              "                         &#x27;min_samples_split&#x27;: [3],\n",
              "                         &#x27;n_estimators&#x27;: [100, 550, 1000]},\n",
              "             scoring=&#x27;recall&#x27;, verbose=2)</pre><b>In a Jupyter environment, please rerun this cell to show the HTML representation or trust the notebook. <br />On GitHub, the HTML representation is unable to render, please try loading this page with nbviewer.org.</b></div><div class=\"sk-container\" hidden><div class=\"sk-item sk-dashed-wrapped\"><div class=\"sk-label-container\"><div class=\"sk-label sk-toggleable\"><input class=\"sk-toggleable__control sk-hidden--visually\" id=\"sk-estimator-id-20\" type=\"checkbox\" ><label for=\"sk-estimator-id-20\" class=\"sk-toggleable__label sk-toggleable__label-arrow\">GridSearchCV</label><div class=\"sk-toggleable__content\"><pre>GridSearchCV(cv=5, estimator=RandomForestClassifier(), n_jobs=-1,\n",
              "             param_grid={&#x27;max_depth&#x27;: [10, 100], &#x27;min_samples_leaf&#x27;: [3, 7],\n",
              "                         &#x27;min_samples_split&#x27;: [3],\n",
              "                         &#x27;n_estimators&#x27;: [100, 550, 1000]},\n",
              "             scoring=&#x27;recall&#x27;, verbose=2)</pre></div></div></div><div class=\"sk-parallel\"><div class=\"sk-parallel-item\"><div class=\"sk-item\"><div class=\"sk-label-container\"><div class=\"sk-label sk-toggleable\"><input class=\"sk-toggleable__control sk-hidden--visually\" id=\"sk-estimator-id-21\" type=\"checkbox\" ><label for=\"sk-estimator-id-21\" class=\"sk-toggleable__label sk-toggleable__label-arrow\">estimator: RandomForestClassifier</label><div class=\"sk-toggleable__content\"><pre>RandomForestClassifier()</pre></div></div></div><div class=\"sk-serial\"><div class=\"sk-item\"><div class=\"sk-estimator sk-toggleable\"><input class=\"sk-toggleable__control sk-hidden--visually\" id=\"sk-estimator-id-22\" type=\"checkbox\" ><label for=\"sk-estimator-id-22\" class=\"sk-toggleable__label sk-toggleable__label-arrow\">RandomForestClassifier</label><div class=\"sk-toggleable__content\"><pre>RandomForestClassifier()</pre></div></div></div></div></div></div></div></div></div></div>"
            ],
            "text/plain": [
              "GridSearchCV(cv=5, estimator=RandomForestClassifier(), n_jobs=-1,\n",
              "             param_grid={'max_depth': [10, 100], 'min_samples_leaf': [3, 7],\n",
              "                         'min_samples_split': [3],\n",
              "                         'n_estimators': [100, 550, 1000]},\n",
              "             scoring='recall', verbose=2)"
            ]
          },
          "execution_count": 66,
          "metadata": {},
          "output_type": "execute_result"
        }
      ],
      "source": [
        "# Train with Grid Search\n",
        "rf_gridcv = GridSearchCV(estimator=RandomForestClassifier(),\n",
        "                         param_grid=grid_search_params,\n",
        "                         cv=5,\n",
        "                         n_jobs=-1,\n",
        "                         verbose=2,\n",
        "                         scoring='recall')\n",
        "\n",
        "rf_gridcv.fit(X_train_final_sample, y_train_sample)"
      ]
    },
    {
      "cell_type": "markdown",
      "metadata": {},
      "source": [
        "Best Param"
      ]
    },
    {
      "cell_type": "code",
      "execution_count": 67,
      "metadata": {},
      "outputs": [
        {
          "data": {
            "text/plain": [
              "{'max_depth': 100,\n",
              " 'min_samples_leaf': 7,\n",
              " 'min_samples_split': 3,\n",
              " 'n_estimators': 1000}"
            ]
          },
          "execution_count": 67,
          "metadata": {},
          "output_type": "execute_result"
        }
      ],
      "source": [
        "# Get Best Param\n",
        "rf_gridcv.best_params_"
      ]
    },
    {
      "cell_type": "markdown",
      "metadata": {},
      "source": [
        "Best Estimator"
      ]
    },
    {
      "cell_type": "code",
      "execution_count": 68,
      "metadata": {},
      "outputs": [],
      "source": [
        "# Get Best Param\n",
        "rf_gridcv_best = rf_gridcv.best_estimator_"
      ]
    },
    {
      "cell_type": "markdown",
      "metadata": {},
      "source": [
        "**Predict terhadap data Train dari hasil best estimator GridSearch**"
      ]
    },
    {
      "cell_type": "code",
      "execution_count": 69,
      "metadata": {},
      "outputs": [
        {
          "name": "stdout",
          "output_type": "stream",
          "text": [
            "F1 Score - Train Set  :  0.7538657576535892 \n",
            "\n",
            "Classification Report : \n",
            "               precision    recall  f1-score   support\n",
            "\n",
            "           0       0.76      0.74      0.75    396686\n",
            "           1       0.75      0.76      0.75    396390\n",
            "\n",
            "    accuracy                           0.75    793076\n",
            "   macro avg       0.75      0.75      0.75    793076\n",
            "weighted avg       0.75      0.75      0.75    793076\n",
            " \n",
            "\n",
            "Confusion Matrix      : \n",
            " <sklearn.metrics._plot.confusion_matrix.ConfusionMatrixDisplay object at 0x000002050957D3D0>\n"
          ]
        },
        {
          "data": {
            "image/png": "[encoded data removed]",
            "text/plain": [
              "<Figure size 640x480 with 2 Axes>"
            ]
          },
          "metadata": {},
          "output_type": "display_data"
        }
      ],
      "source": [
        "# Check Performance Model against Train-Set\n",
        "\n",
        "y_pred_train = rf_gridcv_best.predict(X_train_final)\n",
        "\n",
        "print('F1 Score - Train Set  : ', f1_score(y_train, y_pred_train), '\\n')\n",
        "print('Classification Report : \\n', classification_report(y_train, y_pred_train), '\\n')\n",
        "print('Confusion Matrix      : \\n', ConfusionMatrixDisplay.from_estimator(rf_gridcv_best, X_train_final, y_train, cmap='Reds'))"
      ]
    },
    {
      "cell_type": "markdown",
      "metadata": {},
      "source": [
        "**Predict terhadap data Test dari hasil best estimator GridSearch**"
      ]
    },
    {
      "cell_type": "code",
      "execution_count": 70,
      "metadata": {},
      "outputs": [
        {
          "name": "stdout",
          "output_type": "stream",
          "text": [
            "F1 Score - Test Set  :  0.7357783649037959 \n",
            "\n",
            "Classification Report : \n",
            "               precision    recall  f1-score   support\n",
            "\n",
            "           0       0.74      0.72      0.73     99172\n",
            "           1       0.73      0.75      0.74     99098\n",
            "\n",
            "    accuracy                           0.73    198270\n",
            "   macro avg       0.73      0.73      0.73    198270\n",
            "weighted avg       0.73      0.73      0.73    198270\n",
            " \n",
            "\n",
            "Confusion Matrix      : \n",
            " <sklearn.metrics._plot.confusion_matrix.ConfusionMatrixDisplay object at 0x0000020509607510>\n"
          ]
        },
        {
          "data": {
            "image/png": "[encoded data removed]",
            "text/plain": [
              "<Figure size 640x480 with 2 Axes>"
            ]
          },
          "metadata": {},
          "output_type": "display_data"
        }
      ],
      "source": [
        "# Check Performance Model against Test-Set\n",
        "\n",
        "y_pred_test = rf_gridcv_best.predict(X_test_final)\n",
        "\n",
        "print('F1 Score - Test Set  : ', f1_score(y_test, y_pred_test), '\\n')\n",
        "print('Classification Report : \\n', classification_report(y_test, y_pred_test), '\\n')\n",
        "print('Confusion Matrix      : \\n', ConfusionMatrixDisplay.from_estimator(rf_gridcv_best, X_test_final, y_test, cmap='Reds'))"
      ]
    },
    {
      "cell_type": "markdown",
      "metadata": {},
      "source": [
        "Setelah kita lakukan predict menggunakan hyperparameter tunning terhadap data train dan test untuk model Random Forest hasilnya recall score nya pada data train mengalami penurunan setelah hyperparameter tunning sedangkan untuk data testnya mengalami peningkatan namun tidak signifikan dari 0.73 menjadi 0.75"
      ]
    },
    {
      "cell_type": "markdown",
      "metadata": {
        "id": "-gzoVV4NA6Ff"
      },
      "source": [
        "# 9. Model Saving"
      ]
    },
    {
      "cell_type": "code",
      "execution_count": 71,
      "metadata": {
        "id": "69m8LPDxBBkl"
      },
      "outputs": [],
      "source": [
        "# Save the Files\n",
        "\n",
        "import pickle, joblib\n",
        "import json\n",
        "\n",
        "with open('rf_gridcv_best.pkl', 'wb') as file_1:\n",
        "  pickle.dump(rf_gridcv_best, file_1)\n",
        "\n",
        "with open('preprocessing_pipeline.pkl', 'wb') as file_2:\n",
        "  pickle.dump(preprocessing_pipeline, file_2)\n",
        "\n",
        "with open('list_num_cols.txt', 'w') as file_4:\n",
        "  json.dump(cat_list, file_4)\n",
        "\n",
        "with open('list_cat_cols.txt','w') as file_5:\n",
        "  json.dump(num_list, file_5)"
      ]
    },
    {
      "cell_type": "markdown",
      "metadata": {
        "id": "ngf9D1dwBc26"
      },
      "source": [
        "# 10. Pengambilan Kesimpulan"
      ]
    },
    {
      "cell_type": "markdown",
      "metadata": {},
      "source": [
        "Saat Evaluasi model antara KNN, SVM, Decision Tree, Random Forest dan Adaboost Decision Tree disimpulkan bahwa terdapat 2 model yang baik dalam memprediksi sesesorang merupakan Peminum yaitu SVM dan Random Forest berdasarkan nilai mean cross validationnya. Hanya saja proses pada model SVM memakan memory dan waktu yang lama dengan 900000 data sehingga kita memutuskan untuk menggunakan model Random Forest yang akan kita lakukan Hyperparameter tunning.\n",
        "\n",
        "Setelah kita lakukan Hyperparameter tunning dan lakukan predict pada data train dan test untuk model Random Forest hasil recall score nya pada data train mengalami penurunan setelah hyperparameter tunning sedangkan untuk data testnya mengalami peningkatan namun tidak signifikan dari 0.73 menjadi 0.75 sehingga disimpulkan model sudah cukup baik untuk memprediksi seseorang merupakan Peminum."
      ]
    },
    {
      "cell_type": "markdown",
      "metadata": {
        "id": "ZBlVhK4MBfGI"
      },
      "source": [
        "## Conceptual Problems\n",
        "\n",
        "1. Jelaskan latar belakang adanya bagging dan cara kerja bagging !\\\n",
        "Bagging dikembangkan sebagai metode untuk mengatasi masalah overfitting dalam machine learning.\\\n",
        "Cara Kerja Bagging : - setiap model dilatih secara independen pada sub kumpulan data train yang berbeda.\\\n",
        "                     - prediksi dari masing masing sub data train kemudian digabungkan biasanya untuk kasus regresi diambil nilai rata ratanya dan untuk kasus klasifikasi diambil modusnya\n",
        "\n",
        "2. Jelaskan perbedaan cara kerja algoritma Random Forest dengan algoritma boosting yang Anda pilih !\n",
        "- Random Forest: secara berkali-kali melakukan bootstrap terhadap data training dan menyusun pohon klasifikasi berdasarkan data hasil resampling tersebut, dan kemudian proses prediksi dilakukan dengan mengagregasi hasil prediksi dari banyak pohon yang umumnya menggunakan pendekatan majority vote. proses predict tidak bergantung pada pohon lain\n",
        "- Adaboost : proses predict bergantung pada pohon lain(sekuensial)\n",
        "\n",
        "3. Jelaskan apa yang dimaksud dengan Cross Validation !\n",
        "Cross validation adalah teknik evaluasi kinerja model berdasarkan sub dari data train tujuannya untuk mengevaluasi kinerja model pada data yang belum pernah di train sebelumnya. "
      ]
    }
  ],
  "metadata": {
    "colab": {
      "provenance": []
    },
    "kernelspec": {
      "display_name": "Python 3",
      "name": "python3"
    },
    "language_info": {
      "codemirror_mode": {
        "name": "ipython",
        "version": 3
      },
      "file_extension": ".py",
      "mimetype": "text/x-python",
      "name": "python",
      "nbconvert_exporter": "python",
      "pygments_lexer": "ipython3",
      "version": "3.11.5"
    }
  },
  "nbformat": 4,
  "nbformat_minor": 0
}
